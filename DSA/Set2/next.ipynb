{
 "cells": [
  {
   "cell_type": "code",
   "execution_count": null,
   "id": "ef86cf4a",
   "metadata": {},
   "outputs": [],
   "source": [
    "https://neetcode.io/problems/sqrtx?list=neetcode250 ->C 8/8\n",
    "7/8\n",
    "https://neetcode.io/problems/find-minimum-in-rotated-sorted-array?list=neetcode250\n",
    "https://neetcode.io/problems/find-target-in-rotated-sorted-array?list=neetcode250\n",
    "https://neetcode.io/problems/eating-bananas?list=neetcode250  ->C 8/8\n",
    "https://neetcode.io/problems/capacity-to-ship-packages-within-d-days?list=neetcode250\n",
    "https://neetcode.io/problems/products-of-array-discluding-self?list=neetcode250 ->D\n",
    "https://neetcode.io/problems/longest-consecutive-sequence?list=neetcode250 -> try Hash set\n",
    "https://neetcode.io/problems/valid-palindrome-ii?list=neetcode250"
   ]
  },
  {
   "cell_type": "code",
   "execution_count": null,
   "id": "e35cae5b",
   "metadata": {},
   "outputs": [],
   "source": [
    "https://neetcode.io/problems/boats-to-save-people?list=neetcode250"
   ]
  }
 ],
 "metadata": {
  "language_info": {
   "name": "python"
  }
 },
 "nbformat": 4,
 "nbformat_minor": 5
}
