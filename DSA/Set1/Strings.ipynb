{
 "cells": [
  {
   "cell_type": "code",
   "execution_count": 7,
   "id": "4ae89d59",
   "metadata": {},
   "outputs": [
    {
     "name": "stdout",
     "output_type": "stream",
     "text": [
      "geksfor\n"
     ]
    }
   ],
   "source": [
    "#1. Remove duplicates from string\n",
    "\n",
    "def remove_duplicates(s:str) ->str:\n",
    "    # no_dup_str:str = set(s)\n",
    "    # return \"\".join(no_dup_str)\n",
    "\n",
    "    unique = []\n",
    "    seen = set()\n",
    "    for c in s:\n",
    "        if c.lower() not in seen:\n",
    "            unique.append(c)\n",
    "            seen.add(c.lower())\n",
    "    return \"\".join(unique)\n",
    "\n",
    "print(remove_duplicates(\"geeksforgeeks\"))"
   ]
  },
  {
   "cell_type": "code",
   "execution_count": 13,
   "id": "b374bf6b",
   "metadata": {},
   "outputs": [
    {
     "name": "stdout",
     "output_type": "stream",
     "text": [
      "ompuer\n"
     ]
    }
   ],
   "source": [
    "#2. Remove characters from the first string which are present in the second string\n",
    "\n",
    "def remove_char(f:str,s:str)->str:\n",
    "    new = []\n",
    "    unique = set(s.lower())\n",
    "    for c in f:\n",
    "        if c.lower() not in unique:\n",
    "            new.append(c)\n",
    "    return \"\".join(new)\n",
    "\n",
    "print(remove_char(\"computer\",\"cat\"))\n"
   ]
  },
  {
   "cell_type": "code",
   "execution_count": null,
   "id": "5c81a9d0",
   "metadata": {},
   "outputs": [
    {
     "name": "stdout",
     "output_type": "stream",
     "text": [
      "False\n"
     ]
    }
   ],
   "source": [
    "#3. Check if strings are rotations of each other\n",
    "\n",
    "def check_if_rotation_string(s1:str,s2:str)->bool:\n",
    "\n",
    "    if len(s1)!= len(s2):\n",
    "        return False\n",
    "\n",
    "    rotation = s1.lower()+s1.lower()\n",
    "\n",
    "    if s2.lower() in rotation:\n",
    "        return True\n",
    "    return False\n",
    "\n",
    "print(check_if_rotation_string(\"abcd\",\"acbd\"))\n"
   ]
  },
  {
   "cell_type": "code",
   "execution_count": null,
   "id": "9a9b66b7",
   "metadata": {},
   "outputs": [
    {
     "name": "stdout",
     "output_type": "stream",
     "text": [
      "['a', 'ab', 'abc', 'b', 'bc', 'c']\n"
     ]
    }
   ],
   "source": [
    "#4. Print all permutations of a given string\n",
    "\n",
    "# from typing import List\n",
    "\n",
    "# permutations = []\n",
    "# def all_permutation(s:str)->List[str]:\n",
    "#     for i in range(len(s)):\n",
    "        \n",
    "#         for j in range(i,len(s)):\n",
    "#             permutations.append(s[i:j+1])\n",
    "#     return permutations\n",
    "\n",
    "# print(all_permutation(\"abc\"))"
   ]
  },
  {
   "cell_type": "code",
   "execution_count": 25,
   "id": "8564056f",
   "metadata": {},
   "outputs": [
    {
     "name": "stdout",
     "output_type": "stream",
     "text": [
      "['much', 'very', 'program', 'this', 'like', 'i']\n"
     ]
    }
   ],
   "source": [
    "#5. Reverse words in a given string\n",
    "\n",
    "\n",
    "def reverse_words(s:str,sep:str)->str:\n",
    "    wordlist = s.split(sep)\n",
    "    reverse_list = wordlist[::-1]\n",
    "    return reverse_list\n",
    "\n",
    "print(reverse_words(\"i.like.this.program.very.much\",\".\"))"
   ]
  },
  {
   "cell_type": "code",
   "execution_count": null,
   "id": "d434be29",
   "metadata": {},
   "outputs": [],
   "source": [
    "#6. Find the smallest window in a string containing all the characters of the second string\n",
    "#Sliding window"
   ]
  },
  {
   "cell_type": "code",
   "execution_count": null,
   "id": "ceabc6d3",
   "metadata": {},
   "outputs": [],
   "source": [
    "#7. Check whether two strings are anagrams of each other\n",
    "\n",
    "def check_anagram(s1:str,s2:str)->bool:\n",
    "    if  len(s1)!=len(s2):\n",
    "        return False\n",
    "    \n",
    "    if sorted(s1.lower()) == sorted(s2.lower()):\n",
    "        return True\n",
    "    return False\n",
    "\n"
   ]
  },
  {
   "cell_type": "code",
   "execution_count": 41,
   "id": "3088426e",
   "metadata": {},
   "outputs": [
    {
     "name": "stdout",
     "output_type": "stream",
     "text": [
      "1\n",
      "12\n",
      "123\n",
      "-123\n"
     ]
    }
   ],
   "source": [
    "#8. Write your own atoi()\n",
    "\n",
    "dict_num = {\"0\":0,'1':1,'2':2,'3':3,'4':4,'5':5,'6':6,'7':7,'8':8,'9':9}\n",
    "\n",
    "def atoi(s:str)->int:\n",
    "\n",
    "    if s[0] == '-':\n",
    "        sym = -1\n",
    "        s = s[1:]\n",
    "    else:\n",
    "        sym = 1\n",
    "\n",
    "    num = 0\n",
    "    for i in range(len(s)):\n",
    "        if s[i] in dict_num:\n",
    "            num = num * 10 + dict_num[s[i]]\n",
    "            print(num)\n",
    "        else:\n",
    "            raise Exception(f'not a number at position {i}')\n",
    "    return num*sym\n",
    "\n",
    "print(atoi('-123'))"
   ]
  },
  {
   "cell_type": "code",
   "execution_count": null,
   "id": "ef87b341",
   "metadata": {},
   "outputs": [],
   "source": [
    "#9. Rearrange a string so that similar characters become d distance away\n",
    "\n",
    "#Max heap\n"
   ]
  },
  {
   "cell_type": "code",
   "execution_count": 66,
   "id": "b0a99e19",
   "metadata": {},
   "outputs": [
    {
     "name": "stdout",
     "output_type": "stream",
     "text": [
      "AA\n"
     ]
    }
   ],
   "source": [
    "#10. Find excel column name from a given column number\n",
    "\n",
    "def find_excel_col_name(n)->str:\n",
    "    # base case \n",
    "    if n == 0:\n",
    "        return \"\"\n",
    "    \n",
    "    # decrement n to handle 1 based indexing\n",
    "    n -= 1\n",
    "    \n",
    "    app = chr(n % 26 + ord('A'))\n",
    "    return find_excel_col_name(n // 26) + app\n",
    "\n",
    "# print(find_excel_col_name(26))\n",
    "print(find_excel_col_name(27))\n",
    "# print(find_excel_col_name(676))\n",
    "# print(find_excel_col_name(705))\n",
    "# print(find_excel_col_name(80))"
   ]
  }
 ],
 "metadata": {
  "kernelspec": {
   "display_name": ".venv",
   "language": "python",
   "name": "python3"
  },
  "language_info": {
   "codemirror_mode": {
    "name": "ipython",
    "version": 3
   },
   "file_extension": ".py",
   "mimetype": "text/x-python",
   "name": "python",
   "nbconvert_exporter": "python",
   "pygments_lexer": "ipython3",
   "version": "3.12.0"
  }
 },
 "nbformat": 4,
 "nbformat_minor": 5
}
