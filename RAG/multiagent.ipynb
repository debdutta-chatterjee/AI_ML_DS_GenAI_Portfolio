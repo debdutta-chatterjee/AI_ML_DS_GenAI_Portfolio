{
 "cells": [
  {
   "cell_type": "code",
   "execution_count": 2,
   "id": "0f1399bf",
   "metadata": {},
   "outputs": [
    {
     "name": "stderr",
     "output_type": "stream",
     "text": [
      "C:\\Users\\Debdutta Chatterjee\\AppData\\Local\\Temp\\ipykernel_19152\\1365120022.py:4: LangChainDeprecationWarning: The class `TavilySearchResults` was deprecated in LangChain 0.3.25 and will be removed in 1.0. An updated version of the class exists in the :class:`~langchain-tavily package and should be used instead. To use it run `pip install -U :class:`~langchain-tavily` and import as `from :class:`~langchain_tavily import TavilySearch``.\n",
      "  tavily = TavilySearchResults(max_results=5)\n"
     ]
    }
   ],
   "source": [
    "import os\n",
    "os.environ[\"TAVILY_API_KEY\"]=os.getenv('TAVILY_API_KEY')\n",
    "from langchain_community.tools.tavily_search import TavilySearchResults\n",
    "tavily = TavilySearchResults(max_results=5)"
   ]
  },
  {
   "cell_type": "code",
   "execution_count": 8,
   "id": "4b5dbd8a",
   "metadata": {},
   "outputs": [],
   "source": [
    "from langchain_google_genai import GoogleGenerativeAIEmbeddings\n",
    "\n",
    "embeddings = GoogleGenerativeAIEmbeddings(\n",
    "    model = 'models/text-embedding-004',\n",
    "   google_api_key =os.getenv('GOOGLE_API_KEY')\n",
    ")\n",
    "\n",
    "embeddings\n",
    "\n",
    "\n",
    "text=\"Hello, I am learning about embeddings!\"\n",
    "em = embeddings.embed_query(text)"
   ]
  },
  {
   "cell_type": "code",
   "execution_count": 7,
   "id": "a486223d",
   "metadata": {},
   "outputs": [
    {
     "data": {
      "text/plain": [
       "AIMessage(content='Hello! How can I help you today?', additional_kwargs={}, response_metadata={'prompt_feedback': {'block_reason': 0, 'safety_ratings': []}, 'finish_reason': 'STOP', 'model_name': 'gemini-2.0-flash', 'safety_ratings': []}, id='run--ab6673cf-fab5-4541-b76f-a8d951af363c-0', usage_metadata={'input_tokens': 1, 'output_tokens': 10, 'total_tokens': 11, 'input_token_details': {'cache_read': 0}})"
      ]
     },
     "execution_count": 7,
     "metadata": {},
     "output_type": "execute_result"
    }
   ],
   "source": [
    "from langchain_core.prompts import ChatPromptTemplate\n",
    "from langchain.chains.combine_documents import create_stuff_documents_chain\n",
    "from langchain.chains.retrieval import create_retrieval_chain\n",
    "from langchain_google_genai import ChatGoogleGenerativeAI\n",
    "import os\n",
    "model = ChatGoogleGenerativeAI(\n",
    "                model='gemini-2.0-flash',\n",
    "                google_api_key=os.getenv('GOOGLE_API_KEY'),\n",
    "                temperature=0,\n",
    "                max_output_tokens=1000\n",
    "            )\n",
    "\n",
    "model.invoke('Hello')"
   ]
  },
  {
   "cell_type": "code",
   "execution_count": 9,
   "id": "dfd12002",
   "metadata": {},
   "outputs": [
    {
     "data": {
      "text/plain": [
       "Tool(name='langchain_intro', description='langchain_intro', func=<function make_retriever_tool_from_text.<locals>.tool_func at 0x000001CF98EC5260>)"
      ]
     },
     "execution_count": 9,
     "metadata": {},
     "output_type": "execute_result"
    }
   ],
   "source": [
    "from langchain_tavily import TavilySearch\n",
    "from langchain_core.tools import tool\n",
    "from langchain.tools import WikipediaQueryRun\n",
    "from langchain.utilities import WikipediaAPIWrapper\n",
    "from langchain.document_loaders import TextLoader\n",
    "from langchain.vectorstores import FAISS\n",
    "from langchain.text_splitter import RecursiveCharacterTextSplitter\n",
    "\n",
    "\n",
    "from langchain.agents import Tool\n",
    "def make_retriever_tool_from_text(file,name,desc):\n",
    "    docs=TextLoader(file,encoding=\"utf-8\").load()\n",
    "    chunks = RecursiveCharacterTextSplitter(chunk_size=500, chunk_overlap=50).split_documents(docs)\n",
    "    vs = FAISS.from_documents(chunks, embeddings)\n",
    "    retriever = vs.as_retriever()\n",
    "\n",
    "    def tool_func(query:str)->str:\n",
    "        print(f\"📚 Using tool: {name}\")\n",
    "        results = retriever.invoke(query)\n",
    "        return \"\\n\\n\".join(doc.page_content for doc in results)\n",
    "    \n",
    "    return Tool(name=name,description=desc,func=tool_func)\n",
    "\n",
    "\n",
    "internal_tool_1=make_retriever_tool_from_text(\"langchain_intro.txt\",\n",
    "                                              \"langchain_intro\",\n",
    "                                              \"langchain_intro\")\n",
    "\n",
    "internal_tool_1"
   ]
  },
  {
   "cell_type": "code",
   "execution_count": 10,
   "id": "2074b476",
   "metadata": {},
   "outputs": [],
   "source": [
    "from langchain_core.messages import BaseMessage, HumanMessage\n",
    "from langgraph.prebuilt import create_react_agent\n",
    "from langgraph.graph import MessagesState, END\n",
    "from langgraph.types import Command\n",
    "\n",
    "def get_next_node(last_message: BaseMessage, goto: str):\n",
    "    if \"FINAL ANSWER\" in last_message.content:\n",
    "        # Any agent decided the work is done\n",
    "        return END\n",
    "    return goto\n",
    "\n",
    "\n",
    "def make_system_prompt(suffix: str) -> str:\n",
    "    return (\n",
    "        \"You are a helpful AI assistant, collaborating with other assistants.\"\n",
    "        \" Use the provided tools to progress towards answering the question.\"\n",
    "        \" If you are unable to fully answer, that's OK, another assistant with different tools \"\n",
    "        \" will help where you left off. Execute what you can to make progress.\"\n",
    "        \" If you or any of the other assistants have the final answer or deliverable,\"\n",
    "        \" prefix your response with FINAL ANSWER so the team knows to stop.\"\n",
    "        f\"\\n{suffix}\"\n",
    "    )"
   ]
  },
  {
   "cell_type": "code",
   "execution_count": 13,
   "id": "41f2f501",
   "metadata": {},
   "outputs": [
    {
     "data": {
      "image/png": "[encoded data removed]",
      "text/plain": [
       "<langgraph.graph.state.CompiledStateGraph object at 0x000001CFC495FE30>"
      ]
     },
     "execution_count": 13,
     "metadata": {},
     "output_type": "execute_result"
    }
   ],
   "source": [
    "research_agent=create_react_agent(\n",
    "    model,\n",
    "    tools=[internal_tool_1,tavily],\n",
    "    prompt=make_system_prompt(\"You can only do research. Use the tool that you are binded with, you can use both of them\" \\\n",
    "    \" You are working with a content writer colleague.\")\n",
    ")\n",
    "\n",
    "research_agent"
   ]
  },
  {
   "cell_type": "code",
   "execution_count": 14,
   "id": "f06f94c0",
   "metadata": {},
   "outputs": [],
   "source": [
    "from typing import Literal\n",
    "def research_node(state:MessagesState)-> Command[Literal[\"blog_generator\",END]]:\n",
    "    result = research_agent.invoke(state)\n",
    "    goto = get_next_node(result[\"messages\"][-1], \"blog_generator\")\n",
    "\n",
    "    # wrap in a human message, as not all providers allow\n",
    "    # AI message at the last position of the input messages list\n",
    "    result[\"messages\"][-1] = HumanMessage(\n",
    "        content=result[\"messages\"][-1].content, name=\"researcher\"\n",
    "    )\n",
    "    return Command(\n",
    "        update={\n",
    "            # share internal message history of research agent with other agents\n",
    "            \"messages\": result[\"messages\"],\n",
    "        },\n",
    "        goto=goto,\n",
    "    )\n"
   ]
  },
  {
   "cell_type": "code",
   "execution_count": 16,
   "id": "54d4ad67",
   "metadata": {},
   "outputs": [],
   "source": [
    "blog_agent=create_react_agent(\n",
    "    model,\n",
    "    tools=[],\n",
    "    prompt=make_system_prompt(\n",
    "        \"You can only write a detailed blog. You are working with a researcher colleague.\"\n",
    "    )\n",
    ")\n",
    "\n",
    "def blog_node(state: MessagesState) -> Command[Literal[\"researcher\", END]]:\n",
    "    result = blog_agent.invoke(state)\n",
    "    goto = get_next_node(result[\"messages\"][-1], \"researcher\")\n",
    "    # wrap in a human message, as not all providers allow\n",
    "    # AI message at the last position of the input messages list\n",
    "    result[\"messages\"][-1] = HumanMessage(\n",
    "        content=result[\"messages\"][-1].content, name=\"blog_generator\"\n",
    "    )\n",
    "    return Command(\n",
    "        update={\n",
    "            # share internal message history of chart agent with other agents\n",
    "            \"messages\": result[\"messages\"],\n",
    "        },\n",
    "        goto=goto,\n",
    "    )"
   ]
  },
  {
   "cell_type": "code",
   "execution_count": 17,
   "id": "2bdf1219",
   "metadata": {},
   "outputs": [
    {
     "data": {
      "image/png": "[encoded data removed]",
      "text/plain": [
       "<langgraph.graph.state.CompiledStateGraph object at 0x000001D02DA77D70>"
      ]
     },
     "execution_count": 17,
     "metadata": {},
     "output_type": "execute_result"
    }
   ],
   "source": [
    "from langgraph.graph import StateGraph, START\n",
    "\n",
    "workflow = StateGraph(MessagesState)\n",
    "workflow.add_node(\"researcher\", research_node)\n",
    "workflow.add_node(\"blog_generator\", blog_node)\n",
    "\n",
    "workflow.add_edge(START, \"researcher\")\n",
    "graph = workflow.compile()\n",
    "graph"
   ]
  },
  {
   "cell_type": "code",
   "execution_count": 18,
   "id": "ce7435d7",
   "metadata": {},
   "outputs": [
    {
     "data": {
      "text/plain": [
       "\"FINAL ANSWER:\\n```\\n## LangChain: The Open-Source Framework Revolutionizing LLM Application Development\\n\\nIn the rapidly evolving landscape of artificial intelligence, Large Language Models (LLMs) have emerged as powerful tools for a wide range of applications. However, harnessing the full potential of LLMs requires more than just access to the models themselves. Developers need frameworks that streamline the development process, simplify integration with external data sources, and provide the flexibility to customize LLM behavior. This is where LangChain comes in.\\n\\nLangChain is an open-source framework designed to simplify the creation of applications using LLMs. It provides a structured approach to building, deploying, and managing these applications, abstracting away much of the complexity involved in working with LLMs directly. Whether you're building AI chatbots, question-answering systems, or language summarization tools, LangChain offers a comprehensive set of tools and abstractions to accelerate your development process.\\n\\n**Key Benefits of Using LangChain**\\n\\n*   **Simplified LLM Integration:** LangChain provides a standard interface for interacting with various LLMs, such as GPT-4, making it easy to switch between models or combine them in complex workflows.\\n*   **Data Connectivity:** One of the key strengths of LangChain is its ability to connect LLMs to external data sources. This allows you to build applications that can reason about and respond to information beyond the LLM's pre-trained knowledge.\\n*   **Customizable Prompt Management:** LangChain facilitates managing and customizing prompts passed to the LLM. Developers can use PromptTemplates to define how inputs and outputs are formatted before being passed to the model. It also simplifies tasks like handling dynamic variables and prompt engineering, making it easier to control the LLM's behavior.\\n*   **Streamlined Application Lifecycle:** LangChain streamlines the entire application lifecycle, from development to production, allowing developers to focus on building innovative solutions without getting bogged down by the complexities of integrating various components and APIs.\\n*   **Ease of Use:** With a high-level API, LangChain simplifies the process of connecting language models to various data sources, making it accessible to developers of all skill levels.\\n*   **Open Source and Community-Driven:** LangChain is an open-source framework, meaning it's free to use and modify. This fosters a vibrant community of contributors and users who are constantly working to improve the framework and share their knowledge.\\n*   **Comprehensive Documentation:** LangChain provides thorough and easy-to-understand documentation, helping developers quickly grasp the framework’s capabilities and best practices.\\n\\n**How LangChain Works**\\n\\nLangChain follows a structured pipeline that integrates user queries, data retrieval, and response generation into a seamless workflow.\\n\\n1.  **User Query:** The process begins when a user submits a query or request.\\n2.  **Data Retrieval:** LangChain connects to external data sources to gather relevant information based on the user's query.\\n3.  **LLM Processing:** The retrieved data and the user's query are combined and passed to the LLM for processing.\\n4.  **Response Generation:** The LLM generates a response based on the input, which is then presented to the user.\\n\\n**Key Components of LangChain**\\n\\nWhile the specifics can get quite detailed, some key components of LangChain include:\\n\\n*   **Chains:** Chains are sequences of calls to LLMs or other utilities.\\n*   **Prompt Templates:** Prompt templates provide a way to structure and manage prompts for LLMs.\\n*   **Indexes:** Indexes help structure documents for LLMs to use.\\n*   **Memory:** Memory allows chains and agents to remember previous interactions.\\n*   **Agents:** Agents use an LLM to determine which actions to take.\\n\\n**Getting Started with LangChain**\\n\\nTo start using LangChain, you can install the framework using pip:\\n\\n```bash\\npip install langchain\\n```\\n\\n**Conclusion**\\n\\nLangChain is a powerful framework that is transforming the way developers build applications with LLMs. Its simplified integration, data connectivity, and customizable prompt management make it an essential tool for anyone working with these powerful models. As the field of AI continues to evolve, LangChain is poised to play a key role in shaping the future of LLM-powered applications.\\n```\""
      ]
     },
     "execution_count": 18,
     "metadata": {},
     "output_type": "execute_result"
    }
   ],
   "source": [
    "response=graph.invoke({\"messages\":\"Write a detailed blog on langchain\"})\n",
    "response[\"messages\"][-1].content"
   ]
  }
 ],
 "metadata": {
  "kernelspec": {
   "display_name": ".venv",
   "language": "python",
   "name": "python3"
  },
  "language_info": {
   "codemirror_mode": {
    "name": "ipython",
    "version": 3
   },
   "file_extension": ".py",
   "mimetype": "text/x-python",
   "name": "python",
   "nbconvert_exporter": "python",
   "pygments_lexer": "ipython3",
   "version": "3.12.0"
  }
 },
 "nbformat": 4,
 "nbformat_minor": 5
}
