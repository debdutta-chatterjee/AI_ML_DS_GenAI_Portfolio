{
 "cells": [
  {
   "cell_type": "code",
   "execution_count": 5,
   "id": "ebad4c34",
   "metadata": {},
   "outputs": [
    {
     "name": "stdout",
     "output_type": "stream",
     "text": [
      "True\n"
     ]
    }
   ],
   "source": [
    "# 1. Check for pair in array with sum as x\n",
    "\n",
    "def pair_in_array(arr,target):\n",
    "    seen = set()\n",
    "    for num in arr:        \n",
    "        complement = target- num\n",
    "        if complement in seen:\n",
    "            return True\n",
    "        seen.add(num)\n",
    "    return False\n",
    "\n",
    "\n",
    "arr =[0, -1, 2, -3, 1]\n",
    "target = -2\n",
    "print(pair_in_array(arr,target))"
   ]
  },
  {
   "cell_type": "code",
   "execution_count": 2,
   "id": "1e2157a2",
   "metadata": {},
   "outputs": [
    {
     "name": "stdout",
     "output_type": "stream",
     "text": [
      "6\n"
     ]
    }
   ],
   "source": [
    "#3. Largest subarray with equal number of 0s and 1s\n",
    "\n",
    "def longest_equal_01_1(arr):\n",
    "    # Convert 0s to -1s\n",
    "    arr = [-1 if num == 0 else 1 for num in arr]\n",
    "    sum_to_index = {}\n",
    "    max_len = 0\n",
    "    prefix_sum = 0\n",
    "\n",
    "    for i, num in enumerate(arr):\n",
    "        prefix_sum += num\n",
    "        if prefix_sum == 0:\n",
    "            max_len = i + 1\n",
    "        elif prefix_sum in sum_to_index:\n",
    "            max_len = max(max_len, i - sum_to_index[prefix_sum])\n",
    "        else:\n",
    "            sum_to_index[prefix_sum] = i\n",
    "\n",
    "    return max_len\n",
    "\n",
    "def longest_equal_01(arr):\n",
    "    res =0\n",
    "    for i in range(len(arr)):\n",
    "        sum =0\n",
    "        for j in range(i,len(arr)):\n",
    "            sum+= -1 if arr[j] ==0 else 1\n",
    "\n",
    "            if sum ==0:\n",
    "                res = max(res,j-i+1)\n",
    "    return res\n",
    "\n",
    "arr = [0, 1, 0, 1, 1, 0, 0]\n",
    "print(longest_equal_01(arr))  # Output: 6"
   ]
  },
  {
   "cell_type": "code",
   "execution_count": 9,
   "id": "ef350454",
   "metadata": {},
   "outputs": [
    {
     "name": "stdout",
     "output_type": "stream",
     "text": [
      "True\n",
      "False\n"
     ]
    }
   ],
   "source": [
    "# Given an array of positive and negative numbers, \n",
    "# the task is to find if there is a subarray \n",
    "# (of size at least one) with 0 sum.\n",
    "\n",
    "# Examples: \n",
    "\n",
    "# Input: {4, 2, -3, 1, 6}\n",
    "# Output: true \n",
    "# Explanation:\n",
    "# There is a subarray with zero sum from index 1 to 3.\n",
    "\n",
    "# Input: {4, 2, 0, 1, 6}\n",
    "# Output: true\n",
    "# Explanation: The third element is zero. A single element is also a sub-array.\n",
    "\n",
    "# Input: {-3, 2, 3, 1, 6}\n",
    "# Output: false\n",
    "\n",
    "# 4. Find if there is a subarray with 0 sum\n",
    "\n",
    "def find_zero_sum_bf(arr):\n",
    "    for i in range(len(arr)):\n",
    "        sum=0\n",
    "        for j in range(i,len(arr)):\n",
    "            sum+=arr[j]\n",
    "            \n",
    "            if sum ==0:\n",
    "                return True\n",
    "    return False\n",
    "\n",
    "\n",
    "def find_zero_sum(arr):\n",
    "    seen = set()\n",
    "    sum=0\n",
    "    for i in range(len(arr)):\n",
    "        sum+=arr[i]\n",
    "\n",
    "        if sum ==0 or sum in seen:\n",
    "            return True\n",
    "        seen.add(sum)\n",
    "    return False\n",
    "\n",
    "print(find_zero_sum([4, 2, -3, 1, 6]))\n",
    "print(find_zero_sum([-3, 2, 3, 1, 6]))"
   ]
  },
  {
   "cell_type": "code",
   "execution_count": 2,
   "id": "a665d43e",
   "metadata": {},
   "outputs": [
    {
     "name": "stdout",
     "output_type": "stream",
     "text": [
      "{'Chennai': 'Bangalore', 'Bombay': 'Delhi', 'Goa': 'Chennai', 'Delhi': 'Goa'}\n",
      "{'Bangalore': 'Chennai', 'Delhi': 'Bombay', 'Chennai': 'Goa', 'Goa': 'Delhi'}\n",
      "Bombay\n",
      "Bombay -> Delhi\n",
      "Delhi -> Goa\n",
      "Goa -> Chennai\n",
      "Chennai -> Bangalore\n"
     ]
    }
   ],
   "source": [
    "# 7. Find itinerary from a given list of tickets\n",
    "\n",
    "def findItinerary(arr):\n",
    "    map = dict()\n",
    "    reverse_map = dict()\n",
    "\n",
    "    for i in arr:\n",
    "        if i[0] not in map:\n",
    "            map[i[0]] = i[1]\n",
    "    print(map)\n",
    "\n",
    "    for i in arr:\n",
    "        if i[1] not in reverse_map:\n",
    "            reverse_map[i[1]] = i[0]\n",
    "    print(reverse_map)\n",
    "\n",
    "    # Find the starting point of itinerary\n",
    "    start = \"\"\n",
    "    for i in range(len(arr)):\n",
    "        if arr[i][0] not in reverse_map:\n",
    "            start = arr[i][0]\n",
    "            break\n",
    "    print(start)\n",
    "\n",
    "    # Once we have starting point, we simple need to go next,\n",
    "    # next of next using given hash map\n",
    "    ans =[]\n",
    "    while start in map:\n",
    "        ans.append([start, map[start]])\n",
    "        start = map[start]\n",
    "\n",
    "    return ans\n",
    "\n",
    "\n",
    "if __name__ == \"__main__\":\n",
    "    arr = [[\"Chennai\", \"Bangalore\"], [\"Bombay\", \"Delhi\"], \n",
    "           [\"Goa\", \"Chennai\"], [\"Delhi\", \"Goa\"]]\n",
    "\n",
    "    res = findItinerary(arr)\n",
    "    for i in res:\n",
    "        print(i[0], \"->\", i[1])"
   ]
  },
  {
   "cell_type": "code",
   "execution_count": 7,
   "id": "54e7c25d",
   "metadata": {},
   "outputs": [
    {
     "name": "stdout",
     "output_type": "stream",
     "text": [
      "5\n"
     ]
    }
   ],
   "source": [
    "# 8. Largest subarray with 0 sum\n",
    "\n",
    "def largest_subarray_bf(arr):\n",
    "    sum = set()\n",
    "\n",
    "    current = 0\n",
    "    maxlength =0\n",
    "    length =0\n",
    "    for i in range(len(arr)):\n",
    "        current =0\n",
    "        length=0\n",
    "        for j in range(i,len(arr)):\n",
    "            current += arr[j]\n",
    "            length+=1\n",
    "            if current ==0:\n",
    "                maxlength = max(maxlength,length)\n",
    "    return maxlength\n",
    "\n",
    "\n",
    "\n",
    "def largest_subarray(arr):\n",
    "    prefix_sum = 0\n",
    "    maxlength =0\n",
    "    sum_index_map = {}\n",
    "\n",
    "    for i, num in enumerate(arr):\n",
    "        prefix_sum += num\n",
    "            \n",
    "        if prefix_sum == 0:\n",
    "            maxlength= i+1\n",
    "        elif prefix_sum in sum_index_map:\n",
    "            maxlength = max(maxlength,i-sum_index_map[prefix_sum])\n",
    "        else:    \n",
    "          sum_index_map[prefix_sum] = i\n",
    "\n",
    "    return maxlength\n",
    "\n",
    "print(largest_subarray([15, -2, 2, -8, 1, 7, 10]))"
   ]
  },
  {
   "cell_type": "code",
   "execution_count": 9,
   "id": "9eccaebb",
   "metadata": {},
   "outputs": [
    {
     "name": "stdout",
     "output_type": "stream",
     "text": [
      "6\n"
     ]
    }
   ],
   "source": [
    "#3. Largest subarray with equal number of 0s and 1s \n",
    "\n",
    "def largest_subarray_01(arr):\n",
    "    maxlength=0\n",
    "    prefixSum=0\n",
    "    sum_map ={}\n",
    "\n",
    "    for i, num in enumerate(arr):\n",
    "        prefixSum+=-1 if num==0 else 1\n",
    "\n",
    "        if prefixSum ==0:\n",
    "            maxlength=i+1\n",
    "        elif prefixSum in sum_map:\n",
    "            maxlength = max(maxlength,i-sum_map[prefixSum])\n",
    "        else:\n",
    "            sum_map[prefixSum] =i\n",
    "    return maxlength\n",
    "\n",
    "\n",
    "\n",
    "print(largest_subarray_01([1, 0, 1, 1, 1, 0, 0]))\n",
    "\n"
   ]
  },
  {
   "cell_type": "code",
   "execution_count": null,
   "id": "0b187f68",
   "metadata": {},
   "outputs": [
    {
     "name": "stdout",
     "output_type": "stream",
     "text": [
      "[10, 20, 30, 40]\n",
      "{10: 0, 20: 1, 30: 2, 40: 3}\n",
      "[40, 20, 30]\n",
      "{20: 1, 30: 2, 40: 0}\n"
     ]
    }
   ],
   "source": [
    "#6. Special data structure\n",
    "\n",
    "# Design a data structure that supports the following operations in O(1) time.\n",
    "\n",
    "# insert(x): Inserts an item x to the data structure if not already present.\n",
    "# remove(x): Removes item x from the data structure if present. \n",
    "# search(x): Searches an item x in the data structure.\n",
    "# getRandom(): Returns a random element from the current set of elements \n",
    "\n",
    "\n",
    "class MyDs:\n",
    "\n",
    "    def __init__(self):\n",
    "        self.arr = []\n",
    "        self.map = {}\n",
    "        self.size=0\n",
    "\n",
    "    def insert(self,x):\n",
    "        if x not in self.map:\n",
    "            index = self.size\n",
    "            self.arr.append(x)\n",
    "            self.size+=1\n",
    "            self.map[x] = index\n",
    "\n",
    "    def remove(self,x):\n",
    "        if x in self.map:\n",
    "            index = self.map[x]\n",
    "            del self.map[x]\n",
    "            if index!=self.size-1:\n",
    "                self.arr[last],self.arr[index]=self.arr[index],self.arr[last]\n",
    "                if last!=index:\n",
    "                    self.map[self.arr[index]]=index\n",
    "\n",
    "            arr.pop()\n",
    "            self.size-=1\n",
    "        \n",
    "        \n",
    "        \n",
    "        if x in self.map:\n",
    "            \n",
    "            index = self.map[x]\n",
    "            del self.map[x]\n",
    "            if index!= self.size-1:\n",
    "                last = self.size - 1\n",
    "                self.arr[index], self.arr[last] = self.arr[last], self.arr[index]\n",
    "                if last != index:\n",
    "                    self.map[self.arr[index]] = index\n",
    "\n",
    "            self.arr.pop()\n",
    "            self.size-=1\n",
    "\n",
    "    def print(self):\n",
    "        print(self.arr)\n",
    "        print(self.map)\n",
    "\n",
    "ds = MyDs()\n",
    "ds.insert(10)\n",
    "ds.insert(20)\n",
    "ds.insert(30)\n",
    "ds.insert(40)\n",
    "ds.print()\n",
    "\n",
    "\n",
    "ds.remove(10)\n",
    "ds.print()\n"
   ]
  },
  {
   "cell_type": "code",
   "execution_count": 14,
   "id": "ed0dfdb6",
   "metadata": {},
   "outputs": [
    {
     "ename": "NameError",
     "evalue": "name 'x' is not defined",
     "output_type": "error",
     "traceback": [
      "\u001b[31m---------------------------------------------------------------------------\u001b[39m",
      "\u001b[31mNameError\u001b[39m                                 Traceback (most recent call last)",
      "\u001b[36mCell\u001b[39m\u001b[36m \u001b[39m\u001b[32mIn[14]\u001b[39m\u001b[32m, line 1\u001b[39m\n\u001b[32m----> \u001b[39m\u001b[32m1\u001b[39m \u001b[38;5;28;01mif\u001b[39;00m \u001b[43mx\u001b[49m \u001b[38;5;129;01min\u001b[39;00m \u001b[38;5;28mself\u001b[39m.map:\n\u001b[32m      2\u001b[39m             index = \u001b[38;5;28mself\u001b[39m.map[x]\n\u001b[32m      3\u001b[39m             \u001b[38;5;28;01mdel\u001b[39;00m \u001b[38;5;28mself\u001b[39m.map[x]\n",
      "\u001b[31mNameError\u001b[39m: name 'x' is not defined"
     ]
    }
   ],
   "source": [
    "if x in self.map:\n",
    "            index = self.map[x]\n",
    "            del self.map[x]\n",
    "\n",
    "            if index != self.size - 1:\n",
    "                last = self.size - 1\n",
    "                self.arr[index], self.arr[last] = self.arr[last], self.arr[index]\n",
    "                if last != index:\n",
    "                    self.map[self.arr[index]] = index\n",
    "            self.arr.pop()\n",
    "            self.size-=1"
   ]
  },
  {
   "cell_type": "code",
   "execution_count": null,
   "id": "a6cac1a7",
   "metadata": {},
   "outputs": [
    {
     "ename": "IndentationError",
     "evalue": "unexpected indent (133545251.py, line 1)",
     "output_type": "error",
     "traceback": [
      "  \u001b[36mCell\u001b[39m\u001b[36m \u001b[39m\u001b[32mIn[7]\u001b[39m\u001b[32m, line 1\u001b[39m\n\u001b[31m    \u001b[39m\u001b[31m2. Vertical sum in binary tree\u001b[39m\n    ^\n\u001b[31mIndentationError\u001b[39m\u001b[31m:\u001b[39m unexpected indent\n"
     ]
    }
   ],
   "source": [
    " 2. Vertical sum in binary tree\n",
    " 5. Print binary tree in vertical order\n",
    "\n",
    "\n"
   ]
  }
 ],
 "metadata": {
  "kernelspec": {
   "display_name": ".venv",
   "language": "python",
   "name": "python3"
  },
  "language_info": {
   "codemirror_mode": {
    "name": "ipython",
    "version": 3
   },
   "file_extension": ".py",
   "mimetype": "text/x-python",
   "name": "python",
   "nbconvert_exporter": "python",
   "pygments_lexer": "ipython3",
   "version": "3.12.0"
  }
 },
 "nbformat": 4,
 "nbformat_minor": 5
}
