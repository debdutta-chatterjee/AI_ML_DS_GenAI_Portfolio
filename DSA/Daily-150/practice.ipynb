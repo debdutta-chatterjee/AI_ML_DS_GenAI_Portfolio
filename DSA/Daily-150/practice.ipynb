{
 "cells": [
  {
   "cell_type": "code",
   "execution_count": 7,
   "id": "34363df7",
   "metadata": {},
   "outputs": [
    {
     "data": {
      "text/plain": [
       "0"
      ]
     },
     "execution_count": 7,
     "metadata": {},
     "output_type": "execute_result"
    }
   ],
   "source": [
    "# https://neetcode.io/problems/find-minimum-in-rotated-sorted-array?list=neetcode250\n",
    "from typing import List\n",
    "def findMin(nums: List[int]) -> int:\n",
    "    l,r = 0 , len(nums)-1\n",
    "    \n",
    "    while l<r:\n",
    "        mid = (l+r)//2\n",
    "        \n",
    "        if nums[mid]> nums[r]:\n",
    "            l=mid+1\n",
    "        else:\n",
    "            r = mid\n",
    "\n",
    "    return nums[l]\n",
    "\n",
    "findMin([4,5,0,1,2,3])\n",
    "\n"
   ]
  },
  {
   "cell_type": "code",
   "execution_count": 20,
   "id": "16ea573f",
   "metadata": {},
   "outputs": [
    {
     "data": {
      "text/plain": [
       "4"
      ]
     },
     "execution_count": 20,
     "metadata": {},
     "output_type": "execute_result"
    }
   ],
   "source": [
    "# https://neetcode.io/problems/find-target-in-rotated-sorted-array?list=neetcode250\n",
    "\n",
    "def search(nums: List[int], target: int) -> int:\n",
    "    l,r =0,len(nums)-1\n",
    "\n",
    "    while l<=r:\n",
    "        mid =(l+r)//2\n",
    "\n",
    "        if nums[mid] == target:\n",
    "            return mid\n",
    "        \n",
    "        if nums[mid] > nums[r]:\n",
    "            if nums[l] <= target < nums[mid]:\n",
    "                r = mid-1\n",
    "            else:\n",
    "                l =mid+1\n",
    "        else:\n",
    "            if nums[mid] < target <= nums[r]:\n",
    "                l = mid+1\n",
    "            else:\n",
    "                r = mid-1\n",
    "\n",
    "    return -1\n",
    "\n",
    "search([3,4,5,6,1,2],1)"
   ]
  },
  {
   "cell_type": "code",
   "execution_count": 26,
   "id": "7d34b6dc",
   "metadata": {},
   "outputs": [
    {
     "data": {
      "text/plain": [
       "True"
      ]
     },
     "execution_count": 26,
     "metadata": {},
     "output_type": "execute_result"
    }
   ],
   "source": [
    "# https://neetcode.io/problems/search-in-rotated-sorted-array-ii?list=neetcode250\n",
    "\n",
    "def search(nums: List[int], target: int) -> bool:\n",
    "    l,r = 0, len(nums)-1\n",
    "\n",
    "\n",
    "    while l<=r:\n",
    "        mid = (l+r)//2\n",
    "\n",
    "        if nums[mid] == target:\n",
    "            return True\n",
    "        \n",
    "        if nums[l] == nums[mid] == nums[r]:\n",
    "            l+=1\n",
    "            r-=1\n",
    "        elif nums[mid] >=  nums[l]:\n",
    "            #left half sorted\n",
    "            if nums[l] <= target < nums[mid]:\n",
    "                r = mid-1\n",
    "            else:\n",
    "                l = mid+1\n",
    "        else:\n",
    "            # right haf soreted\n",
    "            if nums[mid] < target <= nums[r]:\n",
    "                l = mid+1\n",
    "            else:\n",
    "                r = mid-1\n",
    "    return False\n",
    "\n",
    "\n",
    "search([3,3,1,3],1)"
   ]
  },
  {
   "cell_type": "code",
   "execution_count": null,
   "id": "daeb3db9",
   "metadata": {},
   "outputs": [
    {
     "name": "stdout",
     "output_type": "stream",
     "text": [
      "7\n",
      "6\n",
      "5\n",
      "4\n",
      "3\n",
      "2\n",
      "1\n"
     ]
    }
   ],
   "source": [
    "# https://neetcode.io/problems/implement-stack-using-queues?list=neetcode250\n",
    "# 1234567 765432\n",
    "class MyStack:\n",
    "\n",
    "    def __init__(self):\n",
    "        self.q1 =[]\n",
    "        self.q2 =[]\n",
    "\n",
    "    def push(self, x: int) -> None:\n",
    "        self.q1.append(x)\n",
    "\n",
    "    def pop(self) -> int:\n",
    "        if not self.q1 and not self.q2:\n",
    "            raise ValueError('Empty stack')\n",
    "        if not self.q2:\n",
    "            while len(self.q1)>1:\n",
    "                self.q2.append(self.q1.pop(0))\n",
    "        ele =self.q1.pop(0)\n",
    "        self.q1, self.q2 = self.q2, self.q1\n",
    "        return ele\n",
    "\n",
    "    def top(self) -> int:\n",
    "        if not self.q1 and not self.q2:\n",
    "            raise ValueError(\"Empty stack\")\n",
    "        while len(self.q1) > 1:\n",
    "            self.q2.append(self.q1.pop(0))\n",
    "        top_elem = self.q1[0]\n",
    "        self.q2.append(self.q1.pop(0))\n",
    "        self.q1, self.q2 = self.q2, self.q1\n",
    "        return top_elem\n",
    "\n",
    "    def empty(self) -> bool:\n",
    "        return not self.q1 and not self.q2\n",
    "\n",
    "obj = MyStack()\n",
    "obj.push(1)\n",
    "obj.push(2)\n",
    "obj.push(3)\n",
    "obj.push(4)\n",
    "obj.push(5)\n",
    "obj.push(6)\n",
    "obj.push(7)\n",
    "\n",
    "print(obj.pop())\n",
    "print(obj.pop())\n",
    "print(obj.pop())\n",
    "print(obj.pop())\n",
    "print(obj.pop())\n",
    "print(obj.pop())\n",
    "print(obj.pop())\n",
    "\n",
    "param_4 = obj.empty()"
   ]
  },
  {
   "cell_type": "code",
   "execution_count": 11,
   "id": "a34d4c05",
   "metadata": {},
   "outputs": [
    {
     "data": {
      "text/plain": [
       "'/_home/a'"
      ]
     },
     "execution_count": 11,
     "metadata": {},
     "output_type": "execute_result"
    }
   ],
   "source": [
    "# https://neetcode.io/problems/simplify-path?list=neetcode250\n",
    "def simplifyPath(path: str) -> str:\n",
    "    s = []\n",
    "    paths = path.split('/')\n",
    "\n",
    "    for curr in paths:\n",
    "        if curr == '..':\n",
    "            if s:\n",
    "                s.pop()\n",
    "        elif curr != \"\" and curr!='.':\n",
    "            s.append(curr)\n",
    "    \n",
    "    return '/'+'/'.join(s)\n",
    "\n",
    "\n",
    "simplifyPath(\"/..//_home/a/b/..///\")"
   ]
  },
  {
   "cell_type": "code",
   "execution_count": 12,
   "id": "62f9bc9a",
   "metadata": {},
   "outputs": [],
   "source": [
    "# https://neetcode.io/problems/minimum-stack?list=neetcode250\n",
    "\n",
    "class MinStack:\n",
    "\n",
    "    def __init__(self):\n",
    "        self.stack = []\n",
    "        self.min_stack = []\n",
    "\n",
    "    def push(self, val: int) -> None:\n",
    "        self.stack.append(val)\n",
    "        if not self.min_stack or val <= self.min_stack[-1]:\n",
    "            self.min_stack.append(val)\n",
    "        else:\n",
    "            self.min_stack.append(self.min_stack[-1])\n",
    "\n",
    "\n",
    "    def pop(self) -> None:\n",
    "        if not self.stack:\n",
    "            raise ValueError(\"Stack is empty\")\n",
    "        self.stack.pop()\n",
    "        self.min_stack.pop()\n",
    "\n",
    "    def top(self) -> int:\n",
    "        if not self.stack:\n",
    "            raise ValueError(\"Stack is empty\")\n",
    "        return self.stack[-1]\n",
    "\n",
    "    def getMin(self) -> int:\n",
    "        if not self.min_stack:\n",
    "            raise ValueError(\"Stack is empty\")\n",
    "        return self.min_stack[-1]"
   ]
  },
  {
   "cell_type": "code",
   "execution_count": 17,
   "id": "eca00fbf",
   "metadata": {},
   "outputs": [
    {
     "data": {
      "text/plain": [
       "5"
      ]
     },
     "execution_count": 17,
     "metadata": {},
     "output_type": "execute_result"
    }
   ],
   "source": [
    "# https://neetcode.io/problems/evaluate-reverse-polish-notation?list=neetcode250\n",
    "from typing import List\n",
    "def evalRPN(tokens: List[str]) -> int:\n",
    "    stack = []\n",
    "    operands =['+','-','*','/']\n",
    "\n",
    "    for t in tokens:\n",
    "        if t not in operands:\n",
    "            stack.append(t)\n",
    "        \n",
    "        else:\n",
    "            if len(stack)<2:\n",
    "                raise ValueError('not enough element')\n",
    "\n",
    "            l = int(stack.pop())\n",
    "            f = int(stack.pop())\n",
    "            \n",
    "            if t == '+':\n",
    "                r = f+l\n",
    "            elif t == '-':\n",
    "                r = f-l\n",
    "            elif t == '*':\n",
    "                r = f*l\n",
    "            elif t == '/':\n",
    "                r = int(f/l)\n",
    "            stack.append(r)\n",
    "    return r\n",
    "\n",
    "\n",
    "evalRPN([\"1\",\"2\",\"+\",\"3\",\"*\",\"4\",\"-\"])"
   ]
  },
  {
   "cell_type": "code",
   "execution_count": null,
   "id": "000d76d9",
   "metadata": {},
   "outputs": [
    {
     "name": "stdout",
     "output_type": "stream",
     "text": [
      "[2, 4]\n",
      "[2, 4]\n",
      "[2, 4]\n"
     ]
    },
    {
     "data": {
      "text/plain": [
       "[2, 4]"
      ]
     },
     "execution_count": 20,
     "metadata": {},
     "output_type": "execute_result"
    }
   ],
   "source": [
    "def asteroidCollision(asteroids: List[int]) -> List[int]:\n",
    "        stack =[]\n",
    "\n",
    "        for a in asteroids:\n",
    "            if not stack:\n",
    "                stack.append(a)\n",
    "                continue\n",
    "\n",
    "            l = stack.pop()\n",
    "            if l*a >0:\n",
    "               stack.append(l)\n",
    "               stack.append(a) \n",
    "            else:       \n",
    "                if abs(l)!=abs(a):         \n",
    "                    stack.append(max(l,a))\n",
    "            print(stack)\n",
    "        return stack\n",
    "\n",
    "asteroidCollision([2,4,-4,-1])"
   ]
  }
 ],
 "metadata": {
  "kernelspec": {
   "display_name": ".venv",
   "language": "python",
   "name": "python3"
  },
  "language_info": {
   "codemirror_mode": {
    "name": "ipython",
    "version": 3
   },
   "file_extension": ".py",
   "mimetype": "text/x-python",
   "name": "python",
   "nbconvert_exporter": "python",
   "pygments_lexer": "ipython3",
   "version": "3.12.0"
  }
 },
 "nbformat": 4,
 "nbformat_minor": 5
}
