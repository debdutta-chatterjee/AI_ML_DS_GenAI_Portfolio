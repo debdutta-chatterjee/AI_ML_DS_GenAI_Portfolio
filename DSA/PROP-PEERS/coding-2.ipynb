{
 "cells": [
  {
   "cell_type": "code",
   "execution_count": 3,
   "id": "148109c8",
   "metadata": {},
   "outputs": [
    {
     "data": {
      "text/plain": [
       "['((()))', '(()())', '(())()', '()(())', '()()()']"
      ]
     },
     "execution_count": 3,
     "metadata": {},
     "output_type": "execute_result"
    }
   ],
   "source": [
    "# https://leetcode.com/problems/generate-parentheses/description/\n",
    "\n",
    "def generateParenthesis(n):\n",
    "    res=[]\n",
    "    def backtrack(current,open_count,close_count):\n",
    "        if open_count ==n and close_count ==n:\n",
    "            res.append(current)\n",
    "            return\n",
    "\n",
    "        if open_count<n:\n",
    "            backtrack(current+'(',open_count+1,close_count)\n",
    "        if close_count<open_count:\n",
    "            backtrack(current+')',open_count,close_count+1)\n",
    "    \n",
    "    backtrack('',0,0)\n",
    "    return res\n",
    "\n",
    "generateParenthesis(3)"
   ]
  },
  {
   "cell_type": "code",
   "execution_count": 12,
   "id": "c8c71039",
   "metadata": {},
   "outputs": [
    {
     "data": {
      "text/plain": [
       "[[2, 2, 3], [7]]"
      ]
     },
     "execution_count": 12,
     "metadata": {},
     "output_type": "execute_result"
    }
   ],
   "source": [
    "# https://leetcode.com/problems/combination-sum/description/\n",
    "class Problem:\n",
    "    def solve(self,index,total,subset,nums,target,result):\n",
    "        if total==target:\n",
    "            result.append(subset[:])\n",
    "            return \n",
    "        if total>target:\n",
    "            return\n",
    "        if index>=len(nums):\n",
    "            return\n",
    "\n",
    "        sum_num =total+nums[index]\n",
    "        subset.append(nums[index])\n",
    "        self.solve(index,sum_num,subset,nums,target,result)\n",
    "\n",
    "        sum_num = total\n",
    "        subset.pop()\n",
    "        self.solve(index+1,sum_num,subset,nums,target,result)\n",
    "\n",
    "    def combinationSum(self, candidates, target):\n",
    "        res = []\n",
    "        self.solve(0,0,[],candidates, target,res)\n",
    "        return res\n",
    "\n",
    "p = Problem()\n",
    "x =p.combinationSum([2,3,6,7],7)\n",
    "x"
   ]
  }
 ],
 "metadata": {
  "kernelspec": {
   "display_name": ".venv",
   "language": "python",
   "name": "python3"
  },
  "language_info": {
   "codemirror_mode": {
    "name": "ipython",
    "version": 3
   },
   "file_extension": ".py",
   "mimetype": "text/x-python",
   "name": "python",
   "nbconvert_exporter": "python",
   "pygments_lexer": "ipython3",
   "version": "3.12.0"
  }
 },
 "nbformat": 4,
 "nbformat_minor": 5
}
