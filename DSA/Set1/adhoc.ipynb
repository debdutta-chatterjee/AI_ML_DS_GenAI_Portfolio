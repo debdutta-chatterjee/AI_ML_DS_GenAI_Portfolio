{
 "cells": [
  {
   "cell_type": "code",
   "execution_count": 1,
   "id": "c04e5317",
   "metadata": {},
   "outputs": [
    {
     "name": "stdout",
     "output_type": "stream",
     "text": [
      "3\n"
     ]
    }
   ],
   "source": [
    "# Given the arrival and departure times of all trains \n",
    "# that reach a railway station, \n",
    "# the task is to find the minimum number \n",
    "# of platforms required for the railway station \n",
    "# so that no train waits. We are given two arrays \n",
    "# that represent the arrival and departure times of trains that stop.Input:   \n",
    "# arrival[] = {9:00, 9:40, 9:50, 11:00, 15:00, 18:00},   \n",
    "# dep[] = {9:10, 12:00, 11:20, 11:30, 19:00, 20:00}   Output: 3\n",
    "\n",
    "\n",
    "def max_platform(a,d):\n",
    "    maxPlatform =0\n",
    "    curr_platform =0\n",
    "    i,j =0,0\n",
    "    while i<len(a) and j < len(d):\n",
    "        if a[i]<d[j]:\n",
    "            curr_platform+=1\n",
    "            maxPlatform = max(maxPlatform,curr_platform)\n",
    "            i+=1\n",
    "        elif a[i]>d[j]:\n",
    "            curr_platform-=1\n",
    "            maxPlatform = max(maxPlatform,curr_platform)\n",
    "            j+=1\n",
    "        else:\n",
    "           i+=1 \n",
    "           j+=1\n",
    "    return maxPlatform\n",
    "\n",
    "if __name__ == '__main__':\n",
    "    a = [9.00, 9.40, 9.50, 11.0, 15.0, 18.0]\n",
    "    d = [9.10, 12.00, 11.20, 11.30, 19.00, 20.00]\n",
    "    print(max_platform(a,d))"
   ]
  }
 ],
 "metadata": {
  "kernelspec": {
   "display_name": ".venv",
   "language": "python",
   "name": "python3"
  },
  "language_info": {
   "codemirror_mode": {
    "name": "ipython",
    "version": 3
   },
   "file_extension": ".py",
   "mimetype": "text/x-python",
   "name": "python",
   "nbconvert_exporter": "python",
   "pygments_lexer": "ipython3",
   "version": "3.12.0"
  }
 },
 "nbformat": 4,
 "nbformat_minor": 5
}
