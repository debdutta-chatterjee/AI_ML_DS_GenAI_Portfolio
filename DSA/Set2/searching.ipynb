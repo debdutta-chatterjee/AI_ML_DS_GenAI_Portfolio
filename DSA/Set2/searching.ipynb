{
 "cells": [
  {
   "cell_type": "code",
   "execution_count": 7,
   "id": "42f5b18e",
   "metadata": {},
   "outputs": [
    {
     "data": {
      "text/plain": [
       "3"
      ]
     },
     "execution_count": 7,
     "metadata": {},
     "output_type": "execute_result"
    }
   ],
   "source": [
    "from typing import List\n",
    "class Solution:\n",
    "    def search(self, nums: List[int], target: int) -> int:\n",
    "        l = 0\n",
    "        r = len(nums)-1\n",
    "        s = self.bin_search(nums,l,r,target)\n",
    "        return s\n",
    "\n",
    "    def bin_search(self,nums,l,r,target):\n",
    "        if l>r:\n",
    "            return -1\n",
    "\n",
    "        mid = (l+r)//2\n",
    "\n",
    "        if nums[mid] == target:\n",
    "            return mid\n",
    "        if nums[mid]<target:\n",
    "            return self.bin_search(nums,mid+1,r,target)\n",
    "        if nums[mid]> target:\n",
    "            return self.bin_search(nums,l,mid-1,target)\n",
    "        \n",
    "\n",
    "\n",
    "Solution().search([-1,0,2,4,6,8],4)"
   ]
  },
  {
   "cell_type": "code",
   "execution_count": 12,
   "id": "24bc3f85",
   "metadata": {},
   "outputs": [
    {
     "data": {
      "text/plain": [
       "4"
      ]
     },
     "execution_count": 12,
     "metadata": {},
     "output_type": "execute_result"
    }
   ],
   "source": [
    "# Search Insert Position\n",
    "# You are given a sorted array of distinct integers and a target value, \n",
    "# return the index if the target is found. If not, return the index where\n",
    "# it would be if it were inserted in order.\n",
    "\n",
    "# You must write an algorithm with O(log n) runtime complexity.\n",
    "\n",
    "# Example 1:\n",
    "\n",
    "# Input: nums = [-1,0,2,4,6,8], target = 5\n",
    "\n",
    "# Output: 4\n",
    "from typing import List\n",
    "def searchInsert(nums: List[int], target: int) -> int:\n",
    "\n",
    "    l,r = 0,len(nums)-1\n",
    "    pos =-1\n",
    "    while l<=r:\n",
    "        mid = (l+r)//2\n",
    "        if nums[mid] == target:\n",
    "            return mid\n",
    "        elif nums[mid] < target:\n",
    "            l= mid+1\n",
    "        else:\n",
    "            r=mid-1\n",
    "    return l\n",
    "\n",
    "\n",
    "searchInsert([-1,0,2,4,6,8],5)\n"
   ]
  },
  {
   "cell_type": "code",
   "execution_count": 14,
   "id": "50183ef1",
   "metadata": {},
   "outputs": [
    {
     "data": {
      "text/plain": [
       "3"
      ]
     },
     "execution_count": 14,
     "metadata": {},
     "output_type": "execute_result"
    }
   ],
   "source": [
    "# Sqrt(x)\n",
    "# You are given a non-negative integer x,\n",
    "# return the square root of x rounded down to the nearest integer. \n",
    "# The returned integer should be non-negative as well.\n",
    "\n",
    "# You must not use any built-in exponent function or operator.\n",
    "\n",
    "# For example, do not use pow(x, 0.5) in c++ or x ** 0.5 in python.\n",
    "# Example 1:\n",
    "\n",
    "# Input: x = 9\n",
    "\n",
    "# Output: 3\n",
    "\n",
    "\n",
    "def mySqrt(x: int) -> int:\n",
    "\n",
    "    l,r = 0, x-1\n",
    "    res = 0\n",
    "    while l<=r:\n",
    "        m = l+(r-l)//2\n",
    "        res = m*m\n",
    "        if res == x:\n",
    "            return m\n",
    "        elif res<x:\n",
    "            l=m+1\n",
    "        else:\n",
    "            r=m-1\n",
    "            res=m\n",
    "    return m\n",
    "\n",
    "\n",
    "mySqrt(9)"
   ]
  },
  {
   "cell_type": "code",
   "execution_count": null,
   "id": "df81a59f",
   "metadata": {},
   "outputs": [
    {
     "data": {
      "text/plain": [
       "True"
      ]
     },
     "execution_count": 23,
     "metadata": {},
     "output_type": "execute_result"
    }
   ],
   "source": [
    "# Search a 2D Matrix\n",
    "# You are given an m x n 2-D integer array matrix and an integer target.\n",
    "\n",
    "# Each row in matrix is sorted in non-decreasing order.\n",
    "# The first integer of every row is greater than the last integer of the previous row.\n",
    "# Return true if target exists within matrix or false otherwise.\n",
    "\n",
    "import bisect\n",
    "def searchMatrix(matrix: List[List[int]], target: int) -> bool:\n",
    "    i=0\n",
    "    while i< (len(matrix)):\n",
    "        if matrix[i][-1] == target:\n",
    "            return True\n",
    "        elif matrix[i][-1] > target:\n",
    "            index = bisect.bisect_left(matrix[i],target)\n",
    "            if index < len(matrix[i]) and matrix[i][index] == target:\n",
    "                return True\n",
    "            else:\n",
    "                return False\n",
    "        else:\n",
    "            i+=1\n",
    "    return False\n",
    "\n",
    "searchMatrix([[1,2,4,8],[10,11,12,13],[14,20,30,40]],15)"
   ]
  }
 ],
 "metadata": {
  "kernelspec": {
   "display_name": ".venv",
   "language": "python",
   "name": "python3"
  },
  "language_info": {
   "codemirror_mode": {
    "name": "ipython",
    "version": 3
   },
   "file_extension": ".py",
   "mimetype": "text/x-python",
   "name": "python",
   "nbconvert_exporter": "python",
   "pygments_lexer": "ipython3",
   "version": "3.12.0"
  }
 },
 "nbformat": 4,
 "nbformat_minor": 5
}
