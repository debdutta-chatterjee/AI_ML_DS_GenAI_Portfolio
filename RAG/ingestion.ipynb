{
 "cells": [
  {
   "cell_type": "code",
   "execution_count": 1,
   "id": "9db058e9",
   "metadata": {},
   "outputs": [],
   "source": [
    "from langchain_core.documents import Document\n",
    "from langchain_text_splitters import (\n",
    "    RecursiveCharacterTextSplitter,\n",
    "    TokenTextSplitter,\n",
    "    CharacterTextSplitter\n",
    ")"
   ]
  },
  {
   "cell_type": "code",
   "execution_count": null,
   "id": "28eb75c6",
   "metadata": {},
   "outputs": [],
   "source": [
    "doc = Document(\n",
    "    page_content=''\n",
    "    ,metadata =''\n",
    ")"
   ]
  },
  {
   "cell_type": "code",
   "execution_count": 5,
   "id": "33f008a8",
   "metadata": {},
   "outputs": [
    {
     "name": "stdout",
     "output_type": "stream",
     "text": [
      "Python Pro\n",
      "{'source': 'data/text_files/python_intro.txt', 'test': 'kkkk'}\n"
     ]
    }
   ],
   "source": [
    "from langchain.document_loaders import TextLoader\n",
    "\n",
    "loader = TextLoader('data/text_files/python_intro.txt',encoding='utf-8')\n",
    "docs = loader.load()\n",
    "docs[0].metadata['test'] = 'kkkk'\n",
    "print(docs[0].page_content[0:10])\n",
    "print(docs[0].metadata)"
   ]
  },
  {
   "cell_type": "code",
   "execution_count": 13,
   "id": "b715bd44",
   "metadata": {},
   "outputs": [
    {
     "name": "stderr",
     "output_type": "stream",
     "text": [
      "100%|██████████| 2/2 [00:00<00:00, 1979.85it/s]\n"
     ]
    }
   ],
   "source": [
    "from langchain.document_loaders import DirectoryLoader\n",
    "\n",
    "loader = DirectoryLoader(\n",
    "    path ='data/text_files',\n",
    "    glob ='**/*.txt',\n",
    "    loader_cls=TextLoader,\n",
    "    loader_kwargs={},\n",
    "    show_progress=True\n",
    ")\n",
    "\n",
    "docs = loader.load()"
   ]
  },
  {
   "cell_type": "code",
   "execution_count": 15,
   "id": "b94b041a",
   "metadata": {},
   "outputs": [
    {
     "name": "stdout",
     "output_type": "stream",
     "text": [
      "8\n",
      "Machine Learning Basics\n"
     ]
    }
   ],
   "source": [
    "from langchain_text_splitters import (\n",
    "    CharacterTextSplitter,\n",
    "    RecursiveCharacterTextSplitter,\n",
    "    TokenTextSplitter\n",
    ")\n",
    "#print(docs[0])\n",
    "char_splitter = CharacterTextSplitter(\n",
    "    separator='\\n',\n",
    "    chunk_size=100,\n",
    "    chunk_overlap=15,\n",
    "    length_function=len)\n",
    "\n",
    "split_docs =char_splitter.split_text(docs[0].page_content)\n",
    "print(len(split_docs))\n",
    "print(split_docs[0])\n"
   ]
  },
  {
   "cell_type": "code",
   "execution_count": 16,
   "id": "ab2d4b77",
   "metadata": {},
   "outputs": [
    {
     "name": "stdout",
     "output_type": "stream",
     "text": [
      "8\n",
      "Machine Learning Basics\n"
     ]
    }
   ],
   "source": [
    "char_splitter = RecursiveCharacterTextSplitter(\n",
    "    chunk_size=100,\n",
    "    chunk_overlap=15,\n",
    "    length_function=len)\n",
    "\n",
    "split_docs =char_splitter.split_text(docs[0].page_content)\n",
    "print(len(split_docs))\n",
    "print(split_docs[0])"
   ]
  },
  {
   "cell_type": "code",
   "execution_count": 18,
   "id": "17cdd0e3",
   "metadata": {},
   "outputs": [],
   "source": [
    "from langchain_community.document_loaders import (\n",
    "    PyPDFLoader,\n",
    "    PyMuPDFLoader\n",
    ")\n",
    "\n",
    "pdf_loader = PyPDFLoader('data/pdf/attention.pdf')\n",
    "pdf_docs = pdf_loader.load()"
   ]
  }
 ],
 "metadata": {
  "kernelspec": {
   "display_name": ".venv",
   "language": "python",
   "name": "python3"
  },
  "language_info": {
   "codemirror_mode": {
    "name": "ipython",
    "version": 3
   },
   "file_extension": ".py",
   "mimetype": "text/x-python",
   "name": "python",
   "nbconvert_exporter": "python",
   "pygments_lexer": "ipython3",
   "version": "3.12.0"
  }
 },
 "nbformat": 4,
 "nbformat_minor": 5
}
