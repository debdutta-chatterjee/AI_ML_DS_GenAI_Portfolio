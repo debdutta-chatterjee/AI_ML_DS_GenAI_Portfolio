{
 "cells": [
  {
   "cell_type": "markdown",
   "id": "97a45dd8",
   "metadata": {},
   "source": [
    "#19-Aug\n",
    "https://neetcode.io/problems/find-minimum-in-rotated-sorted-array?list=neetcode250\n",
    "https://neetcode.io/problems/find-target-in-rotated-sorted-array?list=neetcode250\n",
    "https://neetcode.io/problems/search-in-rotated-sorted-array-ii?list=neetcode250\n",
    "https://neetcode.io/problems/implement-stack-using-queues?list=neetcode250\n",
    "https://neetcode.io/problems/implement-queue-using-stacks?list=neetcode250\n",
    "\n",
    "\n",
    "https://neetcode.io/problems/simplify-path?list=neetcode250\n",
    "https://neetcode.io/problems/minimum-stack?list=neetcode250\n",
    "https://neetcode.io/problems/evaluate-reverse-polish-notation?list=neetcode250\n"
   ]
  },
  {
   "cell_type": "markdown",
   "id": "8e0746bd",
   "metadata": {},
   "source": [
    "https://neetcode.io/problems/asteroid-collision?list=neetcode250"
   ]
  },
  {
   "cell_type": "markdown",
   "id": "b4c67c74",
   "metadata": {},
   "source": [
    "#20 Aug\n",
    "https://neetcode.io/problems/single-number?list=neetcode250\n",
    "https://neetcode.io/problems/number-of-one-bits?list=neetcode250\n",
    "https://neetcode.io/problems/counting-bits?list=neetcode250\n",
    "https://neetcode.io/problems/add-binary?list=neetcode250\n",
    "https://neetcode.io/problems/reverse-bits?list=neetcode250\n",
    "https://neetcode.io/problems/missing-number?list=neetcode250"
   ]
  },
  {
   "cell_type": "markdown",
   "id": "a2506898",
   "metadata": {},
   "source": [
    "#21 Aug\n",
    "\n",
    "https://neetcode.io/problems/excel-sheet-column-title?list=neetcode250\n",
    "https://neetcode.io/problems/greatest-common-divisor-of-strings?list=neetcode250\n",
    "https://neetcode.io/problems/transpose-matrix?list=neetcode250\n",
    "https://neetcode.io/problems/rotate-matrix?list=neetcode250\n",
    "https://neetcode.io/problems/set-zeroes-in-matrix?list=neetcode250"
   ]
  },
  {
   "cell_type": "code",
   "execution_count": null,
   "id": "2f5e1460",
   "metadata": {
    "vscode": {
     "languageId": "plaintext"
    }
   },
   "outputs": [],
   "source": [
    "##25 Aug\n",
    "https://neetcode.io/problems/reverse-bits?list=neetcode250\n",
    "https://neetcode.io/problems/sum-of-two-integers?list=neetcode250"
   ]
  }
 ],
 "metadata": {
  "language_info": {
   "name": "python"
  }
 },
 "nbformat": 4,
 "nbformat_minor": 5
}
