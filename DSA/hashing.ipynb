{
 "cells": [
  {
   "cell_type": "code",
   "execution_count": 5,
   "id": "ebad4c34",
   "metadata": {},
   "outputs": [
    {
     "name": "stdout",
     "output_type": "stream",
     "text": [
      "True\n"
     ]
    }
   ],
   "source": [
    "# 1. Check for pair in array with sum as x\n",
    "\n",
    "def pair_in_array(arr,target):\n",
    "    seen = set()\n",
    "    for num in arr:        \n",
    "        complement = target- num\n",
    "        if complement in seen:\n",
    "            return True\n",
    "        seen.add(num)\n",
    "    return False\n",
    "\n",
    "\n",
    "arr =[0, -1, 2, -3, 1]\n",
    "target = -2\n",
    "print(pair_in_array(arr,target))"
   ]
  },
  {
   "cell_type": "code",
   "execution_count": 2,
   "id": "1e2157a2",
   "metadata": {},
   "outputs": [
    {
     "name": "stdout",
     "output_type": "stream",
     "text": [
      "6\n"
     ]
    }
   ],
   "source": [
    "#3. Largest subarray with equal number of 0s and 1s\n",
    "\n",
    "def longest_equal_01_1(arr):\n",
    "    # Convert 0s to -1s\n",
    "    arr = [-1 if num == 0 else 1 for num in arr]\n",
    "    sum_to_index = {}\n",
    "    max_len = 0\n",
    "    prefix_sum = 0\n",
    "\n",
    "    for i, num in enumerate(arr):\n",
    "        prefix_sum += num\n",
    "        if prefix_sum == 0:\n",
    "            max_len = i + 1\n",
    "        elif prefix_sum in sum_to_index:\n",
    "            max_len = max(max_len, i - sum_to_index[prefix_sum])\n",
    "        else:\n",
    "            sum_to_index[prefix_sum] = i\n",
    "\n",
    "    return max_len\n",
    "\n",
    "def longest_equal_01(arr):\n",
    "    res =0\n",
    "    for i in range(len(arr)):\n",
    "        sum =0\n",
    "        for j in range(i,len(arr)):\n",
    "            sum+= -1 if arr[j] ==0 else 1\n",
    "\n",
    "            if sum ==0:\n",
    "                res = max(res,j-i+1)\n",
    "    return res\n",
    "\n",
    "arr = [0, 1, 0, 1, 1, 0, 0]\n",
    "print(longest_equal_01(arr))  # Output: 6"
   ]
  },
  {
   "cell_type": "code",
   "execution_count": 9,
   "id": "ef350454",
   "metadata": {},
   "outputs": [
    {
     "name": "stdout",
     "output_type": "stream",
     "text": [
      "True\n",
      "False\n"
     ]
    }
   ],
   "source": [
    "# Given an array of positive and negative numbers, \n",
    "# the task is to find if there is a subarray \n",
    "# (of size at least one) with 0 sum.\n",
    "\n",
    "# Examples: \n",
    "\n",
    "# Input: {4, 2, -3, 1, 6}\n",
    "# Output: true \n",
    "# Explanation:\n",
    "# There is a subarray with zero sum from index 1 to 3.\n",
    "\n",
    "# Input: {4, 2, 0, 1, 6}\n",
    "# Output: true\n",
    "# Explanation: The third element is zero. A single element is also a sub-array.\n",
    "\n",
    "# Input: {-3, 2, 3, 1, 6}\n",
    "# Output: false\n",
    "\n",
    "# 4. Find if there is a subarray with 0 sum\n",
    "\n",
    "def find_zero_sum_bf(arr):\n",
    "    for i in range(len(arr)):\n",
    "        sum=0\n",
    "        for j in range(i,len(arr)):\n",
    "            sum+=arr[j]\n",
    "            \n",
    "            if sum ==0:\n",
    "                return True\n",
    "    return False\n",
    "\n",
    "\n",
    "def find_zero_sum(arr):\n",
    "    seen = set()\n",
    "    sum=0\n",
    "    for i in range(len(arr)):\n",
    "        sum+=arr[i]\n",
    "\n",
    "        if sum ==0 or sum in seen:\n",
    "            return True\n",
    "        seen.add(sum)\n",
    "    return False\n",
    "\n",
    "print(find_zero_sum([4, 2, -3, 1, 6]))\n",
    "print(find_zero_sum([-3, 2, 3, 1, 6]))"
   ]
  },
  {
   "cell_type": "code",
   "execution_count": null,
   "id": "a6cac1a7",
   "metadata": {},
   "outputs": [
    {
     "ename": "IndentationError",
     "evalue": "unexpected indent (133545251.py, line 1)",
     "output_type": "error",
     "traceback": [
      "  \u001b[36mCell\u001b[39m\u001b[36m \u001b[39m\u001b[32mIn[7]\u001b[39m\u001b[32m, line 1\u001b[39m\n\u001b[31m    \u001b[39m\u001b[31m2. Vertical sum in binary tree\u001b[39m\n    ^\n\u001b[31mIndentationError\u001b[39m\u001b[31m:\u001b[39m unexpected indent\n"
     ]
    }
   ],
   "source": [
    " 2. Vertical sum in binary tree\n",
    " #3. Largest subarray with equal number of 0s and 1s ->optimize\n",
    "\n",
    " 5. Print binary tree in vertical order\n",
    "6. Special data structure\n",
    " 7. Find itinerary from a given list of tickets\n",
    " 8. Largest subarray with 0 sum"
   ]
  }
 ],
 "metadata": {
  "kernelspec": {
   "display_name": ".venv",
   "language": "python",
   "name": "python3"
  },
  "language_info": {
   "codemirror_mode": {
    "name": "ipython",
    "version": 3
   },
   "file_extension": ".py",
   "mimetype": "text/x-python",
   "name": "python",
   "nbconvert_exporter": "python",
   "pygments_lexer": "ipython3",
   "version": "3.12.0"
  }
 },
 "nbformat": 4,
 "nbformat_minor": 5
}
