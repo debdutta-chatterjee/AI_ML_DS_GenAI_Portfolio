{
 "cells": [
  {
   "cell_type": "code",
   "execution_count": 6,
   "id": "dbd49876",
   "metadata": {},
   "outputs": [
    {
     "name": "stdout",
     "output_type": "stream",
     "text": [
      "[1, 4, 1, 2, 1, 4, 1, 2]\n"
     ]
    }
   ],
   "source": [
    "# Concatenation of Array\n",
    "# You are given an integer array nums of length n. \n",
    "# Create an array ans of length 2n where ans[i] == nums[i] \n",
    "# and ans[i + n] == nums[i] for 0 <= i < n (0-indexed).\n",
    "\n",
    "# Specifically, ans is the concatenation of two nums arrays.\n",
    "\n",
    "# Return the array ans.\n",
    "\n",
    "# Example 1:\n",
    "\n",
    "# Input: nums = [1,4,1,2]\n",
    "\n",
    "# Output: [1,4,1,2,1,4,1,2]\n",
    "from typing import List\n",
    "class Solution:\n",
    "    def getConcatenation(self, nums: List[int]) -> List[int]:\n",
    "        ret_nums =[]\n",
    "        n = len(nums)\n",
    "        for i in range(2*n):\n",
    "            ret_nums.append(nums[i%n])\n",
    "        return ret_nums\n",
    "    \n",
    "\n",
    "\n",
    "s =Solution()\n",
    "print(s.getConcatenation([1,4,1,2]))"
   ]
  },
  {
   "cell_type": "code",
   "execution_count": 10,
   "id": "4741c61a",
   "metadata": {},
   "outputs": [
    {
     "name": "stdout",
     "output_type": "stream",
     "text": [
      "True\n"
     ]
    }
   ],
   "source": [
    "# Contains Duplicate\n",
    "# Given an integer array nums, return true if any \n",
    "# value appears more than once in the array, otherwise return false.\n",
    "\n",
    "# Example 1:\n",
    "\n",
    "# Input: nums = [1, 2, 3, 3]\n",
    "\n",
    "# Output: true\n",
    "\n",
    "class Solution:\n",
    "    def hasDuplicate(self, nums: List[int]) -> bool:\n",
    "        unique =set([i for i in nums])\n",
    "        return len(unique) != len(nums)\n",
    "\n",
    "s =Solution()\n",
    "print(s.hasDuplicate([1, 2, 3, 3]))"
   ]
  },
  {
   "cell_type": "code",
   "execution_count": 16,
   "id": "c4ba76d8",
   "metadata": {},
   "outputs": [
    {
     "name": "stdout",
     "output_type": "stream",
     "text": [
      "True\n"
     ]
    }
   ],
   "source": [
    "# Valid Anagram\n",
    "# Given two strings s and t, return true if the two strings are\n",
    "# anagrams of each other, otherwise return false.\n",
    "\n",
    "# An anagram is a string that contains the exact same characters as \n",
    "# another string, but the order of the characters can be different.\n",
    "\n",
    "# Example 1:\n",
    "\n",
    "# Input: s = \"racecar\", t = \"carrace\"\n",
    "\n",
    "# Output: true\n",
    "\n",
    "class Solution:\n",
    "    def isAnagram(self, s: str, t: str) -> bool:\n",
    "        if len(s) != len(t):\n",
    "            return False\n",
    "               \n",
    "        s_sorted = sorted(s)\n",
    "        t_sorted = sorted(t)\n",
    "        \n",
    "        return s_sorted == t_sorted\n",
    "    \n",
    "s =Solution()\n",
    "print(s.isAnagram('racecar','carrace'))"
   ]
  },
  {
   "cell_type": "code",
   "execution_count": 21,
   "id": "f4628c36",
   "metadata": {},
   "outputs": [
    {
     "data": {
      "text/plain": [
       "[0, 1]"
      ]
     },
     "execution_count": 21,
     "metadata": {},
     "output_type": "execute_result"
    }
   ],
   "source": [
    "# Two Sum\n",
    "# Given an array of integers nums and an integer target,\n",
    "# return the indices i and j such that nums[i] + nums[j] == target and i != j.\n",
    "\n",
    "# You may assume that every input has exactly one pair of indices i \n",
    "# and j that satisfy the condition.\n",
    "\n",
    "# Return the answer with the smaller index first.\n",
    "\n",
    "# Example 1:\n",
    "\n",
    "# Input: \n",
    "# nums = [3,4,5,6], target = 7\n",
    "\n",
    "# Output: [0,1]\n",
    "# Explanation: nums[0] + nums[1] == 7, so we return [0, 1].\n",
    "\n",
    "\n",
    "def twoSum(nums: List[int], target: int) -> List[int]:\n",
    "\n",
    "    seen ={}\n",
    "    for i in range(len(nums)):\n",
    "        complement = target - nums[i]\n",
    "        if complement in seen:\n",
    "            return [seen[complement],i]\n",
    "        else:\n",
    "            seen[nums[i]] = i\n",
    "    return [-1,-1]\n",
    "\n",
    "twoSum([3,4,5,6],7)"
   ]
  },
  {
   "cell_type": "code",
   "execution_count": null,
   "id": "799c93e8",
   "metadata": {},
   "outputs": [
    {
     "data": {
      "text/plain": [
       "''"
      ]
     },
     "execution_count": 22,
     "metadata": {},
     "output_type": "execute_result"
    }
   ],
   "source": [
    "# Longest Common Prefix\n",
    "# You are given an array of strings strs.\n",
    "# Return the longest common prefix of all the strings.\n",
    "\n",
    "# If there is no longest common prefix, return an empty string \"\".\n",
    "\n",
    "# Example 1:\n",
    "\n",
    "# Input: strs = [\"bat\",\"bag\",\"bank\",\"band\"]\n",
    "\n",
    "# Output: \"ba\"\n",
    "\n",
    "def longestCommonPrefix(strs: List[str]) -> str:\n",
    "    if not strs:\n",
    "        return \"\"\n",
    "    \n",
    "    for i in range(len(strs[0])):\n",
    "        char = strs[0][i]\n",
    "        for string in strs[1:]:\n",
    "            # If current index is out of bounds or character mismatches\n",
    "            if i >= len(string) or string[i] != char:\n",
    "                return strs[0][:i]\n",
    "            \n",
    "\n",
    "longestCommonPrefix([\"xbat\",\"bag\",\"bank\",\"band\"])"
   ]
  },
  {
   "cell_type": "code",
   "execution_count": 27,
   "id": "5c97f98b",
   "metadata": {},
   "outputs": [
    {
     "data": {
      "text/plain": [
       "[['act', 'cat'], ['pots', 'tops', 'stop'], ['hat']]"
      ]
     },
     "execution_count": 27,
     "metadata": {},
     "output_type": "execute_result"
    }
   ],
   "source": [
    "# Group Anagrams\n",
    "# Given an array of strings strs, group all anagrams together into sublists.\n",
    "# You may return the output in any order.\n",
    "\n",
    "# An anagram is a string that contains the exact same characters as another string,\n",
    "# but the order of the characters can be different.\n",
    "\n",
    "# Example 1:\n",
    "\n",
    "# Input: strs = [\"act\",\"pots\",\"tops\",\"cat\",\"stop\",\"hat\"]\n",
    "\n",
    "# Output: [[\"hat\"],[\"act\", \"cat\"],[\"stop\", \"pots\", \"tops\"]]\n",
    "\n",
    "from collections import defaultdict\n",
    "\n",
    "def groupAnagrams(strs: List[str]) -> List[List[str]]:\n",
    "    res = defaultdict(list)\n",
    "    for s in strs:\n",
    "        sortedS = ''.join(sorted(s))\n",
    "        #print(sortedS)\n",
    "        res[sortedS].append(s)\n",
    "    return list(res.values())\n",
    "\n",
    "\n",
    "groupAnagrams([\"act\",\"pots\",\"tops\",\"cat\",\"stop\",\"hat\"])"
   ]
  },
  {
   "cell_type": "code",
   "execution_count": 33,
   "id": "ba4d478a",
   "metadata": {},
   "outputs": [
    {
     "data": {
      "text/plain": [
       "3"
      ]
     },
     "execution_count": 33,
     "metadata": {},
     "output_type": "execute_result"
    }
   ],
   "source": [
    "# Remove Element\n",
    "# You are given an integer array nums and an integer val. \n",
    "# Your task is to remove all occurrences of val from nums in-place.\n",
    "\n",
    "# After removing all occurrences of val, return the number \n",
    "# of remaining elements, say k, such that the first k elements of nums do not contain val.\n",
    "\n",
    "# Note:\n",
    "\n",
    "# The order of the elements which are not equal to val does not matter.\n",
    "# It is not necessary to consider elements beyond the first k positions of the array.\n",
    "# To be accepted, the first k elements of nums must contain only elements not equal to val.\n",
    "# Return k as the final result.\n",
    "\n",
    "# Example 1:\n",
    "\n",
    "# Input: nums = [1,1,2,3,4], val = 1\n",
    "\n",
    "# Output: [2,3,4]\n",
    "# Explanation: You should return k = 3 as we have 3 elements which are not equal to val = 1.\n",
    "\n",
    "\n",
    "def removeElement(nums: List[int], val: int) -> int:\n",
    "    k =0\n",
    "    for i in range(len(nums)):        \n",
    "        if nums[i] != val:\n",
    "            nums[k] = nums[i]\n",
    "            k+=1\n",
    "    return k\n",
    "\n",
    "\n",
    "\n",
    "removeElement([1,1,2,3,4],1)"
   ]
  },
  {
   "cell_type": "code",
   "execution_count": null,
   "id": "de0746f3",
   "metadata": {},
   "outputs": [],
   "source": [
    "# Majority Element\n",
    "# Given an array nums of size n, return the majority element.\n",
    "\n",
    "# The majority element is the element that appears more than ⌊n / 2⌋ \n",
    "# times in the array. You may assume that the majority element always exists in the array.\n",
    "\n",
    "# Example 1:\n",
    "\n",
    "# Input: nums = [5,5,1,1,1,5,5]\n",
    "\n",
    "# Output: 5\n",
    "\n",
    "\n",
    "def majorityElement(nums: List[int]) -> int:\n",
    "    majority  = len(nums)/2\n",
    "    res = count =0\n",
    "    for num in nums:\n",
    "        if count == num:\n",
    "            res = num\n",
    "        count += (1 if res ==num else -1)\n",
    "    return res\n",
    "\n",
    "\n",
    "\n"
   ]
  },
  {
   "cell_type": "code",
   "execution_count": null,
   "id": "70ad378e",
   "metadata": {},
   "outputs": [
    {
     "name": "stdout",
     "output_type": "stream",
     "text": [
      "{1: 1, 2: 2, 3: 3}\n",
      "[(3, 3), (2, 2), (1, 1)]\n",
      "[3, 2, 1]\n",
      "[3]\n"
     ]
    }
   ],
   "source": [
    "# Top K Frequent Elements\n",
    "# Given an integer array nums and an integer k, return the \n",
    "# k most frequent elements within the array.\n",
    "\n",
    "# The test cases are generated such that the answer is always unique.\n",
    "\n",
    "# You may return the output in any order.\n",
    "\n",
    "# Example 1:\n",
    "\n",
    "# Input: nums = [1,2,2,3,3,3], k = 2\n",
    "\n",
    "# Output: [2,3]\n",
    "\n",
    "def topKFrequent(nums: List[int], k: int) -> List[int]:\n",
    "    freq = {}\n",
    "\n",
    "    for num in nums:\n",
    "        freq[num] = freq.get(num,0)+1\n",
    "\n",
    "    sortlst = sorted(freq.items(),key = lambda x: x[1],reverse =True)\n",
    "    sortlst = [x[0] for x in sortlst]\n",
    "    print(sortlst[0:k])\n",
    "\n",
    "topKFrequent([1,2,2,3,3,3],1)"
   ]
  },
  {
   "cell_type": "code",
   "execution_count": null,
   "id": "0924baee",
   "metadata": {},
   "outputs": [],
   "source": [
    "# Products of Array Except Self\n",
    "# Given an integer array nums, return an array output where output[i]\n",
    "# is the product of all the elements of nums except nums[i].\n",
    "\n",
    "# Each product is guaranteed to fit in a 32-bit integer.\n",
    "\n",
    "# Follow-up: Could you solve it in \n",
    "# O(n)\n",
    "# O(n) time without using the division operation?\n",
    "\n",
    "# Example 1:\n",
    "\n",
    "# Input: nums = [1,2,4,6]\n",
    "\n",
    "# Output: [48,24,12,8]\n",
    "\n",
    "def productExceptSelf(self, nums: List[int]) -> List[int]:\n",
    "    res = [1] * (len(nums))\n",
    "\n",
    "    prefix = 1\n",
    "    for i in range(len(nums)):\n",
    "        res[i] = prefix\n",
    "        prefix *= nums[i]\n",
    "\n",
    "    postfix = 1\n",
    "    for i in range(len(nums) - 1, -1, -1):\n",
    "        res[i] *= postfix\n",
    "        postfix *= nums[i]\n",
    "\n",
    "    return res\n",
    "\n"
   ]
  },
  {
   "cell_type": "code",
   "execution_count": null,
   "id": "42277b4c",
   "metadata": {},
   "outputs": [
    {
     "name": "stdout",
     "output_type": "stream",
     "text": [
      "3\n"
     ]
    }
   ],
   "source": [
    "# Longest Consecutive Sequence\n",
    "# Given an array of integers nums, return the length of\n",
    "# the longest consecutive sequence of elements that can be formed.\n",
    "\n",
    "# A consecutive sequence is a sequence of elements in which each\n",
    "# element is exactly 1 greater than the previous element. \n",
    "# The elements do not have to be consecutive in the original array.\n",
    "\n",
    "# You must write an algorithm that runs in O(n) time.\n",
    "\n",
    "# Example 1:\n",
    "\n",
    "# Input: nums = [2,20,4,10,3,4,5]\n",
    "\n",
    "# Output: 4\n",
    "\n",
    "\n",
    "def longestConsecutive(nums: List[int]) -> int:\n",
    "     \n",
    "\n",
    "\n",
    "print(longestConsecutive([2,20,4,10,3,4,5]))\n"
   ]
  },
  {
   "cell_type": "code",
   "execution_count": null,
   "id": "46e57367",
   "metadata": {},
   "outputs": [
    {
     "data": {
      "text/plain": [
       "True"
      ]
     },
     "execution_count": 61,
     "metadata": {},
     "output_type": "execute_result"
    }
   ],
   "source": [
    "import re\n",
    "\n",
    "def isPalindrome(s: str) -> bool:\n",
    "    s = re.sub(r'[^\\w\\s]','',s)\n",
    "    s = s.replace(' ','')\n",
    "    s=s.lower()\n",
    "    i,j  = 0, len(s)-1\n",
    "    miss =0\n",
    "\n",
    "    while i<j:\n",
    "        if s[i] !=s[j]:\n",
    "            miss +=1\n",
    "            if miss>1:\n",
    "                return False\n",
    "        i+=1\n",
    "        j-=1\n",
    "    return True\n",
    "\n",
    "\n",
    "isPalindrome(\"abbda\")"
   ]
  }
 ],
 "metadata": {
  "kernelspec": {
   "display_name": ".venv",
   "language": "python",
   "name": "python3"
  },
  "language_info": {
   "codemirror_mode": {
    "name": "ipython",
    "version": 3
   },
   "file_extension": ".py",
   "mimetype": "text/x-python",
   "name": "python",
   "nbconvert_exporter": "python",
   "pygments_lexer": "ipython3",
   "version": "3.12.0"
  }
 },
 "nbformat": 4,
 "nbformat_minor": 5
}
