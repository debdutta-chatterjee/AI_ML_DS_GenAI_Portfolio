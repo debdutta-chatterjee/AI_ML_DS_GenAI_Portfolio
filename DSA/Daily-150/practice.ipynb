{
 "cells": [
  {
   "cell_type": "code",
   "execution_count": 7,
   "id": "34363df7",
   "metadata": {},
   "outputs": [
    {
     "data": {
      "text/plain": [
       "0"
      ]
     },
     "execution_count": 7,
     "metadata": {},
     "output_type": "execute_result"
    }
   ],
   "source": [
    "# https://neetcode.io/problems/find-minimum-in-rotated-sorted-array?list=neetcode250\n",
    "from typing import List\n",
    "def findMin(nums: List[int]) -> int:\n",
    "    l,r = 0 , len(nums)-1\n",
    "    \n",
    "    while l<r:\n",
    "        mid = (l+r)//2\n",
    "        \n",
    "        if nums[mid]> nums[r]:\n",
    "            l=mid+1\n",
    "        else:\n",
    "            r = mid\n",
    "\n",
    "    return nums[l]\n",
    "\n",
    "findMin([4,5,0,1,2,3])\n",
    "\n"
   ]
  },
  {
   "cell_type": "code",
   "execution_count": 20,
   "id": "16ea573f",
   "metadata": {},
   "outputs": [
    {
     "data": {
      "text/plain": [
       "4"
      ]
     },
     "execution_count": 20,
     "metadata": {},
     "output_type": "execute_result"
    }
   ],
   "source": [
    "# https://neetcode.io/problems/find-target-in-rotated-sorted-array?list=neetcode250\n",
    "\n",
    "def search(nums: List[int], target: int) -> int:\n",
    "    l,r =0,len(nums)-1\n",
    "\n",
    "    while l<=r:\n",
    "        mid =(l+r)//2\n",
    "\n",
    "        if nums[mid] == target:\n",
    "            return mid\n",
    "        \n",
    "        if nums[mid] > nums[r]:\n",
    "            if nums[l] <= target < nums[mid]:\n",
    "                r = mid-1\n",
    "            else:\n",
    "                l =mid+1\n",
    "        else:\n",
    "            if nums[mid] < target <= nums[r]:\n",
    "                l = mid+1\n",
    "            else:\n",
    "                r = mid-1\n",
    "\n",
    "    return -1\n",
    "\n",
    "search([3,4,5,6,1,2],1)"
   ]
  },
  {
   "cell_type": "code",
   "execution_count": 26,
   "id": "7d34b6dc",
   "metadata": {},
   "outputs": [
    {
     "data": {
      "text/plain": [
       "True"
      ]
     },
     "execution_count": 26,
     "metadata": {},
     "output_type": "execute_result"
    }
   ],
   "source": [
    "# https://neetcode.io/problems/search-in-rotated-sorted-array-ii?list=neetcode250\n",
    "\n",
    "def search(nums: List[int], target: int) -> bool:\n",
    "    l,r = 0, len(nums)-1\n",
    "\n",
    "\n",
    "    while l<=r:\n",
    "        mid = (l+r)//2\n",
    "\n",
    "        if nums[mid] == target:\n",
    "            return True\n",
    "        \n",
    "        if nums[l] == nums[mid] == nums[r]:\n",
    "            l+=1\n",
    "            r-=1\n",
    "        elif nums[mid] >=  nums[l]:\n",
    "            #left half sorted\n",
    "            if nums[l] <= target < nums[mid]:\n",
    "                r = mid-1\n",
    "            else:\n",
    "                l = mid+1\n",
    "        else:\n",
    "            # right haf soreted\n",
    "            if nums[mid] < target <= nums[r]:\n",
    "                l = mid+1\n",
    "            else:\n",
    "                r = mid-1\n",
    "    return False\n",
    "\n",
    "\n",
    "search([3,3,1,3],1)"
   ]
  },
  {
   "cell_type": "code",
   "execution_count": null,
   "id": "daeb3db9",
   "metadata": {},
   "outputs": [
    {
     "name": "stdout",
     "output_type": "stream",
     "text": [
      "7\n",
      "6\n",
      "5\n",
      "4\n",
      "3\n",
      "2\n",
      "1\n"
     ]
    }
   ],
   "source": [
    "# https://neetcode.io/problems/implement-stack-using-queues?list=neetcode250\n",
    "# 1234567 765432\n",
    "class MyStack:\n",
    "\n",
    "    def __init__(self):\n",
    "        self.q1 =[]\n",
    "        self.q2 =[]\n",
    "\n",
    "    def push(self, x: int) -> None:\n",
    "        self.q1.append(x)\n",
    "\n",
    "    def pop(self) -> int:\n",
    "        if not self.q1 and not self.q2:\n",
    "            raise ValueError('Empty stack')\n",
    "        if not self.q2:\n",
    "            while len(self.q1)>1:\n",
    "                self.q2.append(self.q1.pop(0))\n",
    "        ele =self.q1.pop(0)\n",
    "        self.q1, self.q2 = self.q2, self.q1\n",
    "        return ele\n",
    "\n",
    "    def top(self) -> int:\n",
    "        if not self.q1 and not self.q2:\n",
    "            raise ValueError(\"Empty stack\")\n",
    "        while len(self.q1) > 1:\n",
    "            self.q2.append(self.q1.pop(0))\n",
    "        top_elem = self.q1[0]\n",
    "        self.q2.append(self.q1.pop(0))\n",
    "        self.q1, self.q2 = self.q2, self.q1\n",
    "        return top_elem\n",
    "\n",
    "    def empty(self) -> bool:\n",
    "        return not self.q1 and not self.q2\n",
    "\n",
    "obj = MyStack()\n",
    "obj.push(1)\n",
    "obj.push(2)\n",
    "obj.push(3)\n",
    "obj.push(4)\n",
    "obj.push(5)\n",
    "obj.push(6)\n",
    "obj.push(7)\n",
    "\n",
    "print(obj.pop())\n",
    "print(obj.pop())\n",
    "print(obj.pop())\n",
    "print(obj.pop())\n",
    "print(obj.pop())\n",
    "print(obj.pop())\n",
    "print(obj.pop())\n",
    "\n",
    "param_4 = obj.empty()"
   ]
  },
  {
   "cell_type": "code",
   "execution_count": 11,
   "id": "a34d4c05",
   "metadata": {},
   "outputs": [
    {
     "data": {
      "text/plain": [
       "'/_home/a'"
      ]
     },
     "execution_count": 11,
     "metadata": {},
     "output_type": "execute_result"
    }
   ],
   "source": [
    "# https://neetcode.io/problems/simplify-path?list=neetcode250\n",
    "def simplifyPath(path: str) -> str:\n",
    "    s = []\n",
    "    paths = path.split('/')\n",
    "\n",
    "    for curr in paths:\n",
    "        if curr == '..':\n",
    "            if s:\n",
    "                s.pop()\n",
    "        elif curr != \"\" and curr!='.':\n",
    "            s.append(curr)\n",
    "    \n",
    "    return '/'+'/'.join(s)\n",
    "\n",
    "\n",
    "simplifyPath(\"/..//_home/a/b/..///\")"
   ]
  },
  {
   "cell_type": "code",
   "execution_count": 12,
   "id": "62f9bc9a",
   "metadata": {},
   "outputs": [],
   "source": [
    "# https://neetcode.io/problems/minimum-stack?list=neetcode250\n",
    "\n",
    "class MinStack:\n",
    "\n",
    "    def __init__(self):\n",
    "        self.stack = []\n",
    "        self.min_stack = []\n",
    "\n",
    "    def push(self, val: int) -> None:\n",
    "        self.stack.append(val)\n",
    "        if not self.min_stack or val <= self.min_stack[-1]:\n",
    "            self.min_stack.append(val)\n",
    "        else:\n",
    "            self.min_stack.append(self.min_stack[-1])\n",
    "\n",
    "\n",
    "    def pop(self) -> None:\n",
    "        if not self.stack:\n",
    "            raise ValueError(\"Stack is empty\")\n",
    "        self.stack.pop()\n",
    "        self.min_stack.pop()\n",
    "\n",
    "    def top(self) -> int:\n",
    "        if not self.stack:\n",
    "            raise ValueError(\"Stack is empty\")\n",
    "        return self.stack[-1]\n",
    "\n",
    "    def getMin(self) -> int:\n",
    "        if not self.min_stack:\n",
    "            raise ValueError(\"Stack is empty\")\n",
    "        return self.min_stack[-1]"
   ]
  },
  {
   "cell_type": "code",
   "execution_count": 17,
   "id": "eca00fbf",
   "metadata": {},
   "outputs": [
    {
     "data": {
      "text/plain": [
       "5"
      ]
     },
     "execution_count": 17,
     "metadata": {},
     "output_type": "execute_result"
    }
   ],
   "source": [
    "# https://neetcode.io/problems/evaluate-reverse-polish-notation?list=neetcode250\n",
    "from typing import List\n",
    "def evalRPN(tokens: List[str]) -> int:\n",
    "    stack = []\n",
    "    operands =['+','-','*','/']\n",
    "\n",
    "    for t in tokens:\n",
    "        if t not in operands:\n",
    "            stack.append(t)\n",
    "        \n",
    "        else:\n",
    "            if len(stack)<2:\n",
    "                raise ValueError('not enough element')\n",
    "\n",
    "            l = int(stack.pop())\n",
    "            f = int(stack.pop())\n",
    "            \n",
    "            if t == '+':\n",
    "                r = f+l\n",
    "            elif t == '-':\n",
    "                r = f-l\n",
    "            elif t == '*':\n",
    "                r = f*l\n",
    "            elif t == '/':\n",
    "                r = int(f/l)\n",
    "            stack.append(r)\n",
    "    return r\n",
    "\n",
    "\n",
    "evalRPN([\"1\",\"2\",\"+\",\"3\",\"*\",\"4\",\"-\"])"
   ]
  },
  {
   "cell_type": "code",
   "execution_count": 21,
   "id": "000d76d9",
   "metadata": {},
   "outputs": [
    {
     "name": "stdout",
     "output_type": "stream",
     "text": [
      "[2, 4]\n",
      "[2]\n",
      "[2]\n"
     ]
    },
    {
     "data": {
      "text/plain": [
       "[2]"
      ]
     },
     "execution_count": 21,
     "metadata": {},
     "output_type": "execute_result"
    }
   ],
   "source": [
    "def asteroidCollision(asteroids: List[int]) -> List[int]:\n",
    "        stack =[]\n",
    "\n",
    "        for a in asteroids:\n",
    "            if not stack:\n",
    "                stack.append(a)\n",
    "                continue\n",
    "\n",
    "            l = stack.pop()\n",
    "            if l*a >0:\n",
    "               stack.append(l)\n",
    "               stack.append(a) \n",
    "            else:       \n",
    "                if abs(l)!=abs(a):         \n",
    "                    stack.append(max(l,a))\n",
    "            print(stack)\n",
    "        return stack\n",
    "\n",
    "asteroidCollision([2,4,-4,-1])"
   ]
  },
  {
   "cell_type": "code",
   "execution_count": 4,
   "id": "95748e81",
   "metadata": {},
   "outputs": [
    {
     "name": "stdout",
     "output_type": "stream",
     "text": [
      "65 0 A\n",
      "65 1 A\n"
     ]
    },
    {
     "data": {
      "text/plain": [
       "'BA'"
      ]
     },
     "execution_count": 4,
     "metadata": {},
     "output_type": "execute_result"
    }
   ],
   "source": [
    "def convertToTitle(columnNumber: int) -> str:\n",
    "    res =[]\n",
    "\n",
    "    while columnNumber>0:\n",
    "        columnNumber-=1\n",
    "        offset = columnNumber%26\n",
    "\n",
    "        res+= chr(ord('A')+offset)\n",
    "        print(ord('A'),offset,chr(ord('A')))\n",
    "        columnNumber//=26\n",
    "    return ''.join(reversed(res))\n",
    "\n",
    "\n",
    "convertToTitle(53)"
   ]
  },
  {
   "cell_type": "code",
   "execution_count": 8,
   "id": "2558a961",
   "metadata": {},
   "outputs": [
    {
     "data": {
      "text/plain": [
       "'AB'"
      ]
     },
     "execution_count": 8,
     "metadata": {},
     "output_type": "execute_result"
    }
   ],
   "source": [
    "def gcdOfStrings(str1: str, str2: str) -> str:\n",
    "    content = str1 if len(str1)>len(str2) else str2\n",
    "    divisor = str1 if len(str1)<len(str2) else str2\n",
    "\n",
    "    i,j =0,len(content)-1\n",
    "    while i<=j:\n",
    "        if divisor[i:j] in content:\n",
    "            return divisor[i:j]\n",
    "        start = gcdOfStrings(divisor[i:j-1])\n",
    "        end = gcdOfStrings(divisor[i+1:j])\n",
    "        \n",
    "        return start if len(start) >len(end) else end\n",
    "    return -1\n",
    "\n",
    "gcdOfStrings('ABAB','AB')"
   ]
  },
  {
   "cell_type": "code",
   "execution_count": null,
   "id": "068b0477",
   "metadata": {},
   "outputs": [],
   "source": [
    "def transpose(matrix: List[List[int]]) -> List[List[int]]:\n",
    "        row = len(matrix)\n",
    "        cols = len(matrix[0])\n",
    "\n",
    "        res =[[0]*row for _ in range(cols)]\n",
    "\n",
    "        for r in range(len(matrix)):\n",
    "            for c in range(len(matrix[0])):\n",
    "                res[c][r] = matrix[r][c]\n",
    "        \n",
    "        return res"
   ]
  },
  {
   "cell_type": "code",
   "execution_count": null,
   "id": "d13e81fa",
   "metadata": {},
   "outputs": [],
   "source": [
    "def setZeroes(matrix: List[List[int]]) -> None:\n",
    "\n",
    "    row = len(matrix)\n",
    "    col = len(matrix[0])\n",
    "    rowZero=False\n",
    "\n",
    "    for r in range(row):\n",
    "        for c in range(col):\n",
    "            if matrix[r][c]==0:\n",
    "                matrix[0][c]=0\n",
    "                if r>0:\n",
    "                    matrix[r][0]=0\n",
    "                else:\n",
    "                    rowZero=True\n",
    "\n",
    "    for r in range(1,row):\n",
    "        for c in range(1,col):\n",
    "            if matrix[r][0]==0 or matrix[0][c]==0:\n",
    "                matrix[r][c]=0\n",
    "\n",
    "    if matrix[0][0]==0:\n",
    "        for r in range(row):\n",
    "            matrix[r][0]=0\n",
    "\n",
    "    if rowZero:\n",
    "        for c in range(col):\n",
    "            matrix[0][c]=0\n"
   ]
  },
  {
   "cell_type": "code",
   "execution_count": null,
   "id": "7ab831f3",
   "metadata": {},
   "outputs": [],
   "source": [
    "# https://neetcode.io/problems/reverse-bits?list=neetcode250\n",
    "\n",
    "def reverseBits(n: int) -> int:\n",
    "    res =0\n",
    "    for i in range(32):\n",
    "        bit = (n>>i)&1\n",
    "        print(bit)\n",
    "        res+=(bit<<(31-i))\n",
    "        print(res)\n",
    "    return res\n",
    "# len(bin(5)[2:])\n",
    "\n",
    "reverseBits(2)\n",
    "    "
   ]
  },
  {
   "cell_type": "code",
   "execution_count": 1,
   "id": "94572979",
   "metadata": {},
   "outputs": [],
   "source": [
    "# https://neetcode.io/problems/bitwise-and-of-numbers-range?list=neetcode250\n",
    "\n",
    "def rangeBitwiseAnd(left: int, right: int) -> int:\n",
    "    res = 0 \n",
    "    while left<right:\n",
    "        res &= right-1\n",
    "    return res\n"
   ]
  },
  {
   "cell_type": "code",
   "execution_count": null,
   "id": "7598b04e",
   "metadata": {},
   "outputs": [
    {
     "data": {
      "text/plain": [
       "True"
      ]
     },
     "execution_count": 5,
     "metadata": {},
     "output_type": "execute_result"
    }
   ],
   "source": [
    "# https://leetcode.com/problems/contains-duplicate-ii/description/\n",
    "\n",
    "def containsNearbyDuplicate(nums, k):\n",
    "    seen = {}\n",
    "    \n",
    "    for i, n in enumerate(nums):\n",
    "        if n in seen and i - seen[n] == k:\n",
    "            return True\n",
    "        seen[n] =i\n",
    "    return False\n",
    "\n",
    "containsNearbyDuplicate([1,2,3,1],3)\n",
    "containsNearbyDuplicate([1,0,1,1],1)\n"
   ]
  },
  {
   "cell_type": "code",
   "execution_count": null,
   "id": "206d2895",
   "metadata": {},
   "outputs": [],
   "source": [
    "def maxProfit(self, prices: List[int]) -> int:\n",
    "        maxP=0\n",
    "        l,r=0,1\n",
    "\n",
    "        while r<len(prices):\n",
    "            if prices[r] >prices[l]:\n",
    "                maxP= max(maxP, prices[r]-prices[l])\n",
    "            else:\n",
    "                l=r\n",
    "            r=r+1\n",
    "        return maxP"
   ]
  },
  {
   "cell_type": "code",
   "execution_count": null,
   "id": "19099cab",
   "metadata": {},
   "outputs": [],
   "source": [
    "def lengthOfLongestSubstring(s: str) -> int:\n",
    "    l=0\n",
    "    map ={}\n",
    "    res=0\n",
    "    for r in range(len(s)):\n",
    "        if s[r] in map:\n",
    "            l = max(map[s[r]]+1,l)\n",
    "        map[s[r]] = r\n",
    "\n",
    "        res = max(res,r-l+1)"
   ]
  },
  {
   "cell_type": "code",
   "execution_count": null,
   "id": "c9f2d238",
   "metadata": {},
   "outputs": [
    {
     "data": {
      "text/plain": [
       "3"
      ]
     },
     "execution_count": 14,
     "metadata": {},
     "output_type": "execute_result"
    }
   ],
   "source": [
    "#https://neetcode.io/problems/minimum-size-subarray-sum?list=neetcode250\n",
    "from typing import List\n",
    "def minSubArrayLen(target: int, nums: List[int]) -> int:\n",
    "        l =0 \n",
    "        total = 0\n",
    "        min_length= float('inf')\n",
    "\n",
    "        for r in range(len(nums)):\n",
    "            total += nums[r]\n",
    "\n",
    "            while total >= target:\n",
    "                min_length = min(min_length, r-l+1)\n",
    "                total-= nums[l]\n",
    "                l+=1\n",
    "        return 0 if min_length==float('inf') else min_length\n",
    "\n",
    "\n",
    "minSubArrayLen(10,[2,1,5,1,5,3])"
   ]
  },
  {
   "cell_type": "code",
   "execution_count": null,
   "id": "76b98f18",
   "metadata": {},
   "outputs": [],
   "source": [
    "#https://neetcode.io/problems/find-k-closest-elements?list=neetcode250\n",
    "\n",
    "def findClosestElements(arr: List[int], k: int, x: int) -> List[int]:\n",
    "    l,r = 0,len(arr)\n",
    "    while l<=r:\n",
    "        mid = (l+r)//2\n",
    "\n",
    "        if arr[mid] <x:\n",
    "            l= mid+1\n",
    "        else:\n",
    "            r = mid\n",
    "    \n",
    "    l,r = l-1,l\n",
    "\n",
    "    while r-l-1<k:\n",
    "        if l<0:\n",
    "            r+=1\n",
    "        elif r>=len(arr):\n",
    "            l-=1\n",
    "        elif abs(arr[l]-x)<=abs(arr[r]-x):\n",
    "            l-=1\n",
    "        else:\n",
    "            r+=1\n",
    "\n",
    "    return arr[l+1:k]\n",
    "\n",
    "findClosestElements([2,4,5,8], 2, 6)"
   ]
  },
  {
   "cell_type": "code",
   "execution_count": null,
   "id": "9f294612",
   "metadata": {},
   "outputs": [
    {
     "data": {
      "text/plain": [
       "2"
      ]
     },
     "execution_count": 16,
     "metadata": {},
     "output_type": "execute_result"
    }
   ],
   "source": [
    "#https://neetcode.io/problems/subarray-sum-equals-k?list=neetcode250\n",
    "\n",
    "def subarraySum(nums: List[int], k: int) -> int:\n",
    "    res = 0\n",
    "    cur_sum = 0\n",
    "    prefixSum ={0:1}\n",
    "\n",
    "    for num in nums:\n",
    "        cur_sum+= num\n",
    "\n",
    "        diff = cur_sum-k\n",
    "\n",
    "        res+= prefixSum.get(diff,0)\n",
    "        prefixSum[cur_sum] = 1+ prefixSum.get(cur_sum,0)\n",
    "\n",
    "    return res\n",
    "    \n",
    "\n",
    "\n",
    "\n",
    "\n",
    "subarraySum([2,-1,1,2], 2)"
   ]
  },
  {
   "cell_type": "code",
   "execution_count": null,
   "id": "7d2f061f",
   "metadata": {},
   "outputs": [],
   "source": [
    "# https://neetcode.io/problems/sort-colors?list=neetcode250\n",
    "\n",
    "def sortColors(nums: List[int]) -> None:\n",
    "    l ,m,h = 0,0,len(nums)-1\n",
    "\n",
    "    while m<=r:\n",
    "        if nums[m] == 0:\n",
    "            nums[l],nums[m] = nums[m], nums[l]\n",
    "            l+=1\n",
    "            m+=1\n",
    "        elif nums[m] == 1:\n",
    "            m+=1\n",
    "        else:\n",
    "           nums[h],nums[m] = nums[m], nums[h] \n",
    "           h-=1\n",
    "        "
   ]
  }
 ],
 "metadata": {
  "kernelspec": {
   "display_name": ".venv",
   "language": "python",
   "name": "python3"
  },
  "language_info": {
   "codemirror_mode": {
    "name": "ipython",
    "version": 3
   },
   "file_extension": ".py",
   "mimetype": "text/x-python",
   "name": "python",
   "nbconvert_exporter": "python",
   "pygments_lexer": "ipython3",
   "version": "3.12.0"
  }
 },
 "nbformat": 4,
 "nbformat_minor": 5
}
