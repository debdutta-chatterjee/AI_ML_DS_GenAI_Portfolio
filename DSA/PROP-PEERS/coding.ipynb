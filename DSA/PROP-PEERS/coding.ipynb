{
 "cells": [
  {
   "cell_type": "code",
   "execution_count": 8,
   "id": "183439fa",
   "metadata": {},
   "outputs": [
    {
     "name": "stdout",
     "output_type": "stream",
     "text": [
      "aba\n"
     ]
    },
    {
     "data": {
      "text/plain": [
       "True"
      ]
     },
     "execution_count": 8,
     "metadata": {},
     "output_type": "execute_result"
    }
   ],
   "source": [
    "# https://leetcode.com/problems/valid-palindrome/description/\n",
    "\n",
    "import re\n",
    "def isPalindrome(s):\n",
    "    s = s.lower()\n",
    "    pattern = r'[^A-Za-z0-9]'\n",
    "    s = re.sub(pattern,'',s)\n",
    "    s=s.replace(' ','')\n",
    "    print(s)\n",
    "    i,j =0,len(s)-1\n",
    "\n",
    "    while i<j:\n",
    "        if s[i]!=s[j]:\n",
    "            return False\n",
    "        i+=1\n",
    "        j-=1\n",
    "    return True\n",
    "\n",
    "isPalindrome(\"ab_a\")"
   ]
  },
  {
   "cell_type": "code",
   "execution_count": 16,
   "id": "d3693f12",
   "metadata": {},
   "outputs": [
    {
     "data": {
      "text/plain": [
       "'example good a'"
      ]
     },
     "execution_count": 16,
     "metadata": {},
     "output_type": "execute_result"
    }
   ],
   "source": [
    "# https://leetcode.com/problems/reverse-words-in-a-string/\n",
    "\n",
    "def reverseWords(s):\n",
    "    s = s.strip()\n",
    "    words = s.split(' ')\n",
    "    res =[]\n",
    "    for i in range(len(words)-1,-1,-1):\n",
    "        formatted = words[i].strip()\n",
    "        if formatted:\n",
    "            res.append(formatted)\n",
    "    return ' '.join(res)\n",
    "\n",
    "reverseWords(\"a good   example\")"
   ]
  },
  {
   "cell_type": "code",
   "execution_count": 19,
   "id": "3db36656",
   "metadata": {},
   "outputs": [
    {
     "data": {
      "text/plain": [
       "'d'"
      ]
     },
     "execution_count": 19,
     "metadata": {},
     "output_type": "execute_result"
    }
   ],
   "source": [
    "# https://leetcode.com/problems/longest-palindromic-substring/description/\n",
    "\n",
    "def longestPalindrome(s):\n",
    "    def is_palindrome(str):\n",
    "        i,j =0,len(str)-1\n",
    "\n",
    "        while i<j:\n",
    "            if str[i]!=str[j]:\n",
    "                return False\n",
    "            i+=1\n",
    "            j-=1\n",
    "        return True\n",
    "\n",
    "    i,j = 0,len(s)-1\n",
    "    if (is_palindrome(s[i:j+1])):\n",
    "        return s[i:j+1]\n",
    "\n",
    "    return longestPalindrome(s[i+1:j+1]) or longestPalindrome(s[i:j])\n",
    "\n",
    "\n",
    "longestPalindrome('babad')"
   ]
  },
  {
   "cell_type": "code",
   "execution_count": null,
   "id": "ef2a2701",
   "metadata": {},
   "outputs": [
    {
     "data": {
      "text/plain": [
       "-1"
      ]
     },
     "execution_count": 25,
     "metadata": {},
     "output_type": "execute_result"
    }
   ],
   "source": [
    "# https://leetcode.com/problems/find-the-index-of-the-first-occurrence-in-a-string/description/\n",
    "\n",
    "def strStr(haystack, needle):\n",
    "    i=0\n",
    "    j =i+len(needle)\n",
    "\n",
    "    while j<=len(haystack):\n",
    "        if haystack[i:j] == needle:\n",
    "            return i\n",
    "        else:\n",
    "            i+=1\n",
    "            j+=1\n",
    "    return -1\n",
    "\n",
    "\n",
    "strStr(\"leetcode\",\"leeto\")"
   ]
  },
  {
   "cell_type": "code",
   "execution_count": 30,
   "id": "fea3a53e",
   "metadata": {},
   "outputs": [
    {
     "name": "stdout",
     "output_type": "stream",
     "text": [
      "[0, 0, 1, 1, 1, 2, 2, 3, 3, 4]\n",
      "[0, 1, 1, 1, 1, 2, 2, 3, 3, 4]\n",
      "[0, 1, 1, 1, 1, 2, 2, 3, 3, 4]\n",
      "[0, 1, 1, 1, 1, 2, 2, 3, 3, 4]\n",
      "[0, 1, 2, 1, 1, 2, 2, 3, 3, 4]\n",
      "[0, 1, 2, 1, 1, 2, 2, 3, 3, 4]\n",
      "[0, 1, 2, 3, 1, 2, 2, 3, 3, 4]\n",
      "[0, 1, 2, 3, 1, 2, 2, 3, 3, 4]\n",
      "[0, 1, 2, 3, 4, 2, 2, 3, 3, 4]\n"
     ]
    },
    {
     "data": {
      "text/plain": [
       "[0, 1, 2, 3, 4, 2, 2, 3, 3, 4]"
      ]
     },
     "execution_count": 30,
     "metadata": {},
     "output_type": "execute_result"
    }
   ],
   "source": [
    "# https://leetcode.com/problems/remove-duplicates-from-sorted-array/description/\n",
    "\n",
    "def removeDuplicates(nums):\n",
    "    k =1\n",
    "    for i in range(1,len(nums)):\n",
    "        if nums[i] != nums[i-1]:\n",
    "            nums[k]= nums[i]\n",
    "            k+=1\n",
    "        print(nums)\n",
    "    return nums\n",
    "\n",
    "removeDuplicates([0,0,1,1,1,2,2,3,3,4])"
   ]
  },
  {
   "cell_type": "code",
   "execution_count": null,
   "id": "5c80b7bf",
   "metadata": {},
   "outputs": [
    {
     "data": {
      "text/plain": [
       "[0, 1]"
      ]
     },
     "execution_count": 36,
     "metadata": {},
     "output_type": "execute_result"
    }
   ],
   "source": [
    "# https://leetcode.com/problems/two-sum/description/\n",
    "\n",
    "def twoSum__(nums, target):\n",
    "    seen = dict()\n",
    "\n",
    "    for i,n in enumerate(nums):\n",
    "        rem = target-n\n",
    "        if rem in seen:\n",
    "            return [seen[rem],i]\n",
    "        seen[n] = i\n",
    "    return [-1,-1]\n",
    "\n",
    "\n",
    "def twoSum(nums, target):\n",
    "    i,j = 0,len(nums)-1\n",
    "\n",
    "    while i<j:\n",
    "        sums = nums[i]+sum[j]\n",
    "\n",
    "        if sums == target:\n",
    "            return[i,j]\n",
    "        elif sums<target:\n",
    "            i+=1\n",
    "        elif sums>target:\n",
    "            j-=1\n",
    "    return[-1,-1]\n",
    "\n",
    "twoSum([2,7,11,15],9)"
   ]
  },
  {
   "cell_type": "code",
   "execution_count": 40,
   "id": "09af67df",
   "metadata": {},
   "outputs": [
    {
     "data": {
      "text/plain": [
       "[0, 1, 9, 16, 100]"
      ]
     },
     "execution_count": 40,
     "metadata": {},
     "output_type": "execute_result"
    }
   ],
   "source": [
    "# https://leetcode.com/problems/squares-of-a-sorted-array/description/\n",
    "\n",
    "def sortedSquares(nums):\n",
    "    n = len(nums)\n",
    "    res = [0]*n\n",
    "    l,r = 0, n-1\n",
    "    pos = n-1\n",
    "    while l<r:\n",
    "        if abs(nums[l]) >= abs(nums[r]):\n",
    "            res[pos]  = nums[l]**2\n",
    "            l+=1\n",
    "        else:\n",
    "           res[pos]  = nums[r]**2 \n",
    "           r-=1\n",
    "        pos-=1\n",
    "    return res\n",
    "\n",
    "sortedSquares([-4,-1,0,3,10])"
   ]
  }
 ],
 "metadata": {
  "kernelspec": {
   "display_name": ".venv",
   "language": "python",
   "name": "python3"
  },
  "language_info": {
   "codemirror_mode": {
    "name": "ipython",
    "version": 3
   },
   "file_extension": ".py",
   "mimetype": "text/x-python",
   "name": "python",
   "nbconvert_exporter": "python",
   "pygments_lexer": "ipython3",
   "version": "3.12.0"
  }
 },
 "nbformat": 4,
 "nbformat_minor": 5
}
