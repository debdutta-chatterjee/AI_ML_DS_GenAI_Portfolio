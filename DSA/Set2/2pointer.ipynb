{
 "cells": [
  {
   "cell_type": "code",
   "execution_count": 5,
   "id": "6ba450b1",
   "metadata": {},
   "outputs": [
    {
     "data": {
      "text/plain": [
       "'axbycz'"
      ]
     },
     "execution_count": 5,
     "metadata": {},
     "output_type": "execute_result"
    }
   ],
   "source": [
    "# Merge Strings Alternately\n",
    "# You are given two strings, word1 and word2. Construct \n",
    "# a new string by merging them in alternating order, starting with word1 —\n",
    "#  take one character from word1, then one from word2, and repeat this process.\n",
    "\n",
    "# If one string is longer than the other, append the remaining characters\n",
    "# from the longer string to the end of the merged result.\n",
    "\n",
    "# Return the final merged string.\n",
    "\n",
    "# Example 1:\n",
    "\n",
    "# Input: word1 = \"abc\", word2 = \"xyz\"\n",
    "\n",
    "# Output: \"axbycz\"\n",
    "\n",
    "def mergeAlternately(word1: str, word2: str) -> str:\n",
    "    i,j =0,0\n",
    "    new_word =''\n",
    "    while i < len(word1) or j <len(word2):\n",
    "        if i < len(word1):\n",
    "            new_word = new_word+word1[i]\n",
    "            i+=1\n",
    "        if j <len(word2):\n",
    "            new_word = new_word+word2[j]\n",
    "            j+=1\n",
    "    return new_word\n",
    "\n",
    "mergeAlternately(\"abc\",\"xyz\")\n"
   ]
  },
  {
   "cell_type": "code",
   "execution_count": null,
   "id": "fec4c834",
   "metadata": {},
   "outputs": [],
   "source": [
    "# m is the number of valid elements in nums1,\n",
    "# n is the number of elements in nums2.\n",
    "# The array nums1 has a total length of (m+n), with the\n",
    "# first m elements containing the values to be merged, and the \n",
    "# last n elements set to 0 as placeholders.\n",
    "\n",
    "# Your task is to merge the two arrays such that the final merged array \n",
    "# is also sorted in non-decreasing order and stored entirely within nums1.\n",
    "# You must modify nums1 in-place and do not return anything from the function.\n",
    "\n",
    "# Example 1:\n",
    "\n",
    "# Input: nums1 = [10,20,20,40,0,0], m = 4, nums2 = [1,2], n = 2\n",
    "\n",
    "# Output: [1,2,10,20,20,40]\n",
    "\n",
    "from typing import List\n",
    "def merge(nums1: List[int], m: int, nums2: List[int], n: int) -> None:\n",
    "    m = len(nums1)\n",
    "    n = len(nums2)\n",
    "    i,j =0,0\n",
    "    \n",
    "    while i < m or j < n:\n",
    "        if nums1[i] >nums2[j]:\n",
    "            \n",
    "\n",
    "\n",
    "\n",
    "merge([10,20,20,40,0,0],[1,2])"
   ]
  },
  {
   "cell_type": "code",
   "execution_count": null,
   "id": "9ce1b157",
   "metadata": {},
   "outputs": [],
   "source": [
    "# Remove Duplicates From Sorted Array\n",
    "# You are given an integer array nums sorted in non-decreasing order. \n",
    "# Your task is to remove duplicates from nums in-place so that each element appears only once.\n",
    "\n",
    "# After removing the duplicates, return the number of unique elements,\n",
    "# denoted as k, such that the first k elements of nums contain the unique elements.\n",
    "\n",
    "# Note:\n",
    "\n",
    "# The order of the unique elements should remain the same as in the original array.\n",
    "# It is not necessary to consider elements beyond the first k positions of the array.\n",
    "# To be accepted, the first k elements of nums must contain all the unique elements.\n",
    "# Return k as the final result.\n",
    "\n",
    "# Example 1:\n",
    "\n",
    "# Input: nums = [1,1,2,3,4]\n",
    "\n",
    "# Output: [1,2,3,4]\n",
    "\n",
    "\n",
    "def removeDuplicates(nums: List[int]) -> int:\n",
    "    k = 1\n",
    "    for i in range(1,len(nums)):\n",
    "        if nums[i-1] != nums[i]:\n",
    "            nums[k] = nums[i]\n",
    "            K+=1\n",
    "    return k\n",
    "\n",
    "\n"
   ]
  },
  {
   "cell_type": "code",
   "execution_count": 7,
   "id": "d73e5d9d",
   "metadata": {},
   "outputs": [
    {
     "data": {
      "text/plain": [
       "[1, 2]"
      ]
     },
     "execution_count": 7,
     "metadata": {},
     "output_type": "execute_result"
    }
   ],
   "source": [
    "# Two Integer Sum II\n",
    "# Given an array of integers numbers that is sorted in non-decreasing order.\n",
    "\n",
    "# Return the indices (1-indexed) of two numbers, [index1, index2],\n",
    "# such that they add up to a given target number target and index1 < index2. \n",
    "# Note that index1 and index2 cannot be equal, therefore you may not use the same element twice.\n",
    "\n",
    "# There will always be exactly one valid solution.\n",
    "\n",
    "# Your solution must use \n",
    "# O(1)\n",
    "# O(1) additional space.\n",
    "\n",
    "# Example 1:\n",
    "\n",
    "# Input: numbers = [1,2,3,4], target = 3\n",
    "\n",
    "# Output: [1,2]\n",
    "from typing import List\n",
    "def twoSum(numbers: List[int], target: int) -> List[int]:\n",
    "\n",
    "    i, j = 0, len(numbers)-1\n",
    "\n",
    "    while i<j:\n",
    "        currSum = numbers[i]+numbers[j]\n",
    "\n",
    "        if currSum == target:\n",
    "            return [i+1,j+1]\n",
    "        \n",
    "        if currSum<target:\n",
    "            i+=1\n",
    "        elif currSum> target:\n",
    "            j-=1\n",
    "    return []\n",
    "\n",
    "\n",
    "twoSum([1,2,3,4],3)\n",
    "\n"
   ]
  },
  {
   "cell_type": "code",
   "execution_count": null,
   "id": "dc403259",
   "metadata": {},
   "outputs": [],
   "source": [
    "# 3Sum\n",
    "# Given an integer array nums, return all the triplets \n",
    "# [nums[i], nums[j], nums[k]] where nums[i] + nums[j] + nums[k] == 0, \n",
    "# and the indices i, j and k are all distinct.\n",
    "\n",
    "# The output should not contain any duplicate triplets. \n",
    "# You may return the output and the triplets in any order.\n",
    "\n",
    "# Example 1:\n",
    "\n",
    "# Input: nums = [-1,0,1,2,-1,-4]\n",
    "\n",
    "# Output: [[-1,-1,2],[-1,0,1]]\n",
    "\n",
    "def threeSum(nums: List[int]) -> List[List[int]]:\n",
    "    "
   ]
  },
  {
   "cell_type": "code",
   "execution_count": null,
   "id": "3325cb1e",
   "metadata": {},
   "outputs": [],
   "source": []
  },
  {
   "cell_type": "code",
   "execution_count": null,
   "id": "faf6a4f2",
   "metadata": {},
   "outputs": [],
   "source": [
    "#Two Integer Sum II\n",
    "# Merge Sorted Array\n",
    "# You are given two integer arrays nums1 and nums2, both sorted in \n",
    "# non-decreasing order, along with two integers m and n, where:\n",
    "# Remove Duplicates From Sorted Array"
   ]
  },
  {
   "cell_type": "code",
   "execution_count": null,
   "id": "27c7b5df",
   "metadata": {},
   "outputs": [],
   "source": [
    "# https://neetcode.io/problems/boats-to-save-people?list=neetcode250\n",
    "\n",
    "def numRescueBoats(people: List[int], limit: int) -> int:\n",
    "    "
   ]
  }
 ],
 "metadata": {
  "kernelspec": {
   "display_name": ".venv",
   "language": "python",
   "name": "python3"
  },
  "language_info": {
   "codemirror_mode": {
    "name": "ipython",
    "version": 3
   },
   "file_extension": ".py",
   "mimetype": "text/x-python",
   "name": "python",
   "nbconvert_exporter": "python",
   "pygments_lexer": "ipython3",
   "version": "3.12.0"
  }
 },
 "nbformat": 4,
 "nbformat_minor": 5
}
