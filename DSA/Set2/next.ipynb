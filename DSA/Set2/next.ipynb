{
 "cells": [
  {
   "cell_type": "code",
   "execution_count": null,
   "id": "ef86cf4a",
   "metadata": {},
   "outputs": [],
   "source": [
    "https://neetcode.io/problems/sqrtx?list=neetcode250"
   ]
  }
 ],
 "metadata": {
  "language_info": {
   "name": "python"
  }
 },
 "nbformat": 4,
 "nbformat_minor": 5
}
