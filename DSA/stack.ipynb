{
 "cells": [
  {
   "cell_type": "code",
   "execution_count": null,
   "id": "6f70fced",
   "metadata": {},
   "outputs": [
    {
     "name": "stdout",
     "output_type": "stream",
     "text": [
      "[10, 20, 30, 40]\n",
      "[20, 30, 40]\n",
      "[30, 40]\n",
      "[40]\n",
      "[]\n"
     ]
    }
   ],
   "source": [
    "# 1. Implement queue using stack\n",
    "class myQueue:\n",
    "\n",
    "    def __init__(self):\n",
    "        self.s1=[]\n",
    "        self.s2=[]\n",
    "\n",
    "    def dequeue(self):\n",
    "        if not self.s2:\n",
    "            while self.s1:\n",
    "                self.s2.append(self.s1.pop())\n",
    "        if not self.s2:\n",
    "            return -1\n",
    "        return self.s2.pop()\n",
    "\n",
    "\n",
    "    def dequeue_0(self):\n",
    "        if not self.s1:\n",
    "            return -1\n",
    "        \n",
    "        while self.s1:\n",
    "            self.s2.append(self.s1.pop())\n",
    "        item = self.s2.pop()\n",
    "        while self.s2:\n",
    "            self.s1.append(self.s2.pop())\n",
    "        return item        \n",
    "\n",
    "    def enqueue(self,x):\n",
    "        self.s1.append(x)\n",
    "\n",
    "    def print(self):\n",
    "        print(self.s1)\n",
    "    \n",
    "q = myQueue()\n",
    "q.enqueue(10)\n",
    "q.enqueue(20)\n",
    "q.enqueue(30)\n",
    "q.enqueue(40)\n",
    "\n",
    "q.print()\n",
    "\n",
    "\n",
    "q.dequeue()\n",
    "q.print()\n",
    "q.dequeue()\n",
    "q.print()\n",
    "q.dequeue()\n",
    "q.print()\n",
    "q.dequeue()\n",
    "q.print()"
   ]
  },
  {
   "cell_type": "code",
   "execution_count": 20,
   "id": "5f6a7038",
   "metadata": {},
   "outputs": [
    {
     "name": "stdout",
     "output_type": "stream",
     "text": [
      "True\n",
      "True\n",
      "False\n",
      "False\n"
     ]
    }
   ],
   "source": [
    "# 2. Check for balanced parentheses in an expression\n",
    "\n",
    "def valid_paranthesis(s):\n",
    "    map = {']':'[',')':'(','}':'{'}\n",
    "    s1=[]\n",
    "\n",
    "    for char in s:        \n",
    "        if char in map.values():\n",
    "            s1.append(char)\n",
    "        elif char in map.keys():\n",
    "            if not s1 or map[char] != s1[-1]:\n",
    "                return False      \n",
    "            s1.pop()     \n",
    "    if not s1:\n",
    "        return True\n",
    "    return False\n",
    "\n",
    "\n",
    "print(valid_paranthesis('[{()}]'))\n",
    "print(valid_paranthesis('[()()]{}'))\n",
    "print(valid_paranthesis('([]'))\n",
    "print(valid_paranthesis('([{]})')) "
   ]
  },
  {
   "cell_type": "code",
   "execution_count": 21,
   "id": "2461b507",
   "metadata": {},
   "outputs": [
    {
     "name": "stdout",
     "output_type": "stream",
     "text": [
      "4 3 2 1 "
     ]
    }
   ],
   "source": [
    "#3. Reverse a string using recursion\n",
    "\n",
    "def insertAtBottom(s,x):\n",
    "    if not s:\n",
    "        s.append(x)\n",
    "    else:\n",
    "        a =s.pop()\n",
    "        insertAtBottom(s,a)\n",
    "        s.append(a)\n",
    "\n",
    "def reverse(s):\n",
    "    if not s:\n",
    "        x = s.pop()\n",
    "        reverse(x)\n",
    "        insertAtBottom(s,x)\n",
    "\n",
    "\n",
    "if __name__ == '__main__':\n",
    "    s = []\n",
    "\n",
    "    s.append(1)\n",
    "    s.append(2)\n",
    "    s.append(3)\n",
    "    s.append(4)\n",
    "\n",
    "    reverse(s)\n",
    "\n",
    "    while s:\n",
    "        print(s.pop(), end=' ')"
   ]
  },
  {
   "cell_type": "code",
   "execution_count": null,
   "id": "2ff753ef",
   "metadata": {},
   "outputs": [
    {
     "name": "stdout",
     "output_type": "stream",
     "text": [
      "[1, 2, 3]\n",
      "current size:  3\n",
      "[1, 2]\n",
      "[1]\n",
      "current size:  1\n",
      "[1]\n"
     ]
    }
   ],
   "source": [
    "# 5. Implement stack using queues\n",
    "\n",
    "class stack_using_q():\n",
    "\n",
    "    def __init__(self):\n",
    "        self.q1 =[]\n",
    "        self.q2 =[]\n",
    "        self.size =0\n",
    "\n",
    "    def push(self,x):\n",
    "        self.q1.append(x)\n",
    "        self.size +=1\n",
    "\n",
    "    def pop(self):\n",
    "        if not self.q1:\n",
    "            return -1 \n",
    "        \n",
    "        while self.q1:\n",
    "            if len(self.q1) != 1:\n",
    "                self.q2.append(self.q1.pop(0))\n",
    "            else:\n",
    "                item = self.q1.pop(0)\n",
    "        while self.q2:\n",
    "            self.q1.append(self.q2.pop(0))\n",
    "        self.size -=1\n",
    "        return item\n",
    "\n",
    "    def sizes(self):\n",
    "        return self.size\n",
    "    \n",
    "    def print(self):\n",
    "        print(self.q1)\n",
    "\n",
    "if __name__ == '__main__':\n",
    "    s = stack_using_q()\n",
    "    s.push(1)\n",
    "    s.push(2)\n",
    "    s.push(3)\n",
    "\n",
    "    s.print()\n",
    "    print(\"current size: \", s.sizes())\n",
    "    s.pop()\n",
    "    s.print()\n",
    "    s.pop()\n",
    "    s.print()\n",
    "\n",
    "    print(\"current size: \", s.sizes())\n",
    "    s.print()"
   ]
  },
  {
   "cell_type": "code",
   "execution_count": null,
   "id": "dc7df611",
   "metadata": {},
   "outputs": [
    {
     "name": "stdout",
     "output_type": "stream",
     "text": [
      "0\n"
     ]
    }
   ],
   "source": [
    "# 4. Design and implement special stack\n",
    "\n",
    "class special_stack():\n",
    "\n",
    "    def __init__(self,max_size=10):\n",
    "        self.s1 = []\n",
    "        self.min = 0\n",
    "        self.max_size = max_size\n",
    "        self.top_index = 0\n",
    "\n",
    "    def push(self,x):\n",
    "        if not self.isFull():\n",
    "            self.min = min(self.min,x)\n",
    "            self.s1.append(x)\n",
    "            self.top_index += 1\n",
    "    \n",
    "    def pop(self):\n",
    "        if not self.isEmpty():\n",
    "            item = self.s1[self.top_index]\n",
    "            self.top_index -= 1\n",
    "            return item\n",
    "    \n",
    "    def isEmpty(self):\n",
    "        return len(self.s1) == 0\n",
    "\n",
    "    def isFull(self):\n",
    "        return len(self.s1) == self.max_size\n",
    "\n",
    "    def getMin(self):\n",
    "        return self.min\n",
    "    \n",
    "if __name__ == '__main__':\n",
    "    stack = special_stack()\n",
    "    \n",
    "    stack.push(18)\n",
    "    stack.push(19)\n",
    "    stack.push(29)\n",
    "    stack.push(15)\n",
    "    stack.push(16)\n",
    "\n",
    "    print(stack.getMin())"
   ]
  },
  {
   "cell_type": "code",
   "execution_count": null,
   "id": "0cf165a3",
   "metadata": {},
   "outputs": [],
   "source": [
    "STACK\n",
    "\n",
    " 6. Expression evaluation\n"
   ]
  }
 ],
 "metadata": {
  "kernelspec": {
   "display_name": ".venv",
   "language": "python",
   "name": "python3"
  },
  "language_info": {
   "codemirror_mode": {
    "name": "ipython",
    "version": 3
   },
   "file_extension": ".py",
   "mimetype": "text/x-python",
   "name": "python",
   "nbconvert_exporter": "python",
   "pygments_lexer": "ipython3",
   "version": "3.12.0"
  }
 },
 "nbformat": 4,
 "nbformat_minor": 5
}
