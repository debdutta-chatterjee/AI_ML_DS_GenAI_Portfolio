{
 "cells": [
  {
   "cell_type": "code",
   "execution_count": 3,
   "id": "148109c8",
   "metadata": {},
   "outputs": [
    {
     "data": {
      "text/plain": [
       "['((()))', '(()())', '(())()', '()(())', '()()()']"
      ]
     },
     "execution_count": 3,
     "metadata": {},
     "output_type": "execute_result"
    }
   ],
   "source": [
    "# https://leetcode.com/problems/generate-parentheses/description/\n",
    "\n",
    "def generateParenthesis(n):\n",
    "    res=[]\n",
    "    def backtrack(current,open_count,close_count):\n",
    "        if open_count ==n and close_count ==n:\n",
    "            res.append(current)\n",
    "            return\n",
    "\n",
    "        if open_count<n:\n",
    "            backtrack(current+'(',open_count+1,close_count)\n",
    "        if close_count<open_count:\n",
    "            backtrack(current+')',open_count,close_count+1)\n",
    "    \n",
    "    backtrack('',0,0)\n",
    "    return res\n",
    "\n",
    "generateParenthesis(3)"
   ]
  },
  {
   "cell_type": "code",
   "execution_count": 12,
   "id": "c8c71039",
   "metadata": {},
   "outputs": [
    {
     "data": {
      "text/plain": [
       "[[2, 2, 3], [7]]"
      ]
     },
     "execution_count": 12,
     "metadata": {},
     "output_type": "execute_result"
    }
   ],
   "source": [
    "# https://leetcode.com/problems/combination-sum/description/\n",
    "class Problem:\n",
    "    def solve(self,index,total,subset,nums,target,result):\n",
    "        if total==target:\n",
    "            result.append(subset[:])\n",
    "            return \n",
    "        if total>target:\n",
    "            return\n",
    "        if index>=len(nums):\n",
    "            return\n",
    "\n",
    "        sum_num =total+nums[index]\n",
    "        subset.append(nums[index])\n",
    "        self.solve(index,sum_num,subset,nums,target,result)\n",
    "\n",
    "        sum_num = total\n",
    "        subset.pop()\n",
    "        self.solve(index+1,sum_num,subset,nums,target,result)\n",
    "\n",
    "    def combinationSum(self, candidates, target):\n",
    "        res = []\n",
    "        self.solve(0,0,[],candidates, target,res)\n",
    "        return res\n",
    "\n",
    "p = Problem()\n",
    "x =p.combinationSum([2,3,6,7],7)\n",
    "x"
   ]
  },
  {
   "cell_type": "code",
   "execution_count": 2,
   "id": "f4ad6b86",
   "metadata": {},
   "outputs": [
    {
     "data": {
      "text/plain": [
       "['ad', 'ae', 'af', 'bd', 'be', 'bf', 'cd', 'ce', 'cf']"
      ]
     },
     "execution_count": 2,
     "metadata": {},
     "output_type": "execute_result"
    }
   ],
   "source": [
    "# https://leetcode.com/problems/letter-combinations-of-a-phone-number/description/\n",
    "def letterCombinations(digits):\n",
    "    if not digits:\n",
    "        return []\n",
    "    digit_map ={\n",
    "        '2':'abc',\n",
    "        '3':'def',\n",
    "        '4':'ghi',\n",
    "        '5':'jkl',\n",
    "        '6':'mno',\n",
    "        '7':'pqrs',\n",
    "        '8':'tuv',\n",
    "        '9':'wxyz'\n",
    "    }\n",
    "\n",
    "\n",
    "    def backtrack(index,comb):\n",
    "        if len(digits) ==len(comb):\n",
    "            res.append(comb)\n",
    "            return\n",
    "        \n",
    "        for letter in digit_map[digits[index]]:\n",
    "            backtrack(index+1,comb+letter)\n",
    "        \n",
    "\n",
    "    res = []\n",
    "    backtrack(0,'')\n",
    "    return res\n",
    "\n",
    "letterCombinations(\"23\")"
   ]
  },
  {
   "cell_type": "code",
   "execution_count": 4,
   "id": "7cc3e9b1",
   "metadata": {},
   "outputs": [
    {
     "data": {
      "text/plain": [
       "True"
      ]
     },
     "execution_count": 4,
     "metadata": {},
     "output_type": "execute_result"
    }
   ],
   "source": [
    "# https://leetcode.com/problems/word-search/description/\n",
    "def exist(board, word):\n",
    "    ROW, COL = len(board), len(board[0])\n",
    "    path = set()\n",
    "\n",
    "    def search(r,c,index):\n",
    "        if index == len(word):\n",
    "            return True\n",
    "        \n",
    "        if(\n",
    "            r<0 or c<0 or\n",
    "            r>=ROW or c>=COL or\n",
    "            word[index]!= board[r][c] or\n",
    "            (r,c) in path\n",
    "        ):\n",
    "            return False\n",
    "        path.add((r,c))\n",
    "        res = (search(r+1,c,index+1) or\n",
    "        search(r,c+1,index+1) or\n",
    "        search(r-1,c,index+1) or\n",
    "        search(r,c-1,index+1) )\n",
    "\n",
    "        path.remove((r,c))\n",
    "        return res\n",
    "\n",
    "    for i in range(ROW):\n",
    "        for j in range(COL):\n",
    "            if search(i,j,0): return True\n",
    "    return False\n",
    "\n",
    "\n",
    "exist([[\"A\",\"B\",\"C\",\"E\"],[\"S\",\"F\",\"C\",\"S\"],[\"A\",\"D\",\"E\",\"E\"]],\"ABCCED\")\n"
   ]
  },
  {
   "cell_type": "code",
   "execution_count": 4,
   "id": "a10fc0ef",
   "metadata": {},
   "outputs": [
    {
     "name": "stdout",
     "output_type": "stream",
     "text": [
      "1\n"
     ]
    }
   ],
   "source": [
    "# https://leetcode.com/problems/number-of-islands/\n",
    "\n",
    "def numIslands(grid):\n",
    "\n",
    "    def dfs(arr,r,c):\n",
    "        if not arr:\n",
    "            return\n",
    "        if (r<0 or c<0 or r>=ROWS or c>=COLS or arr[r][c]!='1'):\n",
    "            return\n",
    "        \n",
    "        arr[r][c]='$'\n",
    "\n",
    "        dfs(arr,r+1,c)\n",
    "        dfs(arr,r,c+1)\n",
    "        dfs(arr,r-1,c)\n",
    "        dfs(arr,r,c-1)\n",
    "\n",
    "    ROWS = len(grid)\n",
    "    COLS = len(grid[0])\n",
    "    islands = 0\n",
    "    for r in range(ROWS):\n",
    "        for c in range(COLS):\n",
    "            if grid[r][c]=='1':\n",
    "                dfs(grid,r,c)\n",
    "                islands+=1\n",
    "    return islands\n",
    "\n",
    "\n",
    "grid = [\n",
    "  [\"1\",\"1\",\"1\",\"1\",\"0\"],\n",
    "  [\"1\",\"1\",\"0\",\"1\",\"0\"],\n",
    "  [\"1\",\"1\",\"0\",\"0\",\"0\"],\n",
    "  [\"0\",\"0\",\"0\",\"0\",\"0\"]\n",
    "]\n",
    "\n",
    "print(numIslands(grid))"
   ]
  }
 ],
 "metadata": {
  "kernelspec": {
   "display_name": ".myvenv",
   "language": "python",
   "name": "python3"
  },
  "language_info": {
   "codemirror_mode": {
    "name": "ipython",
    "version": 3
   },
   "file_extension": ".py",
   "mimetype": "text/x-python",
   "name": "python",
   "nbconvert_exporter": "python",
   "pygments_lexer": "ipython3",
   "version": "3.12.0"
  }
 },
 "nbformat": 4,
 "nbformat_minor": 5
}
