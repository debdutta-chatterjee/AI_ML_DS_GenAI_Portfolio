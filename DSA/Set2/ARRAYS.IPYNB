{
 "cells": [
  {
   "cell_type": "code",
   "execution_count": 6,
   "id": "dbd49876",
   "metadata": {},
   "outputs": [
    {
     "name": "stdout",
     "output_type": "stream",
     "text": [
      "[1, 4, 1, 2, 1, 4, 1, 2]\n"
     ]
    }
   ],
   "source": [
    "# Concatenation of Array\n",
    "# You are given an integer array nums of length n. \n",
    "# Create an array ans of length 2n where ans[i] == nums[i] \n",
    "# and ans[i + n] == nums[i] for 0 <= i < n (0-indexed).\n",
    "\n",
    "# Specifically, ans is the concatenation of two nums arrays.\n",
    "\n",
    "# Return the array ans.\n",
    "\n",
    "# Example 1:\n",
    "\n",
    "# Input: nums = [1,4,1,2]\n",
    "\n",
    "# Output: [1,4,1,2,1,4,1,2]\n",
    "from typing import List\n",
    "class Solution:\n",
    "    def getConcatenation(self, nums: List[int]) -> List[int]:\n",
    "        ret_nums =[]\n",
    "        n = len(nums)\n",
    "        for i in range(2*n):\n",
    "            ret_nums.append(nums[i%n])\n",
    "        return ret_nums\n",
    "    \n",
    "\n",
    "\n",
    "s =Solution()\n",
    "print(s.getConcatenation([1,4,1,2]))"
   ]
  },
  {
   "cell_type": "code",
   "execution_count": 10,
   "id": "4741c61a",
   "metadata": {},
   "outputs": [
    {
     "name": "stdout",
     "output_type": "stream",
     "text": [
      "True\n"
     ]
    }
   ],
   "source": [
    "# Contains Duplicate\n",
    "# Given an integer array nums, return true if any \n",
    "# value appears more than once in the array, otherwise return false.\n",
    "\n",
    "# Example 1:\n",
    "\n",
    "# Input: nums = [1, 2, 3, 3]\n",
    "\n",
    "# Output: true\n",
    "\n",
    "class Solution:\n",
    "    def hasDuplicate(self, nums: List[int]) -> bool:\n",
    "        unique =set([i for i in nums])\n",
    "        return len(unique) != len(nums)\n",
    "\n",
    "s =Solution()\n",
    "print(s.hasDuplicate([1, 2, 3, 3]))"
   ]
  },
  {
   "cell_type": "code",
   "execution_count": 16,
   "id": "c4ba76d8",
   "metadata": {},
   "outputs": [
    {
     "name": "stdout",
     "output_type": "stream",
     "text": [
      "True\n"
     ]
    }
   ],
   "source": [
    "# Valid Anagram\n",
    "# Given two strings s and t, return true if the two strings are\n",
    "# anagrams of each other, otherwise return false.\n",
    "\n",
    "# An anagram is a string that contains the exact same characters as \n",
    "# another string, but the order of the characters can be different.\n",
    "\n",
    "# Example 1:\n",
    "\n",
    "# Input: s = \"racecar\", t = \"carrace\"\n",
    "\n",
    "# Output: true\n",
    "\n",
    "class Solution:\n",
    "    def isAnagram(self, s: str, t: str) -> bool:\n",
    "        if len(s) != len(t):\n",
    "            return False\n",
    "               \n",
    "        s_sorted = sorted(s)\n",
    "        t_sorted = sorted(t)\n",
    "        \n",
    "        return s_sorted == t_sorted\n",
    "    \n",
    "s =Solution()\n",
    "print(s.isAnagram('racecar','carrace'))"
   ]
  },
  {
   "cell_type": "code",
   "execution_count": 21,
   "id": "f4628c36",
   "metadata": {},
   "outputs": [
    {
     "data": {
      "text/plain": [
       "[0, 1]"
      ]
     },
     "execution_count": 21,
     "metadata": {},
     "output_type": "execute_result"
    }
   ],
   "source": [
    "# Two Sum\n",
    "# Given an array of integers nums and an integer target,\n",
    "# return the indices i and j such that nums[i] + nums[j] == target and i != j.\n",
    "\n",
    "# You may assume that every input has exactly one pair of indices i \n",
    "# and j that satisfy the condition.\n",
    "\n",
    "# Return the answer with the smaller index first.\n",
    "\n",
    "# Example 1:\n",
    "\n",
    "# Input: \n",
    "# nums = [3,4,5,6], target = 7\n",
    "\n",
    "# Output: [0,1]\n",
    "# Explanation: nums[0] + nums[1] == 7, so we return [0, 1].\n",
    "\n",
    "\n",
    "def twoSum(nums: List[int], target: int) -> List[int]:\n",
    "\n",
    "    seen ={}\n",
    "    for i in range(len(nums)):\n",
    "        complement = target - nums[i]\n",
    "        if complement in seen:\n",
    "            return [seen[complement],i]\n",
    "        else:\n",
    "            seen[nums[i]] = i\n",
    "    return [-1,-1]\n",
    "\n",
    "twoSum([3,4,5,6],7)"
   ]
  },
  {
   "cell_type": "code",
   "execution_count": null,
   "id": "799c93e8",
   "metadata": {},
   "outputs": [
    {
     "data": {
      "text/plain": [
       "''"
      ]
     },
     "execution_count": 22,
     "metadata": {},
     "output_type": "execute_result"
    }
   ],
   "source": [
    "# Longest Common Prefix\n",
    "# You are given an array of strings strs.\n",
    "# Return the longest common prefix of all the strings.\n",
    "\n",
    "# If there is no longest common prefix, return an empty string \"\".\n",
    "\n",
    "# Example 1:\n",
    "\n",
    "# Input: strs = [\"bat\",\"bag\",\"bank\",\"band\"]\n",
    "\n",
    "# Output: \"ba\"\n",
    "\n",
    "def longestCommonPrefix(strs: List[str]) -> str:\n",
    "    if not strs:\n",
    "        return \"\"\n",
    "    \n",
    "    for i in range(len(strs[0])):\n",
    "        char = strs[0][i]\n",
    "        for string in strs[1:]:\n",
    "            # If current index is out of bounds or character mismatches\n",
    "            if i >= len(string) or string[i] != char:\n",
    "                return strs[0][:i]\n",
    "            \n",
    "\n",
    "longestCommonPrefix([\"xbat\",\"bag\",\"bank\",\"band\"])"
   ]
  },
  {
   "cell_type": "code",
   "execution_count": 27,
   "id": "5c97f98b",
   "metadata": {},
   "outputs": [
    {
     "data": {
      "text/plain": [
       "[['act', 'cat'], ['pots', 'tops', 'stop'], ['hat']]"
      ]
     },
     "execution_count": 27,
     "metadata": {},
     "output_type": "execute_result"
    }
   ],
   "source": [
    "# Group Anagrams\n",
    "# Given an array of strings strs, group all anagrams together into sublists.\n",
    "# You may return the output in any order.\n",
    "\n",
    "# An anagram is a string that contains the exact same characters as another string,\n",
    "# but the order of the characters can be different.\n",
    "\n",
    "# Example 1:\n",
    "\n",
    "# Input: strs = [\"act\",\"pots\",\"tops\",\"cat\",\"stop\",\"hat\"]\n",
    "\n",
    "# Output: [[\"hat\"],[\"act\", \"cat\"],[\"stop\", \"pots\", \"tops\"]]\n",
    "\n",
    "from collections import defaultdict\n",
    "\n",
    "def groupAnagrams(strs: List[str]) -> List[List[str]]:\n",
    "    res = defaultdict(list)\n",
    "    for s in strs:\n",
    "        sortedS = ''.join(sorted(s))\n",
    "        #print(sortedS)\n",
    "        res[sortedS].append(s)\n",
    "    return list(res.values())\n",
    "\n",
    "\n",
    "groupAnagrams([\"act\",\"pots\",\"tops\",\"cat\",\"stop\",\"hat\"])"
   ]
  },
  {
   "cell_type": "code",
   "execution_count": 33,
   "id": "ba4d478a",
   "metadata": {},
   "outputs": [
    {
     "data": {
      "text/plain": [
       "3"
      ]
     },
     "execution_count": 33,
     "metadata": {},
     "output_type": "execute_result"
    }
   ],
   "source": [
    "# Remove Element\n",
    "# You are given an integer array nums and an integer val. \n",
    "# Your task is to remove all occurrences of val from nums in-place.\n",
    "\n",
    "# After removing all occurrences of val, return the number \n",
    "# of remaining elements, say k, such that the first k elements of nums do not contain val.\n",
    "\n",
    "# Note:\n",
    "\n",
    "# The order of the elements which are not equal to val does not matter.\n",
    "# It is not necessary to consider elements beyond the first k positions of the array.\n",
    "# To be accepted, the first k elements of nums must contain only elements not equal to val.\n",
    "# Return k as the final result.\n",
    "\n",
    "# Example 1:\n",
    "\n",
    "# Input: nums = [1,1,2,3,4], val = 1\n",
    "\n",
    "# Output: [2,3,4]\n",
    "# Explanation: You should return k = 3 as we have 3 elements which are not equal to val = 1.\n",
    "\n",
    "\n",
    "def removeElement(nums: List[int], val: int) -> int:\n",
    "    k =0\n",
    "    for i in range(len(nums)):        \n",
    "        if nums[i] != val:\n",
    "            nums[k] = nums[i]\n",
    "            k+=1\n",
    "    return k\n",
    "\n",
    "\n",
    "\n",
    "removeElement([1,1,2,3,4],1)"
   ]
  },
  {
   "cell_type": "code",
   "execution_count": null,
   "id": "de0746f3",
   "metadata": {},
   "outputs": [],
   "source": [
    "# Majority Element\n",
    "# Given an array nums of size n, return the majority element.\n",
    "\n",
    "# The majority element is the element that appears more than ⌊n / 2⌋ \n",
    "# times in the array. You may assume that the majority element always exists in the array.\n",
    "\n",
    "# Example 1:\n",
    "\n",
    "# Input: nums = [5,5,1,1,1,5,5]\n",
    "\n",
    "# Output: 5\n",
    "\n",
    "\n",
    "def majorityElement(nums: List[int]) -> int:\n",
    "    majority  = len(nums)/2\n",
    "    res = count =0\n",
    "    for num in nums:\n",
    "        if count == num:\n",
    "            res = num\n",
    "        count += (1 if res ==num else -1)\n",
    "    return res\n",
    "\n",
    "\n",
    "\n"
   ]
  },
  {
   "cell_type": "code",
   "execution_count": null,
   "id": "70ad378e",
   "metadata": {},
   "outputs": [
    {
     "name": "stdout",
     "output_type": "stream",
     "text": [
      "{1: 1, 2: 2, 3: 3}\n",
      "[(3, 3), (2, 2), (1, 1)]\n",
      "[3, 2, 1]\n",
      "[3]\n"
     ]
    }
   ],
   "source": [
    "# Top K Frequent Elements\n",
    "# Given an integer array nums and an integer k, return the \n",
    "# k most frequent elements within the array.\n",
    "\n",
    "# The test cases are generated such that the answer is always unique.\n",
    "\n",
    "# You may return the output in any order.\n",
    "\n",
    "# Example 1:\n",
    "\n",
    "# Input: nums = [1,2,2,3,3,3], k = 2\n",
    "\n",
    "# Output: [2,3]\n",
    "\n",
    "def topKFrequent(nums: List[int], k: int) -> List[int]:\n",
    "    freq = {}\n",
    "\n",
    "    for num in nums:\n",
    "        freq[num] = freq.get(num,0)+1\n",
    "\n",
    "    sortlst = sorted(freq.items(),key = lambda x: x[1],reverse =True)\n",
    "    sortlst = [x[0] for x in sortlst]\n",
    "    print(sortlst[0:k])\n",
    "\n",
    "topKFrequent([1,2,2,3,3,3],1)"
   ]
  },
  {
   "cell_type": "code",
   "execution_count": null,
   "id": "0924baee",
   "metadata": {},
   "outputs": [],
   "source": [
    "# Products of Array Except Self\n",
    "# Given an integer array nums, return an array output where output[i]\n",
    "# is the product of all the elements of nums except nums[i].\n",
    "\n",
    "# Each product is guaranteed to fit in a 32-bit integer.\n",
    "\n",
    "# Follow-up: Could you solve it in \n",
    "# O(n)\n",
    "# O(n) time without using the division operation?\n",
    "\n",
    "# Example 1:\n",
    "\n",
    "# Input: nums = [1,2,4,6]\n",
    "\n",
    "# Output: [48,24,12,8]\n",
    "\n",
    "def productExceptSelf(self, nums: List[int]) -> List[int]:\n",
    "    res = [1] * (len(nums))\n",
    "\n",
    "    prefix = 1\n",
    "    for i in range(len(nums)):\n",
    "        res[i] = prefix\n",
    "        prefix *= nums[i]\n",
    "\n",
    "    postfix = 1\n",
    "    for i in range(len(nums) - 1, -1, -1):\n",
    "        res[i] *= postfix\n",
    "        postfix *= nums[i]\n",
    "\n",
    "    return res\n",
    "\n"
   ]
  },
  {
   "cell_type": "code",
   "execution_count": null,
   "id": "42277b4c",
   "metadata": {},
   "outputs": [
    {
     "name": "stdout",
     "output_type": "stream",
     "text": [
      "3\n"
     ]
    }
   ],
   "source": [
    "# Longest Consecutive Sequence\n",
    "# Given an array of integers nums, return the length of\n",
    "# the longest consecutive sequence of elements that can be formed.\n",
    "\n",
    "# A consecutive sequence is a sequence of elements in which each\n",
    "# element is exactly 1 greater than the previous element. \n",
    "# The elements do not have to be consecutive in the original array.\n",
    "\n",
    "# You must write an algorithm that runs in O(n) time.\n",
    "\n",
    "# Example 1:\n",
    "\n",
    "# Input: nums = [2,20,4,10,3,4,5]\n",
    "\n",
    "# Output: 4\n",
    "\n",
    "\n",
    "def longestConsecutive(nums: List[int]) -> int:\n",
    "     \n",
    "\n",
    "\n",
    "print(longestConsecutive([2,20,4,10,3,4,5]))\n"
   ]
  },
  {
   "cell_type": "code",
   "execution_count": 63,
   "id": "46e57367",
   "metadata": {},
   "outputs": [
    {
     "data": {
      "text/plain": [
       "False"
      ]
     },
     "execution_count": 63,
     "metadata": {},
     "output_type": "execute_result"
    }
   ],
   "source": [
    "import re\n",
    "\n",
    "def isPalindrome(s: str) -> bool:\n",
    "    s = re.sub(r'[^\\w\\s]','',s)\n",
    "    s = s.replace(' ','')\n",
    "    s=s.lower()\n",
    "    i,j  = 0, len(s)-1\n",
    "    miss =0\n",
    "\n",
    "    while i<j:\n",
    "        if s[i] !=s[j]:\n",
    "            miss +=1\n",
    "            if miss>1:\n",
    "                return False\n",
    "        i+=1\n",
    "        j-=1\n",
    "    return True\n",
    "\n",
    "\n",
    "isPalindrome(\"abbdda\")"
   ]
  },
  {
   "cell_type": "code",
   "execution_count": null,
   "id": "9f6fdc3c",
   "metadata": {},
   "outputs": [],
   "source": [
    "# Longest Common Prefix\n",
    "# You are given an array of strings strs.\n",
    "# Return the longest common prefix of all the strings.\n",
    "\n",
    "# If there is no longest common prefix, return an empty string \"\".\n",
    "\n",
    "# Example 1:\n",
    "\n",
    "# Input: strs = [\"bat\",\"bag\",\"bank\",\"band\"]\n",
    "\n",
    "# Output: \"ba\"\n",
    "\n",
    "\n",
    "def longestCommonPrefix(strs: List[str]) -> str:\n",
    "    if len(strs) == 1:\n",
    "            return strs[0]\n",
    "    \n",
    "    strs = sorted(strs)\n",
    "\n",
    "    for i in range(min(len(strs[0]), len(strs[-1]))):\n",
    "          if strs[0][i] != strs[-1][i]:\n",
    "                return strs[0][:i]\n",
    "    return strs[0]\n"
   ]
  },
  {
   "cell_type": "code",
   "execution_count": 9,
   "id": "66ada293",
   "metadata": {},
   "outputs": [
    {
     "data": {
      "text/plain": [
       "[['act', 'cat'], ['pots', 'tops', 'stop'], ['hat']]"
      ]
     },
     "execution_count": 9,
     "metadata": {},
     "output_type": "execute_result"
    }
   ],
   "source": [
    "# Group Anagrams\n",
    "# Given an array of strings strs, group all anagrams together\n",
    "# into sublists. You may return the output in any order.\n",
    "\n",
    "# An anagram is a string that contains the exact same characters as \n",
    "# another string, but the order of the characters can be different.\n",
    "\n",
    "# Example 1:\n",
    "\n",
    "# Input: strs = [\"act\",\"pots\",\"tops\",\"cat\",\"stop\",\"hat\"]\n",
    "\n",
    "# Output: [[\"hat\"],[\"act\", \"cat\"],[\"stop\", \"pots\", \"tops\"]]\n",
    "\n",
    "from typing import List\n",
    "from collections import defaultdict\n",
    "def groupAnagrams_0(strs: List[str]) -> List[List[str]]:\n",
    "    def_map = defaultdict(list)\n",
    "\n",
    "    for str in strs:\n",
    "        sorted_string = ''.join(sorted(str))\n",
    "        def_map[sorted_string].append(str)\n",
    "\n",
    "    return list(def_map.values())\n",
    "\n",
    "def groupAnagrams(strs: List[str]) -> List[List[str]]:\n",
    "    def_map = {}\n",
    "\n",
    "    for str in strs:\n",
    "        sorted_string = ''.join(sorted(str))\n",
    "        if sorted_string not in def_map:\n",
    "            def_map[sorted_string] = []\n",
    "        def_map[sorted_string].append(str)\n",
    "\n",
    "    return list(def_map.values())\n",
    "\n",
    "\n",
    "groupAnagrams([\"act\",\"pots\",\"tops\",\"cat\",\"stop\",\"hat\"])\n",
    "\n",
    "\n"
   ]
  },
  {
   "cell_type": "code",
   "execution_count": null,
   "id": "2c88d51e",
   "metadata": {},
   "outputs": [
    {
     "data": {
      "text/plain": [
       "3"
      ]
     },
     "execution_count": 12,
     "metadata": {},
     "output_type": "execute_result"
    }
   ],
   "source": [
    "# Remove Element\n",
    "# You are given an integer array nums and an integer val.\n",
    "# Your task is to remove all occurrences of val from nums in-place.\n",
    "\n",
    "# After removing all occurrences of val, return the number \n",
    "# of remaining elements, say k, such that the first k elements of nums do not contain val.\n",
    "\n",
    "# Note:\n",
    "\n",
    "# The order of the elements which are not equal to val does not matter.\n",
    "# It is not necessary to consider elements beyond the first k positions of the array.\n",
    "# To be accepted, the first k elements of nums must contain only elements not equal to val.\n",
    "# Return k as the final result.\n",
    "\n",
    "# Example 1:\n",
    "\n",
    "# Input: nums = [1,1,2,3,4], val = 1\n",
    "\n",
    "# Output: [2,3,4]\n",
    "\n",
    "\n",
    "\n",
    "def removeElement(nums: List[int], val: int) -> int:\n",
    "    k =0\n",
    "    for i in range(len(nums)):\n",
    "        if nums[i]!= val:\n",
    "            nums[k] = nums[i]\n",
    "            k+=1\n",
    "    return k\n",
    "\n",
    "removeElement([1,1,2,3,4],1)"
   ]
  },
  {
   "cell_type": "code",
   "execution_count": 13,
   "id": "a193bbd8",
   "metadata": {},
   "outputs": [
    {
     "data": {
      "text/plain": [
       "5"
      ]
     },
     "execution_count": 13,
     "metadata": {},
     "output_type": "execute_result"
    }
   ],
   "source": [
    "# Majority Element\n",
    "# Given an array nums of size n, return the majority element.\n",
    "\n",
    "# The majority element is the element that appears more than ⌊n / 2⌋\n",
    "# times in the array. You may assume that the majority element always exists in the array.\n",
    "\n",
    "# Example 1:\n",
    "\n",
    "# Input: nums = [5,5,1,1,1,5,5]\n",
    "\n",
    "# Output: \n",
    "\n",
    "def majorityElement(nums: List[int]) -> int:\n",
    "    res = count =0\n",
    "\n",
    "    for num in nums:\n",
    "        if count ==0:\n",
    "            res = num\n",
    "        if num!=res:\n",
    "            count-=1\n",
    "        else:\n",
    "            count+=1\n",
    "    return res\n",
    "\n",
    "\n",
    "majorityElement([5,5,1,1,1,5,5])"
   ]
  },
  {
   "cell_type": "code",
   "execution_count": 17,
   "id": "8447ff21",
   "metadata": {},
   "outputs": [
    {
     "data": {
      "text/plain": [
       "[48, 24, 12, 8]"
      ]
     },
     "execution_count": 17,
     "metadata": {},
     "output_type": "execute_result"
    }
   ],
   "source": [
    "# Products of Array Except Self\n",
    "# Given an integer array nums, return an array output where output[i] \n",
    "# is the product of all the elements of nums except nums[i].\n",
    "\n",
    "# Each product is guaranteed to fit in a 32-bit integer.\n",
    "\n",
    "# Follow-up: Could you solve it in \n",
    "# O(n)\n",
    "# O(n) time without using the division operation?\n",
    "\n",
    "# Example 1:\n",
    "\n",
    "# Input: nums = [1,2,4,6]\n",
    "\n",
    "# Output: [48,24,12,8]\n",
    "\n",
    "def productExceptSelf(nums: List[int]) -> List[int]:\n",
    "    n = len(nums)\n",
    "    \n",
    "    res = [0] *n\n",
    "    prefix = [0] *n\n",
    "    suffix = [0] *n\n",
    "\n",
    "    prefix[0] = suffix[n-1] =1\n",
    "    for i in range (1,n):\n",
    "        prefix[i] = nums[i-1] * prefix[i-1] \n",
    "\n",
    "    for i in range(n-2,-1,-1):\n",
    "        suffix[i] = nums[i+1] * suffix[i+1]\n",
    "\n",
    "    for i in range(n):\n",
    "        res[i] = prefix[i] * suffix[i]\n",
    "    return res\n",
    "\n",
    "\n",
    "productExceptSelf([1,2,4,6])"
   ]
  },
  {
   "cell_type": "code",
   "execution_count": null,
   "id": "99886bc9",
   "metadata": {},
   "outputs": [],
   "source": [
    "# Valid Sudoku\n",
    "# You are given a 9 x 9 Sudoku board board. A Sudoku board \n",
    "# is valid if the following rules are followed:\n",
    "\n",
    "# Each row must contain the digits 1-9 without duplicates.\n",
    "# Each column must contain the digits 1-9 without duplicates.\n",
    "# Each of the nine 3 x 3 sub-boxes of the grid must contain the digits\n",
    "# 1-9 without duplicates.\n",
    "# Return true if the Sudoku board is valid, otherwise return false\n",
    "\n",
    "# Note: A board does not need to be full or be solvable to be valid.\n",
    "\n",
    "def isValidSudoku(board: List[List[str]]) -> bool:\n",
    "    \n",
    "\n",
    "board = [\n",
    "[\"1\",\"2\",\".\",\".\",\"3\",\".\",\".\",\".\",\".\"],\n",
    " [\"4\",\".\",\".\",\"5\",\".\",\".\",\".\",\".\",\".\"],\n",
    " [\".\",\"9\",\"1\",\".\",\".\",\".\",\".\",\".\",\"3\"],\n",
    " [\"5\",\".\",\".\",\".\",\"6\",\".\",\".\",\".\",\"4\"],\n",
    " [\".\",\".\",\".\",\"8\",\".\",\"3\",\".\",\".\",\"5\"],\n",
    " [\"7\",\".\",\".\",\".\",\"2\",\".\",\".\",\".\",\"6\"],\n",
    " [\".\",\".\",\".\",\".\",\".\",\".\",\"2\",\".\",\".\"],\n",
    " [\".\",\".\",\".\",\"4\",\"1\",\"9\",\".\",\".\",\"8\"],\n",
    " [\".\",\".\",\".\",\".\",\"8\",\".\",\".\",\"7\",\"9\"]]\n",
    "\n",
    "isValidSudoku(board)\n"
   ]
  },
  {
   "cell_type": "code",
   "execution_count": 18,
   "id": "2d140155",
   "metadata": {},
   "outputs": [
    {
     "data": {
      "text/plain": [
       "4"
      ]
     },
     "execution_count": 18,
     "metadata": {},
     "output_type": "execute_result"
    }
   ],
   "source": [
    "# Longest Consecutive Sequence\n",
    "# Given an array of integers nums, return the length of\n",
    "# the longest consecutive sequence of elements that can be formed.\n",
    "\n",
    "# A consecutive sequence is a sequence of elements in which each element is\n",
    "# exactly 1 greater than the previous element. The elements do not have\n",
    "# to be consecutive in the original array.\n",
    "\n",
    "# You must write an algorithm that runs in O(n) time.\n",
    "\n",
    "# Example 1:\n",
    "\n",
    "# Input: nums = [2,20,4,10,3,4,5]\n",
    "\n",
    "# Output: 4\n",
    "\n",
    "def longestConsecutive(nums: List[int]) -> int:\n",
    "    unique = set(nums)\n",
    "    longest =0\n",
    "\n",
    "    for num in nums:\n",
    "        if (num-1) not in unique:\n",
    "            length =1\n",
    "        while (num+length) in unique:\n",
    "            length+=1\n",
    "        longest = max(longest,length)\n",
    "    return longest\n",
    "\n",
    "longestConsecutive([2,20,4,10,3,4,5])"
   ]
  },
  {
   "cell_type": "code",
   "execution_count": 20,
   "id": "423e7dc3",
   "metadata": {},
   "outputs": [
    {
     "data": {
      "text/plain": [
       "7"
      ]
     },
     "execution_count": 20,
     "metadata": {},
     "output_type": "execute_result"
    }
   ],
   "source": [
    "# Best Time to Buy and Sell Stock II\n",
    "# You are given an integer array prices where prices[i] is\n",
    "# the price of a given stock on the ith day.\n",
    "\n",
    "# On each day, you may decide to buy and/or sell the stock.\n",
    "# However, you can buy it then immediately sell it on the same day.\n",
    "# Also, you are allowed to perform any number of transactions but can hold\n",
    "# at most one share of the stock at any time.\n",
    "\n",
    "# Find and return the maximum profit you can achieve.\n",
    "\n",
    "# Example 1:\n",
    "\n",
    "# Input: prices = [7,1,5,3,6,4]\n",
    "\n",
    "# Output: 7\n",
    "\n",
    "\n",
    "def maxProfit(prices: List[int]) -> int:\n",
    "    profit =0\n",
    "    for i in range (1,len(prices)):\n",
    "        if prices[i-1] < prices[i]:\n",
    "            profit += prices[i]-prices[i-1]\n",
    "    return profit\n",
    "\n",
    "\n",
    "maxProfit([7,1,5,3,6,4])\n"
   ]
  },
  {
   "cell_type": "code",
   "execution_count": null,
   "id": "41a4e2f1",
   "metadata": {},
   "outputs": [],
   "source": [
    "# Majority Element II\n",
    "# You are given an integer array nums of size n, \n",
    "# find all elements that appear more than ⌊ n/3 ⌋ times.\n",
    "# You can return the result in any order.\n",
    "\n",
    "# Example 1:\n",
    "\n",
    "# Input: nums = [5,2,3,2,2,2,2,5,5,5]\n",
    "\n",
    "# Output: [2,5]\n",
    "\n",
    "def majorityElement(self, nums: List[int]) -> List[int]:\n",
    "    def_map ={}\n",
    "\n",
    "    for num in nums:\n",
    "        if num not in nums:\n",
    "            def_map[num] = def_map.get(num,0)+1\n",
    "\n",
    "\n",
    "\n"
   ]
  },
  {
   "cell_type": "code",
   "execution_count": null,
   "id": "b1b2f5b1",
   "metadata": {},
   "outputs": [],
   "source": [
    "longest common prefix ->C 7/8\n",
    "product array ->C 8/8\n",
    "longest consecutive sequence\n",
    "stock buy sell ->C 7/8\n",
    "majority element II\n",
    "Valid Palindrome II"
   ]
  },
  {
   "cell_type": "code",
   "execution_count": 7,
   "id": "561e64ec",
   "metadata": {},
   "outputs": [
    {
     "name": "stdout",
     "output_type": "stream",
     "text": [
      "48 [1, 1, 2, 8]\n"
     ]
    },
    {
     "data": {
      "text/plain": [
       "[48, 24, 12, 8]"
      ]
     },
     "execution_count": 7,
     "metadata": {},
     "output_type": "execute_result"
    }
   ],
   "source": [
    "from typing import List\n",
    "def productExceptSelf(nums: List[int]) -> List[int]:\n",
    "    \n",
    "    prefix =1\n",
    "    n = len(nums)\n",
    "    res =[1]*n\n",
    "\n",
    "    for i in range(n):\n",
    "        res[i] = prefix\n",
    "        prefix *= nums[i]\n",
    "    print(prefix,res)\n",
    "\n",
    "    suffix =1\n",
    "    for i in range(n-1,-1,-1):\n",
    "        res[i] = res[i] * suffix\n",
    "        suffix =suffix * nums[i]\n",
    "    return res\n",
    "\n",
    "productExceptSelf([1,2,4,6])"
   ]
  },
  {
   "cell_type": "code",
   "execution_count": 10,
   "id": "1c84aa37",
   "metadata": {},
   "outputs": [
    {
     "name": "stdout",
     "output_type": "stream",
     "text": [
      "[1, 2, 3, 4, 5, 6, 7, 8]\n",
      "[8, 1, 2, 3, 4, 5, 6, 7]\n"
     ]
    }
   ],
   "source": [
    "def rotate(nums: List[int], k: int) -> None:\n",
    "    n = len(nums)\n",
    "    k = k%n\n",
    "    def reverse(i,j):\n",
    "        while i<j:\n",
    "            nums[i],nums[j] = nums[j],nums[i]\n",
    "            i+=1\n",
    "            j-=1\n",
    "            \n",
    "    reverse(0,n-1)\n",
    "    reverse(0,k-1)\n",
    "    reverse(k,n-1)\n",
    "\n",
    "nums = [1,2,3,4,5,6,7,8]\n",
    "print(nums)\n",
    "rotate(nums,1)\n",
    "print(nums)"
   ]
  }
 ],
 "metadata": {
  "kernelspec": {
   "display_name": ".venv",
   "language": "python",
   "name": "python3"
  },
  "language_info": {
   "codemirror_mode": {
    "name": "ipython",
    "version": 3
   },
   "file_extension": ".py",
   "mimetype": "text/x-python",
   "name": "python",
   "nbconvert_exporter": "python",
   "pygments_lexer": "ipython3",
   "version": "3.12.0"
  }
 },
 "nbformat": 4,
 "nbformat_minor": 5
}
