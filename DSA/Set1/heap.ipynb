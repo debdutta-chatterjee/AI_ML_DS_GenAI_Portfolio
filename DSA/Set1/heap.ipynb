{
 "cells": [
  {
   "cell_type": "code",
   "execution_count": 19,
   "id": "513ef9a1",
   "metadata": {},
   "outputs": [
    {
     "name": "stdout",
     "output_type": "stream",
     "text": [
      "[50, 30, 23]\n"
     ]
    }
   ],
   "source": [
    "# Input:  [1, 23, 12, 9, 30, 2, 50], k = 3\n",
    "# Output: [50, 30, 23]\n",
    "\n",
    "# Input:  [11, 5, 12, 9, 44, 17, 2], k = 2\n",
    "# Output: [44, 17]\n",
    "\n",
    "#1. k largest elements in an array\n",
    "\n",
    "def k_larget_0(arr,k):\n",
    "    arr.sort()\n",
    "    return arr[-k:][::-1]\n",
    "\n",
    "import heapq\n",
    "def k_larget(arr,k):\n",
    "    minHeap = arr[:k]\n",
    "    heapq.heapify(minHeap)\n",
    "    # psrint(minHeap)\n",
    "\n",
    "    for x in arr[k:]:\n",
    "        if x>minHeap[0]:\n",
    "            heapq.heapreplace(minHeap,x)\n",
    "            # print(x,minHeap)\n",
    "\n",
    "    res = []\n",
    "\n",
    "    while minHeap:\n",
    "        res.append(heapq.heappop(minHeap))\n",
    "    res.reverse()\n",
    "    return res\n",
    "\n",
    "print(k_larget([1, 23, 12, 9, 30, 2, 50],3))\n",
    "# print(k_larget([11, 5, 12, 9, 44, 17, 2],2))"
   ]
  },
  {
   "cell_type": "code",
   "execution_count": null,
   "id": "f142bec7",
   "metadata": {},
   "outputs": [],
   "source": [
    "#4. Median in a stream of integers\n",
    "\n",
    "def getMedian(arr):\n",
    "    for i in range(len(arr)):\n",
    "        i\n",
    "\n",
    "if __name__ == '__main__':\n",
    "    arr = [5, 15, 1, 3, 2, 8]\n",
    "    res = getMedian(arr)\n",
    "    \n",
    "    print(res)"
   ]
  },
  {
   "cell_type": "code",
   "execution_count": null,
   "id": "14e918b8",
   "metadata": {},
   "outputs": [
    {
     "ename": "SyntaxError",
     "evalue": "invalid syntax (120969730.py, line 1)",
     "output_type": "error",
     "traceback": [
      "  \u001b[36mCell\u001b[39m\u001b[36m \u001b[39m\u001b[32mIn[17]\u001b[39m\u001b[32m, line 1\u001b[39m\n\u001b[31m    \u001b[39m\u001b[31m1. k largest elements in an array\u001b[39m\n       ^\n\u001b[31mSyntaxError\u001b[39m\u001b[31m:\u001b[39m invalid syntax\n"
     ]
    }
   ],
   "source": [
    " 2. Applications of heap\n",
    " 3. Build heap\n",
    " \n",
    " 5. Sort a k sorted array\n",
    " 6. Sort numbers stored on different machines\n",
    " 7. Merge k sorted arrays\n",
    " 8. Print all elements in sorted order from row and column wise sorted matrix\n",
    " 9. kth smallest element in unsorted array\n",
    " 10. kth largest element in stream-> Zupee\n",
    " 11. Why prefer heap over BST for priority queue"
   ]
  },
  {
   "cell_type": "code",
   "execution_count": null,
   "id": "b34922ad",
   "metadata": {},
   "outputs": [],
   "source": []
  }
 ],
 "metadata": {
  "kernelspec": {
   "display_name": ".venv",
   "language": "python",
   "name": "python3"
  },
  "language_info": {
   "codemirror_mode": {
    "name": "ipython",
    "version": 3
   },
   "file_extension": ".py",
   "mimetype": "text/x-python",
   "name": "python",
   "nbconvert_exporter": "python",
   "pygments_lexer": "ipython3",
   "version": "3.12.0"
  }
 },
 "nbformat": 4,
 "nbformat_minor": 5
}
