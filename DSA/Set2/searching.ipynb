{
 "cells": [
  {
   "cell_type": "code",
   "execution_count": 7,
   "id": "42f5b18e",
   "metadata": {},
   "outputs": [
    {
     "data": {
      "text/plain": [
       "3"
      ]
     },
     "execution_count": 7,
     "metadata": {},
     "output_type": "execute_result"
    }
   ],
   "source": [
    "from typing import List\n",
    "class Solution:\n",
    "    def search(self, nums: List[int], target: int) -> int:\n",
    "        l = 0\n",
    "        r = len(nums)-1\n",
    "        s = self.bin_search(nums,l,r,target)\n",
    "        return s\n",
    "\n",
    "    def bin_search(self,nums,l,r,target):\n",
    "        if l>r:\n",
    "            return -1\n",
    "\n",
    "        mid = (l+r)//2\n",
    "\n",
    "        if nums[mid] == target:\n",
    "            return mid\n",
    "        if nums[mid]<target:\n",
    "            return self.bin_search(nums,mid+1,r,target)\n",
    "        if nums[mid]> target:\n",
    "            return self.bin_search(nums,l,mid-1,target)\n",
    "        \n",
    "\n",
    "\n",
    "Solution().search([-1,0,2,4,6,8],4)"
   ]
  },
  {
   "cell_type": "code",
   "execution_count": 12,
   "id": "24bc3f85",
   "metadata": {},
   "outputs": [
    {
     "data": {
      "text/plain": [
       "4"
      ]
     },
     "execution_count": 12,
     "metadata": {},
     "output_type": "execute_result"
    }
   ],
   "source": [
    "# Search Insert Position\n",
    "# You are given a sorted array of distinct integers and a target value, \n",
    "# return the index if the target is found. If not, return the index where\n",
    "# it would be if it were inserted in order.\n",
    "\n",
    "# You must write an algorithm with O(log n) runtime complexity.\n",
    "\n",
    "# Example 1:\n",
    "\n",
    "# Input: nums = [-1,0,2,4,6,8], target = 5\n",
    "\n",
    "# Output: 4\n",
    "from typing import List\n",
    "def searchInsert(nums: List[int], target: int) -> int:\n",
    "\n",
    "    l,r = 0,len(nums)-1\n",
    "    pos =-1\n",
    "    while l<=r:\n",
    "        mid = (l+r)//2\n",
    "        if nums[mid] == target:\n",
    "            return mid\n",
    "        elif nums[mid] < target:\n",
    "            l= mid+1\n",
    "        else:\n",
    "            r=mid-1\n",
    "    return l\n",
    "\n",
    "\n",
    "searchInsert([-1,0,2,4,6,8],5)\n"
   ]
  },
  {
   "cell_type": "code",
   "execution_count": 14,
   "id": "50183ef1",
   "metadata": {},
   "outputs": [
    {
     "data": {
      "text/plain": [
       "3"
      ]
     },
     "execution_count": 14,
     "metadata": {},
     "output_type": "execute_result"
    }
   ],
   "source": [
    "# Sqrt(x)\n",
    "# You are given a non-negative integer x,\n",
    "# return the square root of x rounded down to the nearest integer. \n",
    "# The returned integer should be non-negative as well.\n",
    "\n",
    "# You must not use any built-in exponent function or operator.\n",
    "\n",
    "# For example, do not use pow(x, 0.5) in c++ or x ** 0.5 in python.\n",
    "# Example 1:\n",
    "\n",
    "# Input: x = 9\n",
    "\n",
    "# Output: 3\n",
    "\n",
    "\n",
    "def mySqrt(x: int) -> int:\n",
    "\n",
    "    l,r = 0, x-1\n",
    "    res = 0\n",
    "    while l<=r:\n",
    "        m = l+(r-l)//2\n",
    "        res = m*m\n",
    "        if res == x:\n",
    "            return m\n",
    "        elif res<x:\n",
    "            l=m+1\n",
    "        else:\n",
    "            r=m-1\n",
    "            res=m\n",
    "    return m\n",
    "\n",
    "\n",
    "mySqrt(9)"
   ]
  },
  {
   "cell_type": "code",
   "execution_count": 24,
   "id": "df81a59f",
   "metadata": {},
   "outputs": [
    {
     "data": {
      "text/plain": [
       "False"
      ]
     },
     "execution_count": 24,
     "metadata": {},
     "output_type": "execute_result"
    }
   ],
   "source": [
    "# Search a 2D Matrix\n",
    "# You are given an m x n 2-D integer array matrix and an integer target.\n",
    "\n",
    "# Each row in matrix is sorted in non-decreasing order.\n",
    "# The first integer of every row is greater than the last integer of the previous row.\n",
    "# Return true if target exists within matrix or false otherwise.\n",
    "\n",
    "import bisect\n",
    "def searchMatrix(matrix: List[List[int]], target: int) -> bool:\n",
    "    i=0\n",
    "    while i< (len(matrix)):\n",
    "        if matrix[i][-1] == target:\n",
    "            return True\n",
    "        elif matrix[i][-1] > target:\n",
    "            index = bisect.bisect_left(matrix[i],target)\n",
    "            if index < len(matrix[i]) and matrix[i][index] == target:\n",
    "                return True\n",
    "            else:\n",
    "                return False\n",
    "        else:\n",
    "            i+=1\n",
    "    return False\n",
    "\n",
    "searchMatrix([[1,2,4,8],[10,11,12,13],[14,20,30,40]],15)"
   ]
  },
  {
   "cell_type": "code",
   "execution_count": null,
   "id": "481c0ef0",
   "metadata": {},
   "outputs": [
    {
     "data": {
      "text/plain": [
       "1"
      ]
     },
     "execution_count": 1,
     "metadata": {},
     "output_type": "execute_result"
    }
   ],
   "source": [
    "# Find Minimum in Rotated Sorted Array\n",
    "# You are given an array of length n which was originally sorted \n",
    "# in ascending order. It has now been rotated between 1 and n times.\n",
    "# For example, the array nums = [1,2,3,4,5,6] might become:\n",
    "\n",
    "# [3,4,5,6,1,2] if it was rotated 4 times.\n",
    "# [1,2,3,4,5,6] if it was rotated 6 times.\n",
    "# Notice that rotating the array 4 times moves the last four elements \n",
    "# of the array to the beginning. Rotating the array 6 times produces the original array.\n",
    "\n",
    "# Assuming all elements in the rotated sorted array nums are unique, \n",
    "# return the minimum element of this array.\n",
    "\n",
    "# A solution that runs in O(n) time is trivial, can you write an \n",
    "# algorithm that runs in O(log n) time?\n",
    "\n",
    "# Example 1:\n",
    "\n",
    "# Input: nums = [3,4,5,6,1,2]\n",
    "\n",
    "# Output: 1\n",
    "\n",
    "def find_min_rotated_array(num):\n",
    "    res =num[0]\n",
    "    l,r =0, len(num)-1\n",
    "\n",
    "    while l<=r:\n",
    "        if num[l] < num[r]:\n",
    "            res = min (res,num[l])\n",
    "            break\n",
    "        m = (l+r)//2\n",
    "        res = min(res,num[m])\n",
    "\n",
    "        if num[m]>= num[l]:\n",
    "            l=m+1\n",
    "        else:\n",
    "            r= m-1\n",
    "    return res\n",
    "\n",
    "\n",
    "find_min_rotated_array([3,4,5,6,1,2])"
   ]
  },
  {
   "cell_type": "code",
   "execution_count": null,
   "id": "ce973128",
   "metadata": {},
   "outputs": [],
   "source": [
    "https://neetcode.io/problems/find-target-in-rotated-sorted-array?list=neetcode250\n",
    "\n",
    "def search_in_sorted_array(num,target):\n",
    "    l,r = 0, len(num)-1\n",
    "\n",
    "    while l <=r:\n",
    "        mid = (l+r)//2\n",
    "\n",
    "        if num[mid] == target:\n",
    "            return mid\n",
    "        \n",
    "        #Left half is sorted\n",
    "        if num[l] <= num[mid]:\n",
    "            if num[l] <= target <= num[mid]:\n",
    "                r = mid-1\n",
    "            else:\n",
    "                l =mid+1\n",
    "\n",
    "        #Right half sorted\n",
    "        else:\n",
    "            if num[mid] <= target <= num[r]:\n",
    "                l = mid+1\n",
    "            else:\n",
    "                r = mid-1\n",
    "        return -1\n",
    "\n",
    "\n"
   ]
  },
  {
   "cell_type": "code",
   "execution_count": 5,
   "id": "cabe7ee2",
   "metadata": {},
   "outputs": [
    {
     "data": {
      "text/plain": [
       "2"
      ]
     },
     "execution_count": 5,
     "metadata": {},
     "output_type": "execute_result"
    }
   ],
   "source": [
    "# https://neetcode.io/problems/eating-bananas?list=neetcode250\n",
    "\n",
    "from math import ceil\n",
    "def koko_banana(piles,h):\n",
    "    l,r =1, max(piles)\n",
    "    min_k =r\n",
    "\n",
    "    while l<=r:\n",
    "        k = (l+r)//2\n",
    "        sum =0\n",
    "        for p in piles:\n",
    "            sum+=ceil(p/k)\n",
    "\n",
    "        if sum>h:\n",
    "            r=k-1\n",
    "        elif sum<=h:\n",
    "            l=k+1\n",
    "            min_k = min(k,min_k)\n",
    "    return min_k\n",
    "\n",
    "\n",
    "koko_banana([1,4,3,2],9)\n",
    "        \n",
    "\n",
    "            "
   ]
  },
  {
   "cell_type": "code",
   "execution_count": null,
   "id": "ea74e13e",
   "metadata": {},
   "outputs": [],
   "source": [
    "# https://neetcode.io/problems/capacity-to-ship-packages-within-d-days?list=neetcode250\n",
    "\n",
    "def ship_package(weight,days):\n",
    "    l,r =1,max(weight)\n",
    "    result=r\n",
    "\n",
    "    def canship(k):\n",
    "        day, currCap = 1, k\n",
    "        for w in weight:\n",
    "            if w>currCap:\n",
    "                day+=1\n",
    "            if day > days:\n",
    "                return False\n",
    "            currCap = k\n",
    "        currCap -= w\n",
    "        return True\n",
    "\n",
    "    while l <=r:\n",
    "        k = (l+r)//2\n",
    "\n",
    "        if canship(k):\n",
    "            r =k-1\n",
    "        else:\n",
    "            l= k+1\n",
    "    return result\n",
    "        \n",
    "\n"
   ]
  },
  {
   "cell_type": "code",
   "execution_count": 8,
   "id": "e1fe3928",
   "metadata": {},
   "outputs": [
    {
     "data": {
      "text/plain": [
       "'ba'"
      ]
     },
     "execution_count": 8,
     "metadata": {},
     "output_type": "execute_result"
    }
   ],
   "source": [
    "from typing import List\n",
    "def longestCommonPrefix(strs: List[str]) -> str:\n",
    "\n",
    "        #lexical sorting\n",
    "        strs = sorted(strs)\n",
    "\n",
    "        prefix =[]\n",
    "\n",
    "        for i in range(min(len(strs[0]),len(strs[-1]))):\n",
    "            if strs[0][i]!= strs[-1][i]:\n",
    "                return ''.join(prefix)\n",
    "            prefix.append(strs[0][i])\n",
    "        return ''.join(prefix)\n",
    "\n",
    "longestCommonPrefix([\"bat\",\"bag\",\"bank\",\"band\"])"
   ]
  },
  {
   "cell_type": "code",
   "execution_count": 19,
   "id": "83c7bfcf",
   "metadata": {},
   "outputs": [
    {
     "name": "stdout",
     "output_type": "stream",
     "text": [
      "[1, 1, 2, 8]\n",
      "[48, 24, 12, 8]\n"
     ]
    },
    {
     "data": {
      "text/plain": [
       "[48, 24, 12, 8]"
      ]
     },
     "execution_count": 19,
     "metadata": {},
     "output_type": "execute_result"
    }
   ],
   "source": [
    "def productExceptSelf(nums: List[int]) -> List[int]:\n",
    "    n = len(nums)\n",
    "    result =[1]*n\n",
    "\n",
    "    #prefix\n",
    "    prefix =1\n",
    "    for i in range(n):\n",
    "        result[i] = prefix\n",
    "        prefix =  prefix * nums[i]        \n",
    "\n",
    "    print(result)\n",
    "\n",
    "    #suffix\n",
    "    suffix =1 \n",
    "    for i in range(n-1,-1,-1):\n",
    "        result[i] = result[i]*suffix\n",
    "        suffix = suffix * nums[i]\n",
    "    print(result)\n",
    "    \n",
    "    return result\n",
    "\n",
    "productExceptSelf([1,2,4,6])"
   ]
  },
  {
   "cell_type": "code",
   "execution_count": 24,
   "id": "9b2ce217",
   "metadata": {},
   "outputs": [
    {
     "name": "stdout",
     "output_type": "stream",
     "text": [
      "[2, 3, 4, 4, 5, 10, 20]\n"
     ]
    },
    {
     "data": {
      "text/plain": [
       "4"
      ]
     },
     "execution_count": 24,
     "metadata": {},
     "output_type": "execute_result"
    }
   ],
   "source": [
    "def longest_consequtive_seq(nums):\n",
    "    nums = sorted(nums)\n",
    "    print(nums)\n",
    "    maxlength =1\n",
    "    curr_maxlength =1\n",
    "\n",
    "    for i in range(len(nums)-1):\n",
    "        if nums[i]+1 == nums[i+1]:\n",
    "            curr_maxlength +=1\n",
    "        elif nums[i] == nums[i+1]:\n",
    "            continue\n",
    "        else:\n",
    "            maxlength = max(maxlength,curr_maxlength)\n",
    "            curr_maxlength =1\n",
    "    maxlength = max(maxlength, curr_maxlength)\n",
    "    return maxlength\n",
    "\n",
    "longest_consequtive_seq([2,20,4,10,3,4,5])"
   ]
  },
  {
   "cell_type": "code",
   "execution_count": 25,
   "id": "881a068a",
   "metadata": {},
   "outputs": [
    {
     "data": {
      "text/plain": [
       "7"
      ]
     },
     "execution_count": 25,
     "metadata": {},
     "output_type": "execute_result"
    }
   ],
   "source": [
    "# https://neetcode.io/problems/best-time-to-buy-and-sell-stock-ii?list=neetcode250\n",
    "\n",
    "def buy_sell_stock(stock):\n",
    "    profit =0\n",
    "    for i in range(len(stock)-1):        \n",
    "        if stock[i+1] - stock[i]>0:\n",
    "            profit+=stock[i+1] - stock[i]\n",
    "    return profit\n",
    "\n",
    "buy_sell_stock([7,1,5,3,6,4])"
   ]
  },
  {
   "cell_type": "code",
   "execution_count": 6,
   "id": "7525462c",
   "metadata": {},
   "outputs": [
    {
     "data": {
      "text/plain": [
       "2"
      ]
     },
     "execution_count": 6,
     "metadata": {},
     "output_type": "execute_result"
    }
   ],
   "source": [
    "import math\n",
    "from typing import List\n",
    "def minEatingSpeed(piles: List[int], h: int) -> int:\n",
    "        l,r = 1,max(piles)\n",
    "        res =0\n",
    "        while l<=r:\n",
    "            m = (l+r)//2            \n",
    "            \n",
    "\n",
    "            total =0\n",
    "            for p in piles:\n",
    "                total =total+ math.ceil(p/m)\n",
    "            \n",
    "            if total<=h:\n",
    "                res = m\n",
    "                r = m-1\n",
    "            else:\n",
    "                l =m+1\n",
    "        return res\n",
    "\n",
    "minEatingSpeed([1,4,3,2],9)"
   ]
  }
 ],
 "metadata": {
  "kernelspec": {
   "display_name": ".venv",
   "language": "python",
   "name": "python3"
  },
  "language_info": {
   "codemirror_mode": {
    "name": "ipython",
    "version": 3
   },
   "file_extension": ".py",
   "mimetype": "text/x-python",
   "name": "python",
   "nbconvert_exporter": "python",
   "pygments_lexer": "ipython3",
   "version": "3.12.0"
  }
 },
 "nbformat": 4,
 "nbformat_minor": 5
}
