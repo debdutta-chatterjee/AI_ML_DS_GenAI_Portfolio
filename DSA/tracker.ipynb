{
 "cells": [
  {
   "cell_type": "markdown",
   "id": "97a45dd8",
   "metadata": {},
   "source": [
    "#19-Aug\n",
    "https://neetcode.io/problems/find-minimum-in-rotated-sorted-array?list=neetcode250\n",
    "https://neetcode.io/problems/find-target-in-rotated-sorted-array?list=neetcode250\n",
    "https://neetcode.io/problems/search-in-rotated-sorted-array-ii?list=neetcode250\n",
    "https://neetcode.io/problems/implement-stack-using-queues?list=neetcode250\n",
    "https://neetcode.io/problems/implement-queue-using-stacks?list=neetcode250\n",
    "\n",
    "\n",
    "https://neetcode.io/problems/simplify-path?list=neetcode250\n",
    "https://neetcode.io/problems/minimum-stack?list=neetcode250\n",
    "https://neetcode.io/problems/evaluate-reverse-polish-notation?list=neetcode250\n"
   ]
  },
  {
   "cell_type": "markdown",
   "id": "8e0746bd",
   "metadata": {},
   "source": [
    "https://neetcode.io/problems/asteroid-collision?list=neetcode250"
   ]
  },
  {
   "cell_type": "markdown",
   "id": "b4c67c74",
   "metadata": {},
   "source": [
    "#20 Aug\n",
    "https://neetcode.io/problems/single-number?list=neetcode250\n",
    "https://neetcode.io/problems/number-of-one-bits?list=neetcode250\n",
    "https://neetcode.io/problems/counting-bits?list=neetcode250\n",
    "https://neetcode.io/problems/add-binary?list=neetcode250\n",
    "https://neetcode.io/problems/reverse-bits?list=neetcode250\n",
    "https://neetcode.io/problems/missing-number?list=neetcode250"
   ]
  },
  {
   "cell_type": "markdown",
   "id": "a2506898",
   "metadata": {},
   "source": [
    "#21 Aug\n",
    "\n",
    "https://neetcode.io/problems/excel-sheet-column-title?list=neetcode250\n",
    "https://neetcode.io/problems/greatest-common-divisor-of-strings?list=neetcode250\n",
    "https://neetcode.io/problems/transpose-matrix?list=neetcode250\n",
    "https://neetcode.io/problems/rotate-matrix?list=neetcode250\n",
    "https://neetcode.io/problems/set-zeroes-in-matrix?list=neetcode250"
   ]
  },
  {
   "cell_type": "code",
   "execution_count": null,
   "id": "2f5e1460",
   "metadata": {
    "vscode": {
     "languageId": "plaintext"
    }
   },
   "outputs": [],
   "source": [
    "##25 Aug\n",
    "https://neetcode.io/problems/reverse-bits?list=neetcode250\n",
    "https://neetcode.io/problems/bitwise-and-of-numbers-range?list=neetcode250"
   ]
  },
  {
   "cell_type": "markdown",
   "id": "0d0f78f0",
   "metadata": {},
   "source": [
    "##27 Aug\n",
    "https://leetcode.com/problems/contains-duplicate-ii/description/ \n",
    "https://neetcode.io/problems/buy-and-sell-crypto?list=neetcode250\n",
    "https://neetcode.io/problems/longest-substring-without-duplicates?list=neetcode250"
   ]
  },
  {
   "cell_type": "markdown",
   "id": "6932eee3",
   "metadata": {},
   "source": [
    "##28Aug\n",
    "https://neetcode.io/problems/minimum-size-subarray-sum?list=neetcode250\n",
    "https://neetcode.io/problems/find-k-closest-elements?list=neetcode250\n",
    "https://neetcode.io/problems/subarray-sum-equals-k?list=neetcode250\n",
    "https://neetcode.io/problems/sort-colors?list=neetcode250"
   ]
  },
  {
   "cell_type": "markdown",
   "id": "e2d5cf33",
   "metadata": {},
   "source": [
    "###1Sep\n",
    "\n",
    "https://neetcode.io/problems/longest-repeating-substring-with-replacement?list=neetcode250\n",
    "https://neetcode.io/problems/climbing-stairs?list=neetcode250"
   ]
  },
  {
   "cell_type": "markdown",
   "id": "1ae4c94d",
   "metadata": {},
   "source": [
    "#Lets Array"
   ]
  },
  {
   "cell_type": "markdown",
   "id": "91716753",
   "metadata": {},
   "source": [
    "## 02 Aug\n",
    "https://neetcode.io/problems/score-of-a-string?list=neetcode250\n",
    "https://neetcode.io/problems/replace-elements-with-greatest-element-on-right-side?list=neetcode250\n",
    "https://neetcode.io/problems/is-subsequence?list=neetcode250\n",
    "https://leetcode.com/problems/append-characters-to-string-to-make-subsequence/description/\n",
    "https://leetcode.com/problems/length-of-last-word/description/\n",
    "https://leetcode.com/problems/number-of-senior-citizens/description/\n",
    "https://neetcode.io/problems/max-consecutive-ones?list=neetcode250\n",
    "https://leetcode.com/problems/string-matching-in-an-array/description/\n",
    "https://leetcode.com/problems/unique-email-addresses/description/\n",
    "https://leetcode.com/problems/isomorphic-strings/description/\n",
    "https://leetcode.com/problems/can-place-flowers/submissions/1757228890/\n",
    "https://leetcode.com/problems/find-all-duplicates-in-an-array/description/"
   ]
  },
  {
   "cell_type": "markdown",
   "id": "4f77c157",
   "metadata": {},
   "source": [
    "#03 Aug\n",
    "https://leetcode.com/problems/average-waiting-time/description/\n",
    "https://leetcode.com/problems/count-vowel-strings-in-ranges/description/"
   ]
  },
  {
   "cell_type": "markdown",
   "id": "93e0ac57",
   "metadata": {},
   "source": [
    "#04 Aug\n",
    "https://leetcode.com/problems/count-number-of-bad-pairs/description/\n",
    "https://leetcode.com/problems/contiguous-array/description/"
   ]
  },
  {
   "cell_type": "markdown",
   "id": "06f028bd",
   "metadata": {},
   "source": [
    "#05 Aug\n",
    "https://neetcode.io/problems/minimum-remove-to-make-valid-parentheses?list=neetcode250\n",
    "https://leetcode.com/problems/sort-characters-by-frequency/description/\n",
    "https://leetcode.com/problems/sequential-digits/description/\n",
    "https://leetcode.com/problems/minimum-number-of-operations-to-make-array-empty/description/\n",
    "https://leetcode.com/problems/convert-an-array-into-a-2d-array-with-conditions/description/"
   ]
  },
  {
   "cell_type": "code",
   "execution_count": null,
   "metadata": {
    "vscode": {
     "languageId": "plaintext"
    }
   },
   "outputs": [],
   "source": [
    "#09 Aug\n",
    "https://leetcode.com/problems/minimum-penalty-for-a-shop/\n",
    "https://leetcode.com/problems/sum-of-absolute-differences-in-a-sorted-array/description/\n",
    "https://leetcode.com/problems/sign-of-the-product-of-an-array/description/\n",
    "https://leetcode.com/problems/number-of-zero-filled-subarrays/description/"
   ]
  },
  {
   "cell_type": "code",
   "execution_count": null,
   "id": "dc9370f5",
   "metadata": {
    "vscode": {
     "languageId": "plaintext"
    }
   },
   "outputs": [],
   "source": [
    "#10 Aug\n",
    "https://leetcode.com/problems/brick-wall/"
   ]
  },
  {
   "cell_type": "code",
   "execution_count": null,
   "id": "bcfd00da",
   "metadata": {
    "vscode": {
     "languageId": "plaintext"
    }
   },
   "outputs": [],
   "source": [
    "#11 Aug\n",
    "https://leetcode.com/problems/reverse-words-in-a-string/\n",
    "https://leetcode.com/problems/valid-palindrome/description/\n",
    "https://leetcode.com/problems/find-the-index-of-the-first-occurrence-in-a-string/description/\n",
    "https://leetcode.com/problems/remove-duplicates-from-sorted-array/description/\n",
    "\n",
    "https://leetcode.com/problems/two-sum/description/\n",
    "https://leetcode.com/problems/squares-of-a-sorted-array/description/"
   ]
  },
  {
   "cell_type": "code",
   "execution_count": null,
   "id": "522ad3fa",
   "metadata": {
    "vscode": {
     "languageId": "plaintext"
    }
   },
   "outputs": [],
   "source": [
    "#12 Aug\n",
    "https://leetcode.com/problems/find-all-duplicates-in-an-array/description/\n",
    "https://leetcode.com/problems/range-sum-query-mutable/description/\n",
    "https://leetcode.com/problems/subarray-product-less-than-k/description/"
   ]
  },
  {
   "cell_type": "code",
   "execution_count": null,
   "id": "95183209",
   "metadata": {
    "vscode": {
     "languageId": "plaintext"
    }
   },
   "outputs": [],
   "source": [
    "#17 Aug\n",
    "https://leetcode.com/problems/group-anagrams/description/\n",
    "https://leetcode.com/problems/longest-palindromic-substring/description/\n",
    "https://leetcode.com/problems/valid-anagram/\n",
    "https://leetcode.com/problems/first-unique-character-in-a-string/description/"
   ]
  }
 ],
 "metadata": {
  "language_info": {
   "name": "python"
  }
 },
 "nbformat": 4,
 "nbformat_minor": 5
}
