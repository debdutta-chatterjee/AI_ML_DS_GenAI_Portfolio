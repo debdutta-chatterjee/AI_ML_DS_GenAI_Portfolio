{
 "cells": [
  {
   "cell_type": "code",
   "execution_count": 8,
   "id": "183439fa",
   "metadata": {},
   "outputs": [
    {
     "name": "stdout",
     "output_type": "stream",
     "text": [
      "aba\n"
     ]
    },
    {
     "data": {
      "text/plain": [
       "True"
      ]
     },
     "execution_count": 8,
     "metadata": {},
     "output_type": "execute_result"
    }
   ],
   "source": [
    "# https://leetcode.com/problems/valid-palindrome/description/\n",
    "\n",
    "import re\n",
    "def isPalindrome(s):\n",
    "    s = s.lower()\n",
    "    pattern = r'[^A-Za-z0-9]'\n",
    "    s = re.sub(pattern,'',s)\n",
    "    s=s.replace(' ','')\n",
    "    print(s)\n",
    "    i,j =0,len(s)-1\n",
    "\n",
    "    while i<j:\n",
    "        if s[i]!=s[j]:\n",
    "            return False\n",
    "        i+=1\n",
    "        j-=1\n",
    "    return True\n",
    "\n",
    "isPalindrome(\"ab_a\")"
   ]
  },
  {
   "cell_type": "code",
   "execution_count": 16,
   "id": "d3693f12",
   "metadata": {},
   "outputs": [
    {
     "data": {
      "text/plain": [
       "'example good a'"
      ]
     },
     "execution_count": 16,
     "metadata": {},
     "output_type": "execute_result"
    }
   ],
   "source": [
    "# https://leetcode.com/problems/reverse-words-in-a-string/\n",
    "\n",
    "def reverseWords(s):\n",
    "    s = s.strip()\n",
    "    words = s.split(' ')\n",
    "    res =[]\n",
    "    for i in range(len(words)-1,-1,-1):\n",
    "        formatted = words[i].strip()\n",
    "        if formatted:\n",
    "            res.append(formatted)\n",
    "    return ' '.join(res)\n",
    "\n",
    "reverseWords(\"a good   example\")"
   ]
  },
  {
   "cell_type": "code",
   "execution_count": 19,
   "id": "3db36656",
   "metadata": {},
   "outputs": [
    {
     "data": {
      "text/plain": [
       "'d'"
      ]
     },
     "execution_count": 19,
     "metadata": {},
     "output_type": "execute_result"
    }
   ],
   "source": [
    "# https://leetcode.com/problems/longest-palindromic-substring/description/\n",
    "\n",
    "def longestPalindrome(s):\n",
    "    def is_palindrome(str):\n",
    "        i,j =0,len(str)-1\n",
    "\n",
    "        while i<j:\n",
    "            if str[i]!=str[j]:\n",
    "                return False\n",
    "            i+=1\n",
    "            j-=1\n",
    "        return True\n",
    "\n",
    "    i,j = 0,len(s)-1\n",
    "    if (is_palindrome(s[i:j+1])):\n",
    "        return s[i:j+1]\n",
    "\n",
    "    return longestPalindrome(s[i+1:j+1]) or longestPalindrome(s[i:j])\n",
    "\n",
    "\n",
    "longestPalindrome('babad')"
   ]
  },
  {
   "cell_type": "code",
   "execution_count": null,
   "id": "ef2a2701",
   "metadata": {},
   "outputs": [
    {
     "data": {
      "text/plain": [
       "-1"
      ]
     },
     "execution_count": 25,
     "metadata": {},
     "output_type": "execute_result"
    }
   ],
   "source": [
    "# https://leetcode.com/problems/find-the-index-of-the-first-occurrence-in-a-string/description/\n",
    "\n",
    "def strStr(haystack, needle):\n",
    "    i=0\n",
    "    j =i+len(needle)\n",
    "\n",
    "    while j<=len(haystack):\n",
    "        if haystack[i:j] == needle:\n",
    "            return i\n",
    "        else:\n",
    "            i+=1\n",
    "            j+=1\n",
    "    return -1\n",
    "\n",
    "\n",
    "strStr(\"leetcode\",\"leeto\")"
   ]
  },
  {
   "cell_type": "code",
   "execution_count": 30,
   "id": "fea3a53e",
   "metadata": {},
   "outputs": [
    {
     "name": "stdout",
     "output_type": "stream",
     "text": [
      "[0, 0, 1, 1, 1, 2, 2, 3, 3, 4]\n",
      "[0, 1, 1, 1, 1, 2, 2, 3, 3, 4]\n",
      "[0, 1, 1, 1, 1, 2, 2, 3, 3, 4]\n",
      "[0, 1, 1, 1, 1, 2, 2, 3, 3, 4]\n",
      "[0, 1, 2, 1, 1, 2, 2, 3, 3, 4]\n",
      "[0, 1, 2, 1, 1, 2, 2, 3, 3, 4]\n",
      "[0, 1, 2, 3, 1, 2, 2, 3, 3, 4]\n",
      "[0, 1, 2, 3, 1, 2, 2, 3, 3, 4]\n",
      "[0, 1, 2, 3, 4, 2, 2, 3, 3, 4]\n"
     ]
    },
    {
     "data": {
      "text/plain": [
       "[0, 1, 2, 3, 4, 2, 2, 3, 3, 4]"
      ]
     },
     "execution_count": 30,
     "metadata": {},
     "output_type": "execute_result"
    }
   ],
   "source": [
    "# https://leetcode.com/problems/remove-duplicates-from-sorted-array/description/\n",
    "\n",
    "def removeDuplicates(nums):\n",
    "    k =1\n",
    "    for i in range(1,len(nums)):\n",
    "        if nums[i] != nums[i-1]:\n",
    "            nums[k]= nums[i]\n",
    "            k+=1\n",
    "        print(nums)\n",
    "    return nums\n",
    "\n",
    "removeDuplicates([0,0,1,1,1,2,2,3,3,4])"
   ]
  },
  {
   "cell_type": "code",
   "execution_count": null,
   "id": "5c80b7bf",
   "metadata": {},
   "outputs": [
    {
     "data": {
      "text/plain": [
       "[0, 1]"
      ]
     },
     "execution_count": 36,
     "metadata": {},
     "output_type": "execute_result"
    }
   ],
   "source": [
    "# https://leetcode.com/problems/two-sum/description/\n",
    "\n",
    "def twoSum__(nums, target):\n",
    "    seen = dict()\n",
    "\n",
    "    for i,n in enumerate(nums):\n",
    "        rem = target-n\n",
    "        if rem in seen:\n",
    "            return [seen[rem],i]\n",
    "        seen[n] = i\n",
    "    return [-1,-1]\n",
    "\n",
    "\n",
    "def twoSum(nums, target):\n",
    "    i,j = 0,len(nums)-1\n",
    "\n",
    "    while i<j:\n",
    "        sums = nums[i]+sum[j]\n",
    "\n",
    "        if sums == target:\n",
    "            return[i,j]\n",
    "        elif sums<target:\n",
    "            i+=1\n",
    "        elif sums>target:\n",
    "            j-=1\n",
    "    return[-1,-1]\n",
    "\n",
    "twoSum([2,7,11,15],9)"
   ]
  },
  {
   "cell_type": "code",
   "execution_count": 40,
   "id": "09af67df",
   "metadata": {},
   "outputs": [
    {
     "data": {
      "text/plain": [
       "[0, 1, 9, 16, 100]"
      ]
     },
     "execution_count": 40,
     "metadata": {},
     "output_type": "execute_result"
    }
   ],
   "source": [
    "# https://leetcode.com/problems/squares-of-a-sorted-array/description/\n",
    "\n",
    "def sortedSquares(nums):\n",
    "    n = len(nums)\n",
    "    res = [0]*n\n",
    "    l,r = 0, n-1\n",
    "    pos = n-1\n",
    "    while l<r:\n",
    "        if abs(nums[l]) >= abs(nums[r]):\n",
    "            res[pos]  = nums[l]**2\n",
    "            l+=1\n",
    "        else:\n",
    "           res[pos]  = nums[r]**2 \n",
    "           r-=1\n",
    "        pos-=1\n",
    "    return res\n",
    "\n",
    "sortedSquares([-4,-1,0,3,10])"
   ]
  },
  {
   "cell_type": "code",
   "execution_count": 4,
   "id": "d19e69d5",
   "metadata": {},
   "outputs": [
    {
     "data": {
      "text/plain": [
       "[2, 3]"
      ]
     },
     "execution_count": 4,
     "metadata": {},
     "output_type": "execute_result"
    }
   ],
   "source": [
    "# https://leetcode.com/problems/find-all-duplicates-in-an-array/description/\n",
    "\n",
    "def findDuplicates(nums):\n",
    "    res = []\n",
    "    for n in nums:\n",
    "        index = abs(n)-1\n",
    "        if nums[index]<0:\n",
    "            res.append(index+1)\n",
    "        else:\n",
    "            nums[index]*=-1\n",
    "    return res\n",
    "\n",
    "findDuplicates([4,3,2,7,8,2,3,1])"
   ]
  },
  {
   "cell_type": "code",
   "execution_count": 6,
   "id": "7c17bb89",
   "metadata": {},
   "outputs": [
    {
     "data": {
      "text/plain": [
       "8"
      ]
     },
     "execution_count": 6,
     "metadata": {},
     "output_type": "execute_result"
    }
   ],
   "source": [
    "# https://leetcode.com/problems/subarray-product-less-than-k/description/\n",
    "\n",
    "def numSubarrayProductLessThanK(nums, k):\n",
    "    if k <= 1:\n",
    "        return 0\n",
    "\n",
    "    prod = 1\n",
    "    left = 0\n",
    "    count = 0\n",
    "\n",
    "    for right in range(len(nums)):\n",
    "        prod *= nums[right]\n",
    "\n",
    "        while prod >= k:\n",
    "            prod //= nums[left]\n",
    "            left += 1\n",
    "\n",
    "        count += right - left + 1\n",
    "\n",
    "    return count\n",
    "\n",
    "\n",
    "numSubarrayProductLessThanK([10,5,2,6],100)"
   ]
  },
  {
   "cell_type": "code",
   "execution_count": null,
   "id": "a92563de",
   "metadata": {},
   "outputs": [
    {
     "name": "stdout",
     "output_type": "stream",
     "text": [
      "[1, 3, 5]\n",
      "[1, 2, 5]\n",
      "8\n"
     ]
    }
   ],
   "source": [
    "# https://leetcode.com/problems/range-sum-query-mutable/description/\n",
    "\n",
    "class NumArray(object):\n",
    "\n",
    "    nums = []\n",
    "    def __init__(self, nums):\n",
    "        \"\"\"\n",
    "        :type nums: List[int]\n",
    "        \"\"\"\n",
    "        self.nums = nums[:]\n",
    "        self.prefix = self._build_prfix(nums)\n",
    "\n",
    "\n",
    "    def _build_prfix(self,nums):\n",
    "        n = len(self.nums)\n",
    "        prefix = [0]*n\n",
    "\n",
    "        for i in range(1,len(self.nums)):\n",
    "            prefix[i] = prefix[i-1] + self.nums[i]\n",
    "        return prefix\n",
    "\n",
    "    def update(self, index, val):\n",
    "        \"\"\"\n",
    "        :type index: int\n",
    "        :type val: int\n",
    "        :rtype: None\n",
    "        \"\"\"\n",
    "        delta = val - self.nums[index]\n",
    "        self.nums[index] = val\n",
    "        for i in range(index+1,len(self.prefix)):\n",
    "            self.prefix[i]+= delta\n",
    "\n",
    "    def sumRange(self, left, right):\n",
    "        \"\"\"\n",
    "        :type left: int\n",
    "        :type right: int\n",
    "        :rtype: int\n",
    "        \"\"\"        \n",
    "        return self.prefix[right+1] - self.prefix[left]\n",
    "        \n",
    "\n",
    "\n",
    "# Your NumArray object will be instantiated and called as such:\n",
    "obj = NumArray([1, 3, 5])\n",
    "print(obj.nums)\n",
    "obj.update(1,2)\n",
    "print(obj.nums)\n",
    "print(obj.sumRange(0,2))"
   ]
  },
  {
   "cell_type": "code",
   "execution_count": null,
   "id": "41aef1a7",
   "metadata": {},
   "outputs": [],
   "source": [
    "# https://leetcode.com/problems/longest-palindromic-substring/description/\n",
    "\n",
    "def longestPalindrome(s):\n",
    "\n",
    "    def expand_around_center(l,r):\n",
    "        while l>=0 and r<len(s) and s[l] ==s[r]:\n",
    "            l-=1\n",
    "            r+=1\n",
    "        return l+1,r-1\n",
    "\n",
    "    if not s or len(s) == 1:\n",
    "        return s\n",
    "    \n",
    "    start, end = 0, 0\n",
    "\n",
    "    for i in range(len(s)):\n",
    "        l1,r1 = expand_around_center(i,i)\n",
    "        l2,r2 = expand_around_center(i,i+1)\n",
    "\n",
    "        if r1-l1 > end-start:\n",
    "            start,end = l1,r1\n",
    "        if r2-l2 > end-start:\n",
    "            start,end = r2,12\n",
    "\n",
    "    return s[start:end+1]"
   ]
  },
  {
   "cell_type": "code",
   "execution_count": 3,
   "id": "355cb945",
   "metadata": {},
   "outputs": [
    {
     "name": "stdout",
     "output_type": "stream",
     "text": [
      "aet\n",
      "aet\n",
      "ant\n",
      "aet\n",
      "ant\n",
      "abt\n"
     ]
    },
    {
     "data": {
      "text/plain": [
       "dict_values([['eat', 'tea', 'ate'], ['tan', 'nat'], ['bat']])"
      ]
     },
     "execution_count": 3,
     "metadata": {},
     "output_type": "execute_result"
    }
   ],
   "source": [
    "# https://leetcode.com/problems/group-anagrams/description/\n",
    "\n",
    "def groupAnagrams(strs):\n",
    "\n",
    "    anagram_map = {}\n",
    "\n",
    "    for word in strs:\n",
    "        sorted_word = ''.join(sorted(word))\n",
    "        print(sorted_word)\n",
    "\n",
    "        if sorted_word in anagram_map:\n",
    "            anagram_map[sorted_word].append(word)\n",
    "        else:\n",
    "            anagram_map[sorted_word] = [word]\n",
    "    return anagram_map.values()\n",
    "\n",
    "groupAnagrams([\"eat\",\"tea\",\"tan\",\"ate\",\"nat\",\"bat\"])\n",
    "\n"
   ]
  },
  {
   "cell_type": "code",
   "execution_count": 4,
   "id": "9be3734b",
   "metadata": {},
   "outputs": [
    {
     "data": {
      "text/plain": [
       "0"
      ]
     },
     "execution_count": 4,
     "metadata": {},
     "output_type": "execute_result"
    }
   ],
   "source": [
    "# https://leetcode.com/problems/first-unique-character-in-a-string/description/\n",
    "\n",
    "def firstUniqChar(s):\n",
    "    freq_map = {}\n",
    "    for c in s:\n",
    "        freq_map[c] = freq_map.get(c,0)+1\n",
    "\n",
    "    for i,c in enumerate(s):\n",
    "        if freq_map[c] ==1:\n",
    "            return i\n",
    "    return -1\n",
    "\n",
    "firstUniqChar('leetcode')"
   ]
  },
  {
   "cell_type": "code",
   "execution_count": 12,
   "id": "c7198448",
   "metadata": {},
   "outputs": [
    {
     "data": {
      "text/plain": [
       "['a', '2', 'b', '2', 'c', '1', '2']"
      ]
     },
     "execution_count": 12,
     "metadata": {},
     "output_type": "execute_result"
    }
   ],
   "source": [
    "# https://leetcode.com/problems/string-compression/description/\n",
    "\n",
    "def compress(chars):\n",
    "\n",
    "    def digit_to_char(d):\n",
    "        d = str(d)\n",
    "        lst = []\n",
    "        for i in d:\n",
    "            lst.append(i)\n",
    "        return lst\n",
    "\n",
    "    curr = chars[0]\n",
    "    count =1\n",
    "    res = []\n",
    "    for i in range(1,len(chars)):\n",
    "        if curr == chars[i]:\n",
    "            count+=1\n",
    "        else:\n",
    "            res.append(curr)\n",
    "            for d in digit_to_char(count):\n",
    "                res.append(d)\n",
    "            count =1\n",
    "            curr = chars[i]\n",
    "        if i == len(chars)-1:\n",
    "            res.append(curr)\n",
    "            for d in digit_to_char(count):\n",
    "                res.append(d)\n",
    "    return res\n",
    "\n",
    "\n",
    "compress([\"a\",\"a\",\"b\",\"b\",\"c\",\"c\",\"c\",\"c\",\"c\",\"c\",\"c\",\"c\",\"c\",\"c\",\"c\",\"c\"])"
   ]
  },
  {
   "cell_type": "code",
   "execution_count": null,
   "id": "b823972f",
   "metadata": {},
   "outputs": [
    {
     "data": {
      "text/plain": [
       "210"
      ]
     },
     "execution_count": 2,
     "metadata": {},
     "output_type": "execute_result"
    }
   ],
   "source": [
    "# https://leetcode.com/problems/largest-number/description/\n",
    "\n",
    "\n",
    "\n",
    "\n",
    "# largestNumber([3,30,34,5,9])\n",
    "largestNumber([10,2])"
   ]
  }
 ],
 "metadata": {
  "kernelspec": {
   "display_name": ".venv",
   "language": "python",
   "name": "python3"
  },
  "language_info": {
   "codemirror_mode": {
    "name": "ipython",
    "version": 3
   },
   "file_extension": ".py",
   "mimetype": "text/x-python",
   "name": "python",
   "nbconvert_exporter": "python",
   "pygments_lexer": "ipython3",
   "version": "3.12.0"
  }
 },
 "nbformat": 4,
 "nbformat_minor": 5
}
