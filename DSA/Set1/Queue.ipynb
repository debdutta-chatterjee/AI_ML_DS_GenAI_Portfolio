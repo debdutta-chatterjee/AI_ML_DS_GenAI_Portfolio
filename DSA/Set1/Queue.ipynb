{
 "cells": [
  {
   "cell_type": "code",
   "execution_count": null,
   "id": "04868521",
   "metadata": {},
   "outputs": [
    {
     "name": "stdout",
     "output_type": "stream",
     "text": [
      "10\n",
      "20\n",
      "30\n",
      "40\n"
     ]
    }
   ],
   "source": [
    "#10 20 30 40 -> return 10 -> 20 30 40\n",
    "\n",
    "# 3. Implement queue using stacks\n",
    "\n",
    "class MyQ:\n",
    "    def __init__(self):\n",
    "        self.s1=[]\n",
    "        self.s2=[]\n",
    "\n",
    "    def enqueue(self,x):\n",
    "        self.s1.append(x)\n",
    "\n",
    "    def dequeue(self):\n",
    "        if not self.s2:\n",
    "            while self.s1:\n",
    "                self.s2.append(self.s1.pop())\n",
    "        item = self.s2.pop()\n",
    "        print(item)\n",
    "        return item\n",
    "\n",
    "\n",
    "if __name__ == '__main__':\n",
    "    q = MyQ()\n",
    "    q.enqueue(10)\n",
    "    q.enqueue(20)\n",
    "    q.enqueue(30)\n",
    "    q.enqueue(40)\n",
    "\n",
    "    q.dequeue()\n",
    "    q.dequeue()\n",
    "    q.dequeue()\n",
    "    q.dequeue()\n",
    "\n",
    "\n"
   ]
  },
  {
   "cell_type": "code",
   "execution_count": 11,
   "id": "fbbdaba4",
   "metadata": {},
   "outputs": [
    {
     "name": "stdout",
     "output_type": "stream",
     "text": [
      "40\n",
      "30\n",
      "20\n",
      "10\n"
     ]
    }
   ],
   "source": [
    "#10 20 30 40 -> return 40 -> 10 20 30\n",
    "\n",
    "#5. Implement stack using queues\n",
    "\n",
    "class MyStack:\n",
    "\n",
    "    def __init__(self):\n",
    "        self.q1=[]\n",
    "        self.q2=[]\n",
    "\n",
    "    def pop(self):\n",
    "        if not self.q2:\n",
    "            for i in range(len(self.q1)-1):\n",
    "                self.q2.append(self.q1.pop(0))\n",
    "        item = self.q1.pop(0)\n",
    "\n",
    "        self.q1,self.q2 =self.q2,self.q1\n",
    "        print(item)\n",
    "        return item\n",
    "\n",
    "    def push(self,x):\n",
    "        self.q1.append(x)\n",
    "\n",
    "if __name__ == '__main__':\n",
    "    q = MyStack()\n",
    "    q.push(10)\n",
    "    q.push(20)\n",
    "    q.push(30)\n",
    "    q.push(40)\n",
    "\n",
    "    q.pop()\n",
    "    q.pop()\n",
    "    q.pop()\n",
    "    q.pop()"
   ]
  },
  {
   "cell_type": "code",
   "execution_count": 17,
   "id": "36cf319b",
   "metadata": {},
   "outputs": [
    {
     "name": "stdout",
     "output_type": "stream",
     "text": [
      "-2 -2\n",
      "-2 -4\n",
      "-2 -6\n",
      "3 -3\n",
      "6 0\n",
      "3\n"
     ]
    }
   ],
   "source": [
    "# There are n gas stations along a circular tour,\n",
    "# where the amount of gas at the ith gas station is gas[i]. \n",
    "# You have a car with a gas tank of unlimited capacity and\n",
    "# it costs cost[i] of gas to travel from the ith station to its next station.\n",
    "# You begin the journey with an empty tank at one of the gas station.\n",
    "# Given two integer arrays gas[] and cost[], the task is to return the\n",
    "# starting gas station's index if you want to travel around the circular\n",
    "# tour once in the clockwise direction, otherwise return -1.\n",
    "\n",
    "# Note: If a solution exists, it is guaranteed to be unique.\n",
    "\n",
    "# 6. First circular tour that visits all petrol pumps\n",
    "\n",
    "def startStation(gas, cost):\n",
    "    n = len(gas)\n",
    "    start =0\n",
    "    totalGas =0\n",
    "    currGas =0\n",
    "    \n",
    "    \n",
    "    for i in range(n):\n",
    "        currGas +=gas[i]-cost[i]\n",
    "        totalGas +=gas[i]-cost[i]\n",
    "        print(currGas, totalGas, end='')\n",
    "        # print(totalGas)\n",
    "\n",
    "        if currGas <0:\n",
    "            currGas =0\n",
    "            start=i+1\n",
    "        print()\n",
    "\n",
    "    # if totalgas is <0 then solution doesnot exists anyway\n",
    "    if totalGas <0:\n",
    "        return -1\n",
    "    \n",
    "    return start\n",
    "\n",
    "\n",
    "if __name__ == \"__main__\":\n",
    "    gas = [1, 2, 3, 4, 5]\n",
    "    cost = [3, 4, 5, 1, 2]\n",
    "    print(startStation(gas, cost))"
   ]
  },
  {
   "cell_type": "code",
   "execution_count": null,
   "id": "34d46149",
   "metadata": {},
   "outputs": [],
   "source": [
    " QUEUE\n",
    " 1. Level order traversal\n",
    " 2. Spiral level order traversal\n",
    "\n",
    "# 4. Applications of queue\n",
    " \n",
    "\n",
    " 7. Iterative height of binary tree"
   ]
  }
 ],
 "metadata": {
  "kernelspec": {
   "display_name": ".venv",
   "language": "python",
   "name": "python3"
  },
  "language_info": {
   "codemirror_mode": {
    "name": "ipython",
    "version": 3
   },
   "file_extension": ".py",
   "mimetype": "text/x-python",
   "name": "python",
   "nbconvert_exporter": "python",
   "pygments_lexer": "ipython3",
   "version": "3.12.0"
  }
 },
 "nbformat": 4,
 "nbformat_minor": 5
}
