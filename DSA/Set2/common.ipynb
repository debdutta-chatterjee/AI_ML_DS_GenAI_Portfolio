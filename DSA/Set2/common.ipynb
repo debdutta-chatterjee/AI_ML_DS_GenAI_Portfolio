{
 "cells": [
  {
   "cell_type": "markdown",
   "id": "00aea6fd",
   "metadata": {},
   "source": [
    "#9 Aug\n",
    "1 https://neetcode.io/problems/max-water-container?list=neetcode250\n",
    "2 # https://neetcode.io/problems/boats-to-save-people?list=neetcode250\n",
    "3# https://neetcode.io/problems/merge-sorted-array?list=neetcode250 ->Revise\n",
    "4 https://neetcode.io/problems/linked-list-cycle-detection?list=neetcode250 ->Revise\n"
   ]
  },
  {
   "cell_type": "code",
   "execution_count": 16,
   "id": "5960bf8c",
   "metadata": {},
   "outputs": [
    {
     "ename": "AttributeError",
     "evalue": "'list' object has no attribute 'next'",
     "output_type": "error",
     "traceback": [
      "\u001b[31m---------------------------------------------------------------------------\u001b[39m",
      "\u001b[31mAttributeError\u001b[39m                            Traceback (most recent call last)",
      "\u001b[36mCell\u001b[39m\u001b[36m \u001b[39m\u001b[32mIn[16]\u001b[39m\u001b[32m, line 21\u001b[39m\n\u001b[32m     18\u001b[39m         \u001b[38;5;28;01mreturn\u001b[39;00m \u001b[38;5;28;01mFalse\u001b[39;00m\n\u001b[32m     20\u001b[39m s =Solution()\n\u001b[32m---> \u001b[39m\u001b[32m21\u001b[39m \u001b[43ms\u001b[49m\u001b[43m.\u001b[49m\u001b[43mhasCycle\u001b[49m\u001b[43m(\u001b[49m\u001b[43m[\u001b[49m\u001b[32;43m1\u001b[39;49m\u001b[43m,\u001b[49m\u001b[32;43m2\u001b[39;49m\u001b[43m]\u001b[49m\u001b[43m)\u001b[49m\n",
      "\u001b[36mCell\u001b[39m\u001b[36m \u001b[39m\u001b[32mIn[16]\u001b[39m\u001b[32m, line 13\u001b[39m, in \u001b[36mSolution.hasCycle\u001b[39m\u001b[34m(self, head)\u001b[39m\n\u001b[32m     10\u001b[39m \u001b[38;5;28;01mdef\u001b[39;00m\u001b[38;5;250m \u001b[39m\u001b[34mhasCycle\u001b[39m(\u001b[38;5;28mself\u001b[39m, head: Optional[ListNode]) -> \u001b[38;5;28mbool\u001b[39m:\n\u001b[32m     11\u001b[39m     s = f = head\n\u001b[32m---> \u001b[39m\u001b[32m13\u001b[39m     \u001b[38;5;28;01mwhile\u001b[39;00m f \u001b[38;5;129;01mand\u001b[39;00m \u001b[43mf\u001b[49m\u001b[43m.\u001b[49m\u001b[43mnext\u001b[49m:\n\u001b[32m     14\u001b[39m         s = s.next\n\u001b[32m     15\u001b[39m         f = f.next.next\n",
      "\u001b[31mAttributeError\u001b[39m: 'list' object has no attribute 'next'"
     ]
    }
   ],
   "source": [
    "from typing import Optional\n",
    "\n",
    "\n",
    "class ListNode:\n",
    "    def __init__(self, val=0, next=None):\n",
    "        self.val = val\n",
    "        self.next = next\n",
    "\n",
    "class Solution:\n",
    "    def hasCycle(self, head: Optional[ListNode]) -> bool:\n",
    "        s = f = head\n",
    "\n",
    "        while f and f.next:\n",
    "            s = s.next\n",
    "            f = f.next.next\n",
    "            if s==f:\n",
    "                return True\n",
    "        return False\n",
    "    \n",
    "s =Solution()\n",
    "s.hasCycle([1,2])"
   ]
  },
  {
   "cell_type": "code",
   "execution_count": 3,
   "id": "5521cd1b",
   "metadata": {},
   "outputs": [
    {
     "data": {
      "text/plain": [
       "36"
      ]
     },
     "execution_count": 3,
     "metadata": {},
     "output_type": "execute_result"
    }
   ],
   "source": [
    "# https://neetcode.io/problems/max-water-container?list=neetcode250\n",
    "from typing import List\n",
    "def maxArea(heights: List[int]) -> int:\n",
    "    i,j = 0, len(heights)-1\n",
    "    max_area = 0\n",
    "    while i <j:\n",
    "        distance = j-i\n",
    "        h = min(heights[i],heights[j])\n",
    "        area = distance * h\n",
    "\n",
    "        max_area = max(max_area,area)\n",
    "\n",
    "        if heights[i] > heights[j]:\n",
    "            j-=1\n",
    "        else:\n",
    "            i+=1\n",
    "    return max_area\n",
    "\n",
    "maxArea([1,7,2,5,4,7,3,6])"
   ]
  },
  {
   "cell_type": "code",
   "execution_count": 10,
   "id": "be9d7cfb",
   "metadata": {},
   "outputs": [
    {
     "data": {
      "text/plain": [
       "2"
      ]
     },
     "execution_count": 10,
     "metadata": {},
     "output_type": "execute_result"
    }
   ],
   "source": [
    "# https://neetcode.io/problems/boats-to-save-people?list=neetcode250\n",
    "\n",
    "def numRescueBoats(people: List[int], limit: int) -> int:\n",
    "    people.sort()\n",
    "\n",
    "    i,j = 0, len(people)-1\n",
    "    boat_count =0\n",
    "    while i<=j:\n",
    "        if people[i] + people[j] <=limit:\n",
    "            i+=1\n",
    "        boat_count+=1\n",
    "        j-=1\n",
    "    return boat_count\n",
    "\n",
    "numRescueBoats([5,1,4,2],6)\n",
    "\n"
   ]
  },
  {
   "cell_type": "code",
   "execution_count": null,
   "id": "023ab8df",
   "metadata": {},
   "outputs": [],
   "source": [
    "# https://neetcode.io/problems/merge-sorted-array?list=neetcode250\n",
    "\n",
    "def merge(nums1: List[int], m: int, nums2: List[int], n: int) -> None:\n",
    "    p1 = m-1\n",
    "    p2 = n-1\n",
    "    p = m+n-1\n",
    "\n",
    "    while p1>=0 and p2>=0:\n",
    "        if nums1[p1] > nums2[p2]:\n",
    "            nums1[p] = nums1[p1]\n",
    "            p1 -= 1\n",
    "        else:\n",
    "            nums1[p] = nums2[p2]\n",
    "            p2-=1\n",
    "        p-=1\n",
    "    \n",
    "    while p2>=0:\n",
    "        nums1[p] = nums2[p2]\n",
    "        p2-=1\n",
    "        p-=1\n",
    "    \n",
    "\n"
   ]
  },
  {
   "cell_type": "code",
   "execution_count": null,
   "id": "da8cada9",
   "metadata": {},
   "outputs": [],
   "source": [
    "#https://neetcode.io/problems/three-integer-sum?list=neetcode250\n",
    "\n",
    "from typing import List\n",
    "def threeSum(nums: List[int]) -> List[List[int]]:\n",
    "    nums.sort()\n",
    "    n = len(nums)\n",
    "    result = []\n",
    "\n",
    "    for i in range(n):\n",
    "        # Skip duplicate values for i\n",
    "        if i > 0 and nums[i] == nums[i - 1]:\n",
    "            continue\n",
    "\n",
    "    target = -nums[i]\n",
    "    left, right = i + 1, n - 1\n",
    "\n",
    "    while left < right:\n",
    "            sum_lr = nums[left] + nums[right]\n",
    "            if sum_lr == target:\n",
    "                result.append([nums[i], nums[left], nums[right]])\n",
    "            # Skip duplicates for left and right\n",
    "                while left < right and nums[left] == nums[left + 1]:\n",
    "                    left += 1\n",
    "                while left < right and nums[right] == nums[right - 1]:\n",
    "                    right -= 1\n",
    "                left += 1\n",
    "                right -= 1\n",
    "            elif sum_lr < target:\n",
    "                left += 1\n",
    "            else:\n",
    "                right -= 1\n",
    "\n",
    "    return result\n"
   ]
  }
 ],
 "metadata": {
  "kernelspec": {
   "display_name": ".venv",
   "language": "python",
   "name": "python3"
  },
  "language_info": {
   "codemirror_mode": {
    "name": "ipython",
    "version": 3
   },
   "file_extension": ".py",
   "mimetype": "text/x-python",
   "name": "python",
   "nbconvert_exporter": "python",
   "pygments_lexer": "ipython3",
   "version": "3.12.0"
  }
 },
 "nbformat": 4,
 "nbformat_minor": 5
}
