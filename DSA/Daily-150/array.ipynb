{
 "cells": [
  {
   "cell_type": "code",
   "execution_count": 1,
   "id": "1c98da19",
   "metadata": {},
   "outputs": [
    {
     "data": {
      "text/plain": [
       "24"
      ]
     },
     "execution_count": 1,
     "metadata": {},
     "output_type": "execute_result"
    }
   ],
   "source": [
    "# https://neetcode.io/problems/score-of-a-string?list=neetcode250\n",
    "\n",
    "def scoreOfString(s: str) -> int:\n",
    "    sum_val =0\n",
    "    for i in range(len(s)-1):\n",
    "        sum_val+= abs(ord(s[i+1])-ord(s[i]))\n",
    "\n",
    "    return sum_val\n",
    "\n",
    "scoreOfString('code')"
   ]
  },
  {
   "cell_type": "code",
   "execution_count": 2,
   "id": "2ce2c9d5",
   "metadata": {},
   "outputs": [
    {
     "data": {
      "text/plain": [
       "[5, 5, 3, 2, 2, -1]"
      ]
     },
     "execution_count": 2,
     "metadata": {},
     "output_type": "execute_result"
    }
   ],
   "source": [
    "# https://neetcode.io/problems/replace-elements-with-greatest-element-on-right-side?list=neetcode250\n",
    "from typing import List\n",
    "def replaceElements(arr: List[int]) -> List[int]:\n",
    "    largest = -1\n",
    "    for i in range(len(arr)-1,-1,-1):\n",
    "        curr = arr[i]\n",
    "        arr[i] = largest\n",
    "        largest = max(largest,curr)\n",
    "    return arr\n",
    "replaceElements([2,4,5,3,1,2])"
   ]
  },
  {
   "cell_type": "code",
   "execution_count": null,
   "id": "6c812a10",
   "metadata": {},
   "outputs": [
    {
     "name": "stdout",
     "output_type": "stream",
     "text": [
      "4 4\n"
     ]
    },
    {
     "data": {
      "text/plain": [
       "True"
      ]
     },
     "execution_count": 11,
     "metadata": {},
     "output_type": "execute_result"
    }
   ],
   "source": [
    "#https://neetcode.io/problems/is-subsequence?list=neetcode250\n",
    "\n",
    "def isSubsequence(s: str, t: str) -> bool:\n",
    "    if len(s) > len(t):\n",
    "        return False\n",
    "    \n",
    "    j = 0\n",
    "    for i in range(len(t)):\n",
    "        if  j == len(s):\n",
    "            break\n",
    "        if s[j] != t[i]:\n",
    "            continue\n",
    "        j+=1\n",
    "    return j == len(s)\n",
    "\n",
    "\n",
    "isSubsequence(\"node\",\"neetcode\")"
   ]
  },
  {
   "cell_type": "code",
   "execution_count": 12,
   "id": "89e9ca23",
   "metadata": {},
   "outputs": [
    {
     "data": {
      "text/plain": [
       "4"
      ]
     },
     "execution_count": 12,
     "metadata": {},
     "output_type": "execute_result"
    }
   ],
   "source": [
    "# https://leetcode.com/problems/append-characters-to-string-to-make-subsequence/description/\n",
    "\n",
    "def appendCharacters(s, t):\n",
    "    j=0\n",
    "\n",
    "    for i in range(len(s)):\n",
    "        if j == len(t):\n",
    "            break\n",
    "        if s[i] != t[j]:\n",
    "            continue\n",
    "        j+=1\n",
    "\n",
    "    return len(t)-j\n",
    "\n",
    "appendCharacters(\"coaching\",\"coding\")\n",
    "\n",
    "        \n",
    "\n"
   ]
  },
  {
   "cell_type": "code",
   "execution_count": 16,
   "id": "2a9df015",
   "metadata": {},
   "outputs": [
    {
     "data": {
      "text/plain": [
       "4"
      ]
     },
     "execution_count": 16,
     "metadata": {},
     "output_type": "execute_result"
    }
   ],
   "source": [
    "# https://leetcode.com/problems/length-of-last-word/description/\n",
    "\n",
    "def lengthOfLastWord(s):\n",
    "    return len(s.strip().split(' ')[-1])\n",
    "\n",
    "lengthOfLastWord(\"   fly me   to   the moon  \")"
   ]
  },
  {
   "cell_type": "code",
   "execution_count": 21,
   "id": "3086021c",
   "metadata": {},
   "outputs": [
    {
     "data": {
      "text/plain": [
       "2"
      ]
     },
     "execution_count": 21,
     "metadata": {},
     "output_type": "execute_result"
    }
   ],
   "source": [
    "# https://leetcode.com/problems/number-of-senior-citizens/description/\n",
    "\n",
    "def countSeniors(details):\n",
    "    total =0\n",
    "    for d in details:\n",
    "        if int(d[11:13]) > 60:\n",
    "            total+=1\n",
    "    return total\n",
    "\n",
    "countSeniors([\"7868190130M7522\",\"5303914400F9211\",\"9273338290F4010\"])"
   ]
  },
  {
   "cell_type": "code",
   "execution_count": 25,
   "id": "1016b309",
   "metadata": {},
   "outputs": [
    {
     "data": {
      "text/plain": [
       "3"
      ]
     },
     "execution_count": 25,
     "metadata": {},
     "output_type": "execute_result"
    }
   ],
   "source": [
    "# https://neetcode.io/problems/max-consecutive-ones?list=neetcode250\n",
    "def findMaxConsecutiveOnes(nums: List[int]) -> int:\n",
    "    i =0\n",
    "    max_count = 0\n",
    "    count = 0\n",
    "\n",
    "    while i < len(nums):\n",
    "        if nums[i] ==1:\n",
    "            break\n",
    "        i+=1\n",
    "    while i < len(nums):\n",
    "        if nums[i] ==1:\n",
    "            count+=1\n",
    "        else:\n",
    "            max_count = max(max_count, count)\n",
    "            count = 0\n",
    "        i+=1\n",
    "    return max(max_count, count)\n",
    "\n",
    "\n",
    "findMaxConsecutiveOnes([1,1,0,1,1,1])"
   ]
  },
  {
   "cell_type": "code",
   "execution_count": 30,
   "id": "f9ed0ee6",
   "metadata": {},
   "outputs": [
    {
     "data": {
      "text/plain": [
       "['as', 'hero']"
      ]
     },
     "execution_count": 30,
     "metadata": {},
     "output_type": "execute_result"
    }
   ],
   "source": [
    "# https://leetcode.com/problems/string-matching-in-an-array/description/\n",
    "import re\n",
    "def stringMatching(words):\n",
    "    cumm =''\n",
    "    lst =[]\n",
    "\n",
    "    for w in words:\n",
    "        cumm+=w+' '\n",
    "\n",
    "    for w in words:\n",
    "        pattern = re.escape(w)\n",
    "        if len(re.findall(pattern,cumm)) > 1:\n",
    "            lst.append(w)\n",
    "    \n",
    "    return lst\n",
    "\n",
    "stringMatching([\"mass\",\"as\",\"hero\",\"superhero\"])\n"
   ]
  },
  {
   "cell_type": "code",
   "execution_count": 38,
   "id": "f31d5e5b",
   "metadata": {},
   "outputs": [
    {
     "data": {
      "text/plain": [
       "2"
      ]
     },
     "execution_count": 38,
     "metadata": {},
     "output_type": "execute_result"
    }
   ],
   "source": [
    "# https://leetcode.com/problems/unique-email-addresses/description/\n",
    "\n",
    "def numUniqueEmails(emails):\n",
    "    unique =set()\n",
    "    for m in emails:\n",
    "        domain = m.split('@')[1]\n",
    "        nm = m.split('@')[0]\n",
    "        nm = nm.replace('.', '')\n",
    "        nm = nm.split('+')[0]\n",
    "\n",
    "        unique.add(nm+'@'+domain)\n",
    "    return len(unique)\n",
    "\n",
    "\n",
    "numUniqueEmails([\"test.email+alex@leetcode.com\",\"test.email.leet+alex@code.com\"])"
   ]
  },
  {
   "cell_type": "code",
   "execution_count": 48,
   "id": "85ebcca8",
   "metadata": {},
   "outputs": [
    {
     "data": {
      "text/plain": [
       "False"
      ]
     },
     "execution_count": 48,
     "metadata": {},
     "output_type": "execute_result"
    }
   ],
   "source": [
    "# https://leetcode.com/problems/isomorphic-strings/description/\n",
    "\n",
    "def isIsomorphic(s, t):\n",
    "    if len(s) != len(t):\n",
    "        return False\n",
    "    \n",
    "    zipped_set = set(zip(s,t))\n",
    "\n",
    "    return len(zipped_set) == len(set(s)) == len(set(t))\n",
    "\n",
    "\n",
    "isIsomorphic(\"badc\", \"baba\")"
   ]
  },
  {
   "cell_type": "code",
   "execution_count": 64,
   "id": "4d67ffde",
   "metadata": {},
   "outputs": [
    {
     "name": "stdout",
     "output_type": "stream",
     "text": [
      "True\n"
     ]
    }
   ],
   "source": [
    "# https://leetcode.com/problems/can-place-flowers/description/\n",
    "\n",
    "def canPlaceFlowers(flowerbed, n):\n",
    "    for i in range(len(flowerbed)):\n",
    "        if n ==0:\n",
    "            return True\n",
    "        if flowerbed[i] == 0:\n",
    "            empty_left = i==0 or flowerbed[i-1]==0\n",
    "            empty_right = i==len(flowerbed)-1 or flowerbed[i+1]==0\n",
    "            if empty_left and empty_right:\n",
    "                n-=1\n",
    "                flowerbed[i] = 1\n",
    "                if n ==0:\n",
    "                    return True\n",
    "    return n == 0\n",
    "\n",
    "# print(canPlaceFlowers([1,0,0,0,1],1))\n",
    "# print(canPlaceFlowers([1,0,0,0,1],2))\n",
    "# print(canPlaceFlowers([1,0,0,0,0,1],2))\n",
    "print(canPlaceFlowers([1,0,0,0,0,1],0))\n"
   ]
  },
  {
   "cell_type": "code",
   "execution_count": null,
   "id": "7fd14937",
   "metadata": {},
   "outputs": [],
   "source": [
    "# https://leetcode.com/problems/find-all-duplicates-in-an-array/description/\n",
    "\n",
    "def findDuplicates(nums):\n",
    "    res = []\n",
    "    for n in nums:\n",
    "        index = abs(n)-1\n",
    "        if nums[index]<0:\n",
    "            res.append(index+1)\n",
    "        else:\n",
    "            nums[index]*=-1\n",
    "    return res"
   ]
  }
 ],
 "metadata": {
  "kernelspec": {
   "display_name": ".venv",
   "language": "python",
   "name": "python3"
  },
  "language_info": {
   "codemirror_mode": {
    "name": "ipython",
    "version": 3
   },
   "file_extension": ".py",
   "mimetype": "text/x-python",
   "name": "python",
   "nbconvert_exporter": "python",
   "pygments_lexer": "ipython3",
   "version": "3.12.0"
  }
 },
 "nbformat": 4,
 "nbformat_minor": 5
}
