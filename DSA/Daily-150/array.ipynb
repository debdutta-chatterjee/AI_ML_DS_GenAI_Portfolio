{
 "cells": [
  {
   "cell_type": "code",
   "execution_count": 17,
   "id": "1c98da19",
   "metadata": {},
   "outputs": [
    {
     "data": {
      "text/plain": [
       "24"
      ]
     },
     "execution_count": 17,
     "metadata": {},
     "output_type": "execute_result"
    }
   ],
   "source": [
    "# https://neetcode.io/problems/score-of-a-string?list=neetcode250\n",
    "\n",
    "def scoreOfString(s: str) -> int:\n",
    "    sum_val =0\n",
    "    for i in range(len(s)-1):\n",
    "        sum_val+= abs(ord(s[i+1])-ord(s[i]))\n",
    "\n",
    "    return sum_val\n",
    "\n",
    "scoreOfString('code')"
   ]
  },
  {
   "cell_type": "code",
   "execution_count": 18,
   "id": "2ce2c9d5",
   "metadata": {},
   "outputs": [
    {
     "data": {
      "text/plain": [
       "[5, 5, 3, 2, 2, -1]"
      ]
     },
     "execution_count": 18,
     "metadata": {},
     "output_type": "execute_result"
    }
   ],
   "source": [
    "# https://neetcode.io/problems/replace-elements-with-greatest-element-on-right-side?list=neetcode250\n",
    "from typing import List\n",
    "def replaceElements(arr: List[int]) -> List[int]:\n",
    "    largest = -1\n",
    "    for i in range(len(arr)-1,-1,-1):\n",
    "        curr = arr[i]\n",
    "        arr[i] = largest\n",
    "        largest = max(largest,curr)\n",
    "    return arr\n",
    "replaceElements([2,4,5,3,1,2])"
   ]
  },
  {
   "cell_type": "code",
   "execution_count": 19,
   "id": "6c812a10",
   "metadata": {},
   "outputs": [
    {
     "data": {
      "text/plain": [
       "True"
      ]
     },
     "execution_count": 19,
     "metadata": {},
     "output_type": "execute_result"
    }
   ],
   "source": [
    "#https://neetcode.io/problems/is-subsequence?list=neetcode250\n",
    "\n",
    "def isSubsequence(s: str, t: str) -> bool:\n",
    "    if len(s) > len(t):\n",
    "        return False\n",
    "    \n",
    "    j = 0\n",
    "    for i in range(len(t)):\n",
    "        if  j == len(s):\n",
    "            break\n",
    "        if s[j] != t[i]:\n",
    "            continue\n",
    "        j+=1\n",
    "    return j == len(s)\n",
    "\n",
    "\n",
    "isSubsequence(\"node\",\"neetcode\")"
   ]
  },
  {
   "cell_type": "code",
   "execution_count": 20,
   "id": "89e9ca23",
   "metadata": {},
   "outputs": [
    {
     "data": {
      "text/plain": [
       "4"
      ]
     },
     "execution_count": 20,
     "metadata": {},
     "output_type": "execute_result"
    }
   ],
   "source": [
    "# https://leetcode.com/problems/append-characters-to-string-to-make-subsequence/description/\n",
    "\n",
    "def appendCharacters(s, t):\n",
    "    j=0\n",
    "\n",
    "    for i in range(len(s)):\n",
    "        if j == len(t):\n",
    "            break\n",
    "        if s[i] != t[j]:\n",
    "            continue\n",
    "        j+=1\n",
    "\n",
    "    return len(t)-j\n",
    "\n",
    "appendCharacters(\"coaching\",\"coding\")\n",
    "\n",
    "        \n",
    "\n"
   ]
  },
  {
   "cell_type": "code",
   "execution_count": 21,
   "id": "2a9df015",
   "metadata": {},
   "outputs": [
    {
     "data": {
      "text/plain": [
       "4"
      ]
     },
     "execution_count": 21,
     "metadata": {},
     "output_type": "execute_result"
    }
   ],
   "source": [
    "# https://leetcode.com/problems/length-of-last-word/description/\n",
    "\n",
    "def lengthOfLastWord(s):\n",
    "    return len(s.strip().split(' ')[-1])\n",
    "\n",
    "lengthOfLastWord(\"   fly me   to   the moon  \")"
   ]
  },
  {
   "cell_type": "code",
   "execution_count": 22,
   "id": "3086021c",
   "metadata": {},
   "outputs": [
    {
     "data": {
      "text/plain": [
       "2"
      ]
     },
     "execution_count": 22,
     "metadata": {},
     "output_type": "execute_result"
    }
   ],
   "source": [
    "# https://leetcode.com/problems/number-of-senior-citizens/description/\n",
    "\n",
    "def countSeniors(details):\n",
    "    total =0\n",
    "    for d in details:\n",
    "        if int(d[11:13]) > 60:\n",
    "            total+=1\n",
    "    return total\n",
    "\n",
    "countSeniors([\"7868190130M7522\",\"5303914400F9211\",\"9273338290F4010\"])"
   ]
  },
  {
   "cell_type": "code",
   "execution_count": 23,
   "id": "1016b309",
   "metadata": {},
   "outputs": [
    {
     "data": {
      "text/plain": [
       "3"
      ]
     },
     "execution_count": 23,
     "metadata": {},
     "output_type": "execute_result"
    }
   ],
   "source": [
    "# https://neetcode.io/problems/max-consecutive-ones?list=neetcode250\n",
    "def findMaxConsecutiveOnes(nums: List[int]) -> int:\n",
    "    i =0\n",
    "    max_count = 0\n",
    "    count = 0\n",
    "\n",
    "    while i < len(nums):\n",
    "        if nums[i] ==1:\n",
    "            break\n",
    "        i+=1\n",
    "    while i < len(nums):\n",
    "        if nums[i] ==1:\n",
    "            count+=1\n",
    "        else:\n",
    "            max_count = max(max_count, count)\n",
    "            count = 0\n",
    "        i+=1\n",
    "    return max(max_count, count)\n",
    "\n",
    "\n",
    "findMaxConsecutiveOnes([1,1,0,1,1,1])"
   ]
  },
  {
   "cell_type": "code",
   "execution_count": 24,
   "id": "f9ed0ee6",
   "metadata": {},
   "outputs": [
    {
     "data": {
      "text/plain": [
       "['as', 'hero']"
      ]
     },
     "execution_count": 24,
     "metadata": {},
     "output_type": "execute_result"
    }
   ],
   "source": [
    "# https://leetcode.com/problems/string-matching-in-an-array/description/\n",
    "import re\n",
    "def stringMatching(words):\n",
    "    cumm =''\n",
    "    lst =[]\n",
    "\n",
    "    for w in words:\n",
    "        cumm+=w+' '\n",
    "\n",
    "    for w in words:\n",
    "        pattern = re.escape(w)\n",
    "        if len(re.findall(pattern,cumm)) > 1:\n",
    "            lst.append(w)\n",
    "    \n",
    "    return lst\n",
    "\n",
    "stringMatching([\"mass\",\"as\",\"hero\",\"superhero\"])\n"
   ]
  },
  {
   "cell_type": "code",
   "execution_count": 25,
   "id": "f31d5e5b",
   "metadata": {},
   "outputs": [
    {
     "data": {
      "text/plain": [
       "2"
      ]
     },
     "execution_count": 25,
     "metadata": {},
     "output_type": "execute_result"
    }
   ],
   "source": [
    "# https://leetcode.com/problems/unique-email-addresses/description/\n",
    "\n",
    "def numUniqueEmails(emails):\n",
    "    unique =set()\n",
    "    for m in emails:\n",
    "        domain = m.split('@')[1]\n",
    "        nm = m.split('@')[0]\n",
    "        nm = nm.replace('.', '')\n",
    "        nm = nm.split('+')[0]\n",
    "\n",
    "        unique.add(nm+'@'+domain)\n",
    "    return len(unique)\n",
    "\n",
    "\n",
    "numUniqueEmails([\"test.email+alex@leetcode.com\",\"test.email.leet+alex@code.com\"])"
   ]
  },
  {
   "cell_type": "code",
   "execution_count": 26,
   "id": "85ebcca8",
   "metadata": {},
   "outputs": [
    {
     "data": {
      "text/plain": [
       "False"
      ]
     },
     "execution_count": 26,
     "metadata": {},
     "output_type": "execute_result"
    }
   ],
   "source": [
    "# https://leetcode.com/problems/isomorphic-strings/description/\n",
    "\n",
    "def isIsomorphic(s, t):\n",
    "    if len(s) != len(t):\n",
    "        return False\n",
    "    \n",
    "    zipped_set = set(zip(s,t))\n",
    "\n",
    "    return len(zipped_set) == len(set(s)) == len(set(t))\n",
    "\n",
    "\n",
    "isIsomorphic(\"badc\", \"baba\")"
   ]
  },
  {
   "cell_type": "code",
   "execution_count": 27,
   "id": "4d67ffde",
   "metadata": {},
   "outputs": [
    {
     "name": "stdout",
     "output_type": "stream",
     "text": [
      "True\n"
     ]
    }
   ],
   "source": [
    "# https://leetcode.com/problems/can-place-flowers/description/\n",
    "\n",
    "def canPlaceFlowers(flowerbed, n):\n",
    "    for i in range(len(flowerbed)):\n",
    "        if n ==0:\n",
    "            return True\n",
    "        if flowerbed[i] == 0:\n",
    "            empty_left = i==0 or flowerbed[i-1]==0\n",
    "            empty_right = i==len(flowerbed)-1 or flowerbed[i+1]==0\n",
    "            if empty_left and empty_right:\n",
    "                n-=1\n",
    "                flowerbed[i] = 1\n",
    "                if n ==0:\n",
    "                    return True\n",
    "    return n == 0\n",
    "\n",
    "# print(canPlaceFlowers([1,0,0,0,1],1))\n",
    "# print(canPlaceFlowers([1,0,0,0,1],2))\n",
    "# print(canPlaceFlowers([1,0,0,0,0,1],2))\n",
    "print(canPlaceFlowers([1,0,0,0,0,1],0))\n"
   ]
  },
  {
   "cell_type": "code",
   "execution_count": 28,
   "id": "7fd14937",
   "metadata": {},
   "outputs": [],
   "source": [
    "# https://leetcode.com/problems/find-all-duplicates-in-an-array/description/\n",
    "\n",
    "def findDuplicates(nums):\n",
    "    res = []\n",
    "    for n in nums:\n",
    "        index = abs(n)-1\n",
    "        if nums[index]<0:\n",
    "            res.append(index+1)\n",
    "        else:\n",
    "            nums[index]*=-1\n",
    "    return res"
   ]
  },
  {
   "cell_type": "code",
   "execution_count": 29,
   "id": "6a400a31",
   "metadata": {},
   "outputs": [
    {
     "name": "stdout",
     "output_type": "stream",
     "text": [
      "[2, 3, 0]\n",
      "[3, 2, 1]\n"
     ]
    }
   ],
   "source": [
    "# https://leetcode.com/problems/count-vowel-strings-in-ranges/description/\n",
    "\n",
    "def vowelStrings___(words, queries):\n",
    "    vowel='aeiou'\n",
    "    lst = []\n",
    "    output = []\n",
    "    for i,w in enumerate(words):\n",
    "        if w[0] in vowel and w[-1] in vowel:\n",
    "            lst.append(1)\n",
    "        else:\n",
    "            lst.append(0)\n",
    "    for q in queries:\n",
    "        sub_arr = lst[q[0]:q[1]+1]\n",
    "        output.append(sum(sub_arr))\n",
    "    return output\n",
    "\n",
    "def vowelStrings(words, queries):\n",
    "    vowel='aeiou'\n",
    "    lst = []\n",
    "    output = []\n",
    "    for i,w in enumerate(words):\n",
    "        if w[0] in vowel and w[-1] in vowel:\n",
    "            lst.append(1)\n",
    "        else:\n",
    "            lst.append(0)\n",
    "    prefix=[0]\n",
    "\n",
    "    for val in lst:\n",
    "       prefix.append(prefix[-1]+val) \n",
    "    output=[]\n",
    "    for s,e in queries:\n",
    "        output.append(prefix[e+1]-prefix[s])\n",
    "    return output\n",
    "\n",
    "print(vowelStrings([\"aba\",\"bcb\",\"ece\",\"aa\",\"e\"], [[0,2],[1,4],[1,1]]))\n",
    "print(vowelStrings([\"a\",\"e\",\"i\"],[[0,2],[0,1],[2,2]]))"
   ]
  },
  {
   "cell_type": "code",
   "execution_count": 30,
   "id": "b193fa17",
   "metadata": {},
   "outputs": [
    {
     "name": "stdout",
     "output_type": "stream",
     "text": [
      "5.0\n",
      "3.25\n"
     ]
    }
   ],
   "source": [
    "# https://leetcode.com/problems/average-waiting-time/description/\n",
    "\n",
    "def averageWaitingTime(customers):\n",
    "    total_wait =0\n",
    "    curr_time =0\n",
    "\n",
    "    for a,t in customers:\n",
    "        start_time = max(a,curr_time)\n",
    "        finish_time = start_time+t\n",
    "\n",
    "        wait_time = finish_time -a\n",
    "        total_wait +=wait_time\n",
    "\n",
    "        curr_time = finish_time\n",
    "\n",
    "    return total_wait/len(customers)\n",
    "\n",
    "print(averageWaitingTime([[1,2],[2,5],[4,3]]))\n",
    "print(averageWaitingTime([[5,2],[5,4],[10,3],[20,1]]))\n",
    "\n"
   ]
  },
  {
   "cell_type": "code",
   "execution_count": 31,
   "id": "6f2c5efd",
   "metadata": {},
   "outputs": [
    {
     "ename": "TypeError",
     "evalue": "quicksort() missing 2 required positional arguments: 'l' and 'h'",
     "output_type": "error",
     "traceback": [
      "\u001b[31m---------------------------------------------------------------------------\u001b[39m",
      "\u001b[31mTypeError\u001b[39m                                 Traceback (most recent call last)",
      "\u001b[36mCell\u001b[39m\u001b[36m \u001b[39m\u001b[32mIn[31]\u001b[39m\u001b[32m, line 42\u001b[39m\n\u001b[32m     38\u001b[39m     quicksort(arr,p+\u001b[32m1\u001b[39m,h)\n\u001b[32m     41\u001b[39m arr = [\u001b[32m9\u001b[39m, \u001b[32m3\u001b[39m, \u001b[32m7\u001b[39m, \u001b[32m5\u001b[39m, \u001b[32m6\u001b[39m, \u001b[32m2\u001b[39m, \u001b[32m8\u001b[39m]\n\u001b[32m---> \u001b[39m\u001b[32m42\u001b[39m sorted_arr = \u001b[43mquicksort\u001b[49m\u001b[43m(\u001b[49m\u001b[43marr\u001b[49m\u001b[43m)\u001b[49m\n\u001b[32m     43\u001b[39m \u001b[38;5;28mprint\u001b[39m(\u001b[33m\"\u001b[39m\u001b[33mSorted array:\u001b[39m\u001b[33m\"\u001b[39m, sorted_arr)\n",
      "\u001b[31mTypeError\u001b[39m: quicksort() missing 2 required positional arguments: 'l' and 'h'"
     ]
    }
   ],
   "source": [
    "# https://neetcode.io/problems/sort-an-array?list=neetcode250\n",
    "\n",
    "def quicksort___(arr): \n",
    "    if len(arr) <=1:\n",
    "        return arr\n",
    "\n",
    "    pivot = arr[-1]\n",
    "    left = [x for x in arr[:-1] if x<=pivot]\n",
    "    right = [x for x in arr[:-1] if x>pivot]\n",
    "\n",
    "    return quicksort___(left) + [pivot] + quicksort___(right)\n",
    "\n",
    "\n",
    "def partition(arr,l,h):\n",
    "    pivot = arr[l]\n",
    "\n",
    "    i =l-1\n",
    "    j =h+1\n",
    "\n",
    "    while True:\n",
    "        i+=1\n",
    "        while arr[i] < pivot:\n",
    "            i+=1\n",
    "        \n",
    "        j-=1\n",
    "        while arr[j]>pivot:\n",
    "            j-=1\n",
    "\n",
    "        if i>=j:\n",
    "            return j\n",
    "        \n",
    "        arr[i],arr[j]=arr[j],arr[i]\n",
    "\n",
    "\n",
    "def quicksort(arr,l,h):\n",
    "    p = partition(arr,l,h)\n",
    "    quicksort(arr,l,p)\n",
    "    quicksort(arr,p+1,h)\n",
    "\n",
    "\n",
    "arr = [9, 3, 7, 5, 6, 2, 8]\n",
    "sorted_arr = quicksort(arr)\n",
    "print(\"Sorted array:\", sorted_arr)"
   ]
  },
  {
   "cell_type": "markdown",
   "id": "54102910",
   "metadata": {},
   "source": [
    "# Intuition\n",
    "A pair of indices (i, j) is a bad pair if i < j and j - i != nums[j] - nums[i].\n",
    "\n",
    "j - i != nums[j] - nums[i]\n",
    "=>nums[i] -i != nums[j]-j\n",
    "\n",
    "Let's create a key = num[i]-i for each number\n",
    "if any other key of j index matches with this key, then (i,j) are good pairs\n",
    "\n",
    "# Approach\n",
    "Count total good pairs using n*(n-1)//2\n",
    "\n",
    "Create key for each index & store in a map\n",
    "\n",
    "if  a key-value pair in the map having value =2, means 1 good pair, value =4 means 2 good pairs, and so on..\n",
    "can be calculated with formula f*(f-1)//2\n",
    "\n",
    "now substract total-good. voila! :)\n",
    "\n",
    "# Complexity\n",
    "- Time complexity:\n",
    "O(n)\n",
    "\n",
    "- Space complexity:\n",
    "O(1)\n",
    "\n",
    "# Code\n",
    "```python []\n",
    "class Solution(object):\n",
    "    def countBadPairs(self, nums):\n",
    "        \"\"\"\n",
    "        :type nums: List[int]\n",
    "        :rtype: int\n",
    "        \"\"\"\n",
    "        n = len(nums)\n",
    "        total_pairs = n*(n-1)//2\n",
    "\n",
    "        freq ={}\n",
    "        for i,num in enumerate(nums):\n",
    "            key = num-i\n",
    "            if key not in freq:\n",
    "                freq[key] = 1\n",
    "            else:\n",
    "                freq[key] +=1\n",
    "        \n",
    "        #count good pairs\n",
    "        good_pairs = 0\n",
    "        for f in freq.values():\n",
    "            good_pairs+=f*(f-1)//2\n",
    "        return total_pairs-good_pairs\n",
    "        \n",
    "```"
   ]
  },
  {
   "cell_type": "code",
   "execution_count": null,
   "id": "b8ecd34b",
   "metadata": {},
   "outputs": [],
   "source": [
    "# https://leetcode.com/problems/count-number-of-bad-pairs/description/\n",
    "\n",
    "def countBadPairs(nums):\n",
    "    n = len(nums)\n",
    "    total_pairs = n*(n-1)//2\n",
    "    print(total_pairs)\n",
    "    freq ={}\n",
    "    for i in range(n):\n",
    "        key = nums[i]-i\n",
    "        if key in freq:\n",
    "            freq[key]+=1\n",
    "        else:\n",
    "            freq[key]=1\n",
    "\n",
    "    good_pairs  = 0\n",
    "\n",
    "    for f in freq.values():\n",
    "        print(f)\n",
    "        good_pairs += f*(f-1)//2\n",
    "\n",
    "    return total_pairs-good_pairs\n",
    "\n",
    "countBadPairs([4,1,3,3])"
   ]
  },
  {
   "cell_type": "code",
   "execution_count": null,
   "id": "60363b00",
   "metadata": {},
   "outputs": [],
   "source": [
    "# https://leetcode.com/problems/contiguous-array/description/\n",
    "\n",
    "def findMaxLength(nums):\n",
    "    for i in range(len(nums)):\n",
    "        seen = {0:-1}\n",
    "        total =0\n",
    "        max_len = 0\n",
    "\n",
    "        for i,num in enumerate(nums):\n",
    "            total+=1 if num ==0 else -1\n",
    "\n",
    "            if total in seen:\n",
    "                max_len = max(max_len,i=seen[total])\n",
    "            else:\n",
    "                seen[total]=i\n",
    "        return max_len\n",
    "            "
   ]
  },
  {
   "cell_type": "code",
   "execution_count": null,
   "id": "afcc2713",
   "metadata": {},
   "outputs": [],
   "source": [
    "# https://neetcode.io/problems/minimum-remove-to-make-valid-parentheses?list=neetcode250\n",
    "\n",
    "def minRemoveToMakeValid(s: str) -> str:\n",
    "    s = list(s)\n",
    "\n",
    "    stack = []\n",
    "\n",
    "    for i,c in enumerate(s):\n",
    "        if c =='(':\n",
    "            stack.append(i)\n",
    "        elif c == ')':\n",
    "            if stack:\n",
    "                stack.pop()\n",
    "            else:\n",
    "                s[i] = ''\n",
    "\n",
    "    while stack:\n",
    "        s[stack.pop()] =''\n",
    "\n",
    "    return ''.join(s)\n"
   ]
  },
  {
   "cell_type": "code",
   "execution_count": null,
   "id": "715945f0",
   "metadata": {},
   "outputs": [
    {
     "name": "stdout",
     "output_type": "stream",
     "text": [
      "eetr\n",
      "cccaaa\n"
     ]
    }
   ],
   "source": [
    "# https://leetcode.com/problems/sort-characters-by-frequency/description/\n",
    "\n",
    "def frequencySort(s):\n",
    "    freq ={}\n",
    "\n",
    "    for c in s:\n",
    "        freq[c] = freq.get(c,0)+1\n",
    "\n",
    "    s = sorted(freq.items(),key = lambda x:x[1],reverse=True)\n",
    "\n",
    "    r = ''\n",
    "\n",
    "    for c,f in s:\n",
    "        r+=c*f\n",
    "    return r\n",
    "\n",
    "print(frequencySort('tree'))\n",
    "print(frequencySort('cccaaa'))\n"
   ]
  },
  {
   "cell_type": "code",
   "execution_count": null,
   "id": "eca62f5b",
   "metadata": {},
   "outputs": [
    {
     "data": {
      "text/plain": [
       "[123]"
      ]
     },
     "execution_count": 4,
     "metadata": {},
     "output_type": "execute_result"
    }
   ],
   "source": [
    "# https://leetcode.com/problems/sequential-digits/description/\n",
    "\n",
    "def sequentialDigits(low, high):\n",
    "    digits ='123456789'\n",
    "    res = []\n",
    "\n",
    "    for length in range(2,10):\n",
    "        for start in range(0,10-length):\n",
    "            seq = digits[start:start+length]\n",
    "            num = int(seq)\n",
    "\n",
    "            if low<=num<=high:\n",
    "                res.append(num)\n",
    "    return res\n",
    "sequentialDigits(100,200)"
   ]
  },
  {
   "cell_type": "code",
   "execution_count": null,
   "id": "d14b4826",
   "metadata": {},
   "outputs": [],
   "source": [
    "# https://leetcode.com/problems/minimum-number-of-operations-to-make-array-empty/description/\n",
    "from collections import Counter\n",
    "def minOperations(nums):\n",
    "    freq = Counter(nums)\n",
    "    op=0\n",
    "\n",
    "    for c in freq.values():\n",
    "        if c == 1:\n",
    "            return -1\n",
    "        \n",
    "        if c%3==0:\n",
    "            op+=1\n",
    "        elif c%3==1:\n",
    "            if c>=4:\n",
    "                op+=(c-4)//3+2\n",
    "            else:\n",
    "                return -1\n",
    "        elif c%3==2:\n",
    "            op+=c//3+1\n",
    "    return op\n"
   ]
  },
  {
   "cell_type": "code",
   "execution_count": null,
   "id": "165c6c5d",
   "metadata": {},
   "outputs": [
    {
     "data": {
      "text/plain": [
       "[[1, 3, 4, 2], [1, 3], [1]]"
      ]
     },
     "execution_count": 11,
     "metadata": {},
     "output_type": "execute_result"
    }
   ],
   "source": [
    "# https://leetcode.com/problems/convert-an-array-into-a-2d-array-with-conditions/description/\n",
    "\n",
    "from collections import Counter\n",
    "def findMatrix(nums):\n",
    "    f = Counter(nums)\n",
    "    res = []\n",
    "    count = len(nums)\n",
    "    pending = True\n",
    "\n",
    "    while pending:\n",
    "        row = []\n",
    "        for k,v in f.items():\n",
    "            if f[k]>0:\n",
    "                row.append(k)\n",
    "                count-=1\n",
    "                f[k] = f[k]-1\n",
    "        res.append(row)\n",
    "        if count<1:\n",
    "            pending = False\n",
    "    return res\n",
    "\n",
    "\n",
    "findMatrix([1,3,4,1,2,3,1])"
   ]
  },
  {
   "cell_type": "code",
   "execution_count": 46,
   "id": "81e6b5ab",
   "metadata": {},
   "outputs": [
    {
     "name": "stdout",
     "output_type": "stream",
     "text": [
      "[2, 5, 10]\n"
     ]
    },
    {
     "data": {
      "text/plain": [
       "[4, 3, 5]"
      ]
     },
     "execution_count": 46,
     "metadata": {},
     "output_type": "execute_result"
    }
   ],
   "source": [
    "# https://leetcode.com/problems/sum-of-absolute-differences-in-a-sorted-array/description/\n",
    "\n",
    "def getSumAbsoluteDifferences(nums):\n",
    "    n = len(nums)\n",
    "    prefix = [0] * n\n",
    "    prefix[0] = nums[0]\n",
    "\n",
    "    for i in range(1, n):\n",
    "        prefix[i] = prefix[i - 1] + nums[i]\n",
    "\n",
    "    print(prefix)\n",
    "    \n",
    "    res = [0]*n\n",
    "    for i in range(n):\n",
    "        l = nums[i]*i - (prefix[i-1] if i>0 else 0)\n",
    "        r = (prefix[n-1] - prefix[i])-nums[i]*(n-i-1)\n",
    "            \n",
    "        res[i] = l+r\n",
    "\n",
    "    return res\n",
    "\n",
    "getSumAbsoluteDifferences([2,3,5])"
   ]
  },
  {
   "cell_type": "code",
   "execution_count": 48,
   "id": "47b46de2",
   "metadata": {},
   "outputs": [
    {
     "data": {
      "text/plain": [
       "2"
      ]
     },
     "execution_count": 48,
     "metadata": {},
     "output_type": "execute_result"
    }
   ],
   "source": [
    "# https://leetcode.com/problems/minimum-penalty-for-a-shop/description/\n",
    "\n",
    "def bestClosingTime(customers):\n",
    "    min_penalty = 0\n",
    "    penalty = 0\n",
    "    earliest_hour = 0\n",
    "\n",
    "    for i,c in enumerate(customers):\n",
    "        if c == 'N':\n",
    "            penalty+=1\n",
    "        else:\n",
    "            penalty -=1\n",
    "\n",
    "        if penalty < min_penalty:\n",
    "            min_penalty = penalty\n",
    "            earliest_hour = i+1\n",
    "    \n",
    "    return earliest_hour\n",
    "\n",
    "bestClosingTime('YYNY')"
   ]
  },
  {
   "cell_type": "code",
   "execution_count": 52,
   "id": "bdb4f3ac",
   "metadata": {},
   "outputs": [
    {
     "data": {
      "text/plain": [
       "4"
      ]
     },
     "execution_count": 52,
     "metadata": {},
     "output_type": "execute_result"
    }
   ],
   "source": [
    "# https://leetcode.com/problems/optimal-partition-of-string/description/\n",
    "\n",
    "def partitionString(s):\n",
    "    count =1\n",
    "    seen = set()\n",
    "    for c in s:\n",
    "        if c in seen:            \n",
    "            count+=1\n",
    "            seen.clear()\n",
    "        \n",
    "        seen.add(c)\n",
    "    return count\n",
    "\n",
    "\n",
    "partitionString('abacaba')"
   ]
  },
  {
   "cell_type": "code",
   "execution_count": null,
   "id": "e1d2e0e6",
   "metadata": {},
   "outputs": [],
   "source": [
    "# https://leetcode.com/problems/word-subsets/description/\n",
    "def wordSubsets(self, words1, words2):\n",
    "    res = []\n",
    "    for w1 in words1:\n",
    "        flag = True\n",
    "        for w2 in words2:\n",
    "            if w2 not in w1:\n",
    "                flag = False\n",
    "                break\n",
    "        if flag:\n",
    "            res.appen(w1)\n",
    "\n",
    "\n",
    "\n",
    "wordSubsets([\"amazon\",\"apple\",\"facebook\",\"google\",\"leetcode\"],[\"e\",\"o\"])"
   ]
  },
  {
   "cell_type": "code",
   "execution_count": 53,
   "id": "8d22f71a",
   "metadata": {},
   "outputs": [
    {
     "data": {
      "text/plain": [
       "-1"
      ]
     },
     "execution_count": 53,
     "metadata": {},
     "output_type": "execute_result"
    }
   ],
   "source": [
    "# https://leetcode.com/problems/sign-of-the-product-of-an-array/description/\n",
    "\n",
    "def arraySign(nums):\n",
    "    sign =1\n",
    "    for n in nums:\n",
    "        if n ==0:\n",
    "            return 0\n",
    "        elif n<0:\n",
    "            sign*=-1\n",
    "    return sign\n",
    "\n",
    "arraySign([-1,-2,-3,-4,3,2,1])\n",
    "arraySign([1,5,0,2,-3])\n",
    "arraySign([-1,1,-1,1,-1])"
   ]
  },
  {
   "cell_type": "code",
   "execution_count": null,
   "id": "5c3e478e",
   "metadata": {},
   "outputs": [
    {
     "data": {
      "text/plain": [
       "7"
      ]
     },
     "execution_count": 63,
     "metadata": {},
     "output_type": "execute_result"
    }
   ],
   "source": [
    "# https://leetcode.com/problems/number-of-zero-filled-subarrays/description/\n",
    "\n",
    "def zeroFilledSubarray(nums):\n",
    "    count = 0\n",
    "    length = 0\n",
    "\n",
    "    for n in nums:\n",
    "        if n ==0:\n",
    "            length +=1\n",
    "            count+=length\n",
    "        else:\n",
    "            length = 0\n",
    "\n",
    "    return count\n",
    "\n",
    "zeroFilledSubarray([0,0,0,2,0,0])"
   ]
  },
  {
   "cell_type": "code",
   "execution_count": 3,
   "id": "fc37f2f5",
   "metadata": {},
   "outputs": [
    {
     "name": "stdout",
     "output_type": "stream",
     "text": [
      "2\n",
      "3\n"
     ]
    }
   ],
   "source": [
    "# https://leetcode.com/problems/brick-wall/\n",
    "\n",
    "from collections import Counter\n",
    "def leastBricks(wall):\n",
    "    edges = dict()\n",
    "    max_edges =0\n",
    "    for row in wall:\n",
    "        prefix_sum = 0\n",
    "        for i in range(len(row)-1):\n",
    "            prefix_sum+=row[i]\n",
    "            edges[prefix_sum] = edges.get(prefix_sum,0)+1\n",
    "\n",
    "    if edges:\n",
    "        max_edges = max(edges.values())\n",
    "    else:\n",
    "        max_edges = 0\n",
    "    return len(wall)-max_edges\n",
    "\n",
    "    # items = dict()\n",
    "    # def add_prefix_freq(arr):\n",
    "    #     n = len(arr)\n",
    "    #     prefix = [0]*n\n",
    "\n",
    "    #     prefix[0] = arr[0]\n",
    "    #     for i in range(1,n):\n",
    "    #        prefix[i] = prefix[i-1] + arr[i]\n",
    "\n",
    "    #     for i in range(len(prefix)):\n",
    "    #         items[prefix[i]] =items.get(prefix[i],0)+1\n",
    "    \n",
    "    # for arr in wall:\n",
    "    #     add_prefix_freq (arr)\n",
    "    \n",
    "    \n",
    "    # sorted_dict = dict(sorted(items.items(),key = lambda x: x[1]))\n",
    "\n",
    "    # return list(sorted_dict)[0]\n",
    "\n",
    "\n",
    "\n",
    "print(leastBricks([[1,2,2,1],[3,1,2],[1,3,2],[2,4],[3,1,2],[1,3,1,1]]))\n",
    "print(leastBricks([[1],[1],[1]]))\n"
   ]
  },
  {
   "cell_type": "code",
   "execution_count": 6,
   "id": "3240cd89",
   "metadata": {},
   "outputs": [
    {
     "data": {
      "text/plain": [
       "'bfgacd'"
      ]
     },
     "execution_count": 6,
     "metadata": {},
     "output_type": "execute_result"
    }
   ],
   "source": [
    "# https://neetcode.io/problems/custom-sort-string?list=neetcode250\n",
    "\n",
    "def customSortString(order: str, s: str) -> str:\n",
    "    s2 = set(s)\n",
    "    s1 = set(order)\n",
    "    res = []\n",
    "    for c in order:\n",
    "        if c in s2:\n",
    "            res.append(c)\n",
    "\n",
    "    for c in s:\n",
    "        if c not in s1:\n",
    "            res.append(c)\n",
    "\n",
    "    return ''.join(res)\n",
    "\n",
    "customSortString(\"bfg\",\"agbfcdb\")"
   ]
  }
 ],
 "metadata": {
  "kernelspec": {
   "display_name": ".venv",
   "language": "python",
   "name": "python3"
  },
  "language_info": {
   "codemirror_mode": {
    "name": "ipython",
    "version": 3
   },
   "file_extension": ".py",
   "mimetype": "text/x-python",
   "name": "python",
   "nbconvert_exporter": "python",
   "pygments_lexer": "ipython3",
   "version": "3.12.0"
  }
 },
 "nbformat": 4,
 "nbformat_minor": 5
}
