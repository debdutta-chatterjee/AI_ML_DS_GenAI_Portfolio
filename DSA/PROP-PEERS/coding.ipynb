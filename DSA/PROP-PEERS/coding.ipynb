{
 "cells": [
  {
   "cell_type": "code",
   "execution_count": 8,
   "id": "183439fa",
   "metadata": {},
   "outputs": [
    {
     "name": "stdout",
     "output_type": "stream",
     "text": [
      "aba\n"
     ]
    },
    {
     "data": {
      "text/plain": [
       "True"
      ]
     },
     "execution_count": 8,
     "metadata": {},
     "output_type": "execute_result"
    }
   ],
   "source": [
    "# https://leetcode.com/problems/valid-palindrome/description/\n",
    "\n",
    "import re\n",
    "def isPalindrome(s):\n",
    "    s = s.lower()\n",
    "    pattern = r'[^A-Za-z0-9]'\n",
    "    s = re.sub(pattern,'',s)\n",
    "    s=s.replace(' ','')\n",
    "    print(s)\n",
    "    i,j =0,len(s)-1\n",
    "\n",
    "    while i<j:\n",
    "        if s[i]!=s[j]:\n",
    "            return False\n",
    "        i+=1\n",
    "        j-=1\n",
    "    return True\n",
    "\n",
    "isPalindrome(\"ab_a\")"
   ]
  },
  {
   "cell_type": "code",
   "execution_count": 16,
   "id": "d3693f12",
   "metadata": {},
   "outputs": [
    {
     "data": {
      "text/plain": [
       "'example good a'"
      ]
     },
     "execution_count": 16,
     "metadata": {},
     "output_type": "execute_result"
    }
   ],
   "source": [
    "# https://leetcode.com/problems/reverse-words-in-a-string/\n",
    "\n",
    "def reverseWords(s):\n",
    "    s = s.strip()\n",
    "    words = s.split(' ')\n",
    "    res =[]\n",
    "    for i in range(len(words)-1,-1,-1):\n",
    "        formatted = words[i].strip()\n",
    "        if formatted:\n",
    "            res.append(formatted)\n",
    "    return ' '.join(res)\n",
    "\n",
    "reverseWords(\"a good   example\")"
   ]
  },
  {
   "cell_type": "code",
   "execution_count": 19,
   "id": "3db36656",
   "metadata": {},
   "outputs": [
    {
     "data": {
      "text/plain": [
       "'d'"
      ]
     },
     "execution_count": 19,
     "metadata": {},
     "output_type": "execute_result"
    }
   ],
   "source": [
    "# https://leetcode.com/problems/longest-palindromic-substring/description/\n",
    "\n",
    "def longestPalindrome(s):\n",
    "    def is_palindrome(str):\n",
    "        i,j =0,len(str)-1\n",
    "\n",
    "        while i<j:\n",
    "            if str[i]!=str[j]:\n",
    "                return False\n",
    "            i+=1\n",
    "            j-=1\n",
    "        return True\n",
    "\n",
    "    i,j = 0,len(s)-1\n",
    "    if (is_palindrome(s[i:j+1])):\n",
    "        return s[i:j+1]\n",
    "\n",
    "    return longestPalindrome(s[i+1:j+1]) or longestPalindrome(s[i:j])\n",
    "\n",
    "\n",
    "longestPalindrome('babad')"
   ]
  },
  {
   "cell_type": "code",
   "execution_count": null,
   "id": "ef2a2701",
   "metadata": {},
   "outputs": [
    {
     "data": {
      "text/plain": [
       "-1"
      ]
     },
     "execution_count": 25,
     "metadata": {},
     "output_type": "execute_result"
    }
   ],
   "source": [
    "# https://leetcode.com/problems/find-the-index-of-the-first-occurrence-in-a-string/description/\n",
    "\n",
    "def strStr(haystack, needle):\n",
    "    i=0\n",
    "    j =i+len(needle)\n",
    "\n",
    "    while j<=len(haystack):\n",
    "        if haystack[i:j] == needle:\n",
    "            return i\n",
    "        else:\n",
    "            i+=1\n",
    "            j+=1\n",
    "    return -1\n",
    "\n",
    "\n",
    "strStr(\"leetcode\",\"leeto\")"
   ]
  },
  {
   "cell_type": "code",
   "execution_count": 30,
   "id": "fea3a53e",
   "metadata": {},
   "outputs": [
    {
     "name": "stdout",
     "output_type": "stream",
     "text": [
      "[0, 0, 1, 1, 1, 2, 2, 3, 3, 4]\n",
      "[0, 1, 1, 1, 1, 2, 2, 3, 3, 4]\n",
      "[0, 1, 1, 1, 1, 2, 2, 3, 3, 4]\n",
      "[0, 1, 1, 1, 1, 2, 2, 3, 3, 4]\n",
      "[0, 1, 2, 1, 1, 2, 2, 3, 3, 4]\n",
      "[0, 1, 2, 1, 1, 2, 2, 3, 3, 4]\n",
      "[0, 1, 2, 3, 1, 2, 2, 3, 3, 4]\n",
      "[0, 1, 2, 3, 1, 2, 2, 3, 3, 4]\n",
      "[0, 1, 2, 3, 4, 2, 2, 3, 3, 4]\n"
     ]
    },
    {
     "data": {
      "text/plain": [
       "[0, 1, 2, 3, 4, 2, 2, 3, 3, 4]"
      ]
     },
     "execution_count": 30,
     "metadata": {},
     "output_type": "execute_result"
    }
   ],
   "source": [
    "# https://leetcode.com/problems/remove-duplicates-from-sorted-array/description/\n",
    "\n",
    "def removeDuplicates(nums):\n",
    "    k =1\n",
    "    for i in range(1,len(nums)):\n",
    "        if nums[i] != nums[i-1]:\n",
    "            nums[k]= nums[i]\n",
    "            k+=1\n",
    "        print(nums)\n",
    "    return nums\n",
    "\n",
    "removeDuplicates([0,0,1,1,1,2,2,3,3,4])"
   ]
  },
  {
   "cell_type": "code",
   "execution_count": null,
   "id": "5c80b7bf",
   "metadata": {},
   "outputs": [
    {
     "data": {
      "text/plain": [
       "[0, 1]"
      ]
     },
     "execution_count": 36,
     "metadata": {},
     "output_type": "execute_result"
    }
   ],
   "source": [
    "# https://leetcode.com/problems/two-sum/description/\n",
    "\n",
    "def twoSum__(nums, target):\n",
    "    seen = dict()\n",
    "\n",
    "    for i,n in enumerate(nums):\n",
    "        rem = target-n\n",
    "        if rem in seen:\n",
    "            return [seen[rem],i]\n",
    "        seen[n] = i\n",
    "    return [-1,-1]\n",
    "\n",
    "\n",
    "def twoSum(nums, target):\n",
    "    i,j = 0,len(nums)-1\n",
    "\n",
    "    while i<j:\n",
    "        sums = nums[i]+sum[j]\n",
    "\n",
    "        if sums == target:\n",
    "            return[i,j]\n",
    "        elif sums<target:\n",
    "            i+=1\n",
    "        elif sums>target:\n",
    "            j-=1\n",
    "    return[-1,-1]\n",
    "\n",
    "twoSum([2,7,11,15],9)"
   ]
  },
  {
   "cell_type": "code",
   "execution_count": 40,
   "id": "09af67df",
   "metadata": {},
   "outputs": [
    {
     "data": {
      "text/plain": [
       "[0, 1, 9, 16, 100]"
      ]
     },
     "execution_count": 40,
     "metadata": {},
     "output_type": "execute_result"
    }
   ],
   "source": [
    "# https://leetcode.com/problems/squares-of-a-sorted-array/description/\n",
    "\n",
    "def sortedSquares(nums):\n",
    "    n = len(nums)\n",
    "    res = [0]*n\n",
    "    l,r = 0, n-1\n",
    "    pos = n-1\n",
    "    while l<r:\n",
    "        if abs(nums[l]) >= abs(nums[r]):\n",
    "            res[pos]  = nums[l]**2\n",
    "            l+=1\n",
    "        else:\n",
    "           res[pos]  = nums[r]**2 \n",
    "           r-=1\n",
    "        pos-=1\n",
    "    return res\n",
    "\n",
    "sortedSquares([-4,-1,0,3,10])"
   ]
  },
  {
   "cell_type": "code",
   "execution_count": 4,
   "id": "d19e69d5",
   "metadata": {},
   "outputs": [
    {
     "data": {
      "text/plain": [
       "[2, 3]"
      ]
     },
     "execution_count": 4,
     "metadata": {},
     "output_type": "execute_result"
    }
   ],
   "source": [
    "# https://leetcode.com/problems/find-all-duplicates-in-an-array/description/\n",
    "\n",
    "def findDuplicates(nums):\n",
    "    res = []\n",
    "    for n in nums:\n",
    "        index = abs(n)-1\n",
    "        if nums[index]<0:\n",
    "            res.append(index+1)\n",
    "        else:\n",
    "            nums[index]*=-1\n",
    "    return res\n",
    "\n",
    "findDuplicates([4,3,2,7,8,2,3,1])"
   ]
  },
  {
   "cell_type": "code",
   "execution_count": 6,
   "id": "7c17bb89",
   "metadata": {},
   "outputs": [
    {
     "data": {
      "text/plain": [
       "8"
      ]
     },
     "execution_count": 6,
     "metadata": {},
     "output_type": "execute_result"
    }
   ],
   "source": [
    "# https://leetcode.com/problems/subarray-product-less-than-k/description/\n",
    "\n",
    "def numSubarrayProductLessThanK(nums, k):\n",
    "    if k <= 1:\n",
    "        return 0\n",
    "\n",
    "    prod = 1\n",
    "    left = 0\n",
    "    count = 0\n",
    "\n",
    "    for right in range(len(nums)):\n",
    "        prod *= nums[right]\n",
    "\n",
    "        while prod >= k:\n",
    "            prod //= nums[left]\n",
    "            left += 1\n",
    "\n",
    "        count += right - left + 1\n",
    "\n",
    "    return count\n",
    "\n",
    "\n",
    "numSubarrayProductLessThanK([10,5,2,6],100)"
   ]
  },
  {
   "cell_type": "code",
   "execution_count": null,
   "id": "a92563de",
   "metadata": {},
   "outputs": [
    {
     "name": "stdout",
     "output_type": "stream",
     "text": [
      "[1, 3, 5]\n",
      "[1, 2, 5]\n",
      "8\n"
     ]
    }
   ],
   "source": [
    "# https://leetcode.com/problems/range-sum-query-mutable/description/\n",
    "\n",
    "class NumArray(object):\n",
    "\n",
    "    nums = []\n",
    "    def __init__(self, nums):\n",
    "        \"\"\"\n",
    "        :type nums: List[int]\n",
    "        \"\"\"\n",
    "        self.nums = nums[:]\n",
    "        self.prefix = self._build_prfix(nums)\n",
    "\n",
    "\n",
    "    def _build_prfix(self,nums):\n",
    "        n = len(self.nums)\n",
    "        prefix = [0]*n\n",
    "\n",
    "        for i in range(1,len(self.nums)):\n",
    "            prefix[i] = prefix[i-1] + self.nums[i]\n",
    "        return prefix\n",
    "\n",
    "    def update(self, index, val):\n",
    "        \"\"\"\n",
    "        :type index: int\n",
    "        :type val: int\n",
    "        :rtype: None\n",
    "        \"\"\"\n",
    "        delta = val - self.nums[index]\n",
    "        self.nums[index] = val\n",
    "        for i in range(index+1,len(self.prefix)):\n",
    "            self.prefix[i]+= delta\n",
    "\n",
    "    def sumRange(self, left, right):\n",
    "        \"\"\"\n",
    "        :type left: int\n",
    "        :type right: int\n",
    "        :rtype: int\n",
    "        \"\"\"        \n",
    "        return self.prefix[right+1] - self.prefix[left]\n",
    "        \n",
    "\n",
    "\n",
    "# Your NumArray object will be instantiated and called as such:\n",
    "obj = NumArray([1, 3, 5])\n",
    "print(obj.nums)\n",
    "obj.update(1,2)\n",
    "print(obj.nums)\n",
    "print(obj.sumRange(0,2))"
   ]
  },
  {
   "cell_type": "code",
   "execution_count": null,
   "id": "41aef1a7",
   "metadata": {},
   "outputs": [],
   "source": [
    "# https://leetcode.com/problems/longest-palindromic-substring/description/\n",
    "\n",
    "def longestPalindrome(s):\n",
    "\n",
    "    def expand_around_center(l,r):\n",
    "        while l>=0 and r<len(s) and s[l] ==s[r]:\n",
    "            l-=1\n",
    "            r+=1\n",
    "        return l+1,r-1\n",
    "\n",
    "    if not s or len(s) == 1:\n",
    "        return s\n",
    "    \n",
    "    start, end = 0, 0\n",
    "\n",
    "    for i in range(len(s)):\n",
    "        l1,r1 = expand_around_center(i,i)\n",
    "        l2,r2 = expand_around_center(i,i+1)\n",
    "\n",
    "        if r1-l1 > end-start:\n",
    "            start,end = l1,r1\n",
    "        if r2-l2 > end-start:\n",
    "            start,end = r2,12\n",
    "\n",
    "    return s[start:end+1]"
   ]
  },
  {
   "cell_type": "code",
   "execution_count": 3,
   "id": "355cb945",
   "metadata": {},
   "outputs": [
    {
     "name": "stdout",
     "output_type": "stream",
     "text": [
      "aet\n",
      "aet\n",
      "ant\n",
      "aet\n",
      "ant\n",
      "abt\n"
     ]
    },
    {
     "data": {
      "text/plain": [
       "dict_values([['eat', 'tea', 'ate'], ['tan', 'nat'], ['bat']])"
      ]
     },
     "execution_count": 3,
     "metadata": {},
     "output_type": "execute_result"
    }
   ],
   "source": [
    "# https://leetcode.com/problems/group-anagrams/description/\n",
    "\n",
    "def groupAnagrams(strs):\n",
    "\n",
    "    anagram_map = {}\n",
    "\n",
    "    for word in strs:\n",
    "        sorted_word = ''.join(sorted(word))\n",
    "        print(sorted_word)\n",
    "\n",
    "        if sorted_word in anagram_map:\n",
    "            anagram_map[sorted_word].append(word)\n",
    "        else:\n",
    "            anagram_map[sorted_word] = [word]\n",
    "    return anagram_map.values()\n",
    "\n",
    "groupAnagrams([\"eat\",\"tea\",\"tan\",\"ate\",\"nat\",\"bat\"])\n",
    "\n"
   ]
  },
  {
   "cell_type": "code",
   "execution_count": 4,
   "id": "9be3734b",
   "metadata": {},
   "outputs": [
    {
     "data": {
      "text/plain": [
       "0"
      ]
     },
     "execution_count": 4,
     "metadata": {},
     "output_type": "execute_result"
    }
   ],
   "source": [
    "# https://leetcode.com/problems/first-unique-character-in-a-string/description/\n",
    "\n",
    "def firstUniqChar(s):\n",
    "    freq_map = {}\n",
    "    for c in s:\n",
    "        freq_map[c] = freq_map.get(c,0)+1\n",
    "\n",
    "    for i,c in enumerate(s):\n",
    "        if freq_map[c] ==1:\n",
    "            return i\n",
    "    return -1\n",
    "\n",
    "firstUniqChar('leetcode')"
   ]
  },
  {
   "cell_type": "code",
   "execution_count": 12,
   "id": "c7198448",
   "metadata": {},
   "outputs": [
    {
     "data": {
      "text/plain": [
       "['a', '2', 'b', '2', 'c', '1', '2']"
      ]
     },
     "execution_count": 12,
     "metadata": {},
     "output_type": "execute_result"
    }
   ],
   "source": [
    "# https://leetcode.com/problems/string-compression/description/\n",
    "\n",
    "def compress(chars):\n",
    "\n",
    "    def digit_to_char(d):\n",
    "        d = str(d)\n",
    "        lst = []\n",
    "        for i in d:\n",
    "            lst.append(i)\n",
    "        return lst\n",
    "\n",
    "    curr = chars[0]\n",
    "    count =1\n",
    "    res = []\n",
    "    for i in range(1,len(chars)):\n",
    "        if curr == chars[i]:\n",
    "            count+=1\n",
    "        else:\n",
    "            res.append(curr)\n",
    "            for d in digit_to_char(count):\n",
    "                res.append(d)\n",
    "            count =1\n",
    "            curr = chars[i]\n",
    "        if i == len(chars)-1:\n",
    "            res.append(curr)\n",
    "            for d in digit_to_char(count):\n",
    "                res.append(d)\n",
    "    return res\n",
    "\n",
    "\n",
    "compress([\"a\",\"a\",\"b\",\"b\",\"c\",\"c\",\"c\",\"c\",\"c\",\"c\",\"c\",\"c\",\"c\",\"c\",\"c\",\"c\"])"
   ]
  },
  {
   "cell_type": "code",
   "execution_count": 4,
   "id": "a22f3848",
   "metadata": {},
   "outputs": [
    {
     "name": "stdout",
     "output_type": "stream",
     "text": [
      "{'a': 1, 'b': 1, 'c': 1}\n"
     ]
    },
    {
     "data": {
      "text/plain": [
       "[0, 6]"
      ]
     },
     "execution_count": 4,
     "metadata": {},
     "output_type": "execute_result"
    }
   ],
   "source": [
    "# https://leetcode.com/problems/find-all-anagrams-in-a-string/description/\n",
    "\n",
    "def findAnagrams(s, p):\n",
    "    if len(p)>len(s):\n",
    "        return -1\n",
    "    \n",
    "    freq_map = {}\n",
    "    for c in p:\n",
    "        freq_map[c] = freq_map.get(c,0) +1\n",
    "    print(freq_map)\n",
    "\n",
    "    window_count = {}\n",
    "    res = []\n",
    "    for i in range(len(s)):\n",
    "        window_count[s[i]] = window_count.get(s[i],0)+1\n",
    "        if i >=len(p):\n",
    "            left_char = s[i-len(p)]\n",
    "            window_count[left_char]-=1\n",
    "            if window_count[left_char]==0:\n",
    "                del window_count[left_char]\n",
    "        \n",
    "        if window_count == freq_map:\n",
    "            start = i-len(p) +1\n",
    "            res.append(start)\n",
    "    return res\n",
    "\n",
    "\n",
    "findAnagrams(\"cbaebabacd\",\"abc\")"
   ]
  },
  {
   "cell_type": "code",
   "execution_count": 9,
   "id": "4a9c7efe",
   "metadata": {},
   "outputs": [
    {
     "name": "stdout",
     "output_type": "stream",
     "text": [
      "0\n",
      "1\n",
      "1\n",
      "2\n",
      "3\n",
      "5\n",
      "8\n",
      "13\n",
      "21\n",
      "34\n"
     ]
    }
   ],
   "source": [
    "# https://leetcode.com/problems/fibonacci-number/description/\n",
    "\n",
    "def fib(n):\n",
    "    \n",
    "    def fibonacci(n,memo={}):\n",
    "        if n<0:\n",
    "            return -1\n",
    "        if n in memo:\n",
    "            return memo[n]\n",
    "        \n",
    "        memo[n] = fibonacci(n-1,memo)+fibonacci(n-2,memo)\n",
    "        return memo[n]\n",
    "    \n",
    "    memo = {}\n",
    "    memo[0] = 0\n",
    "    memo[1] = 1\n",
    "    return fibonacci(n,memo)\n",
    "\n",
    "\n",
    "def fibo(n):\n",
    "    if n==0 or n ==1:\n",
    "        return n\n",
    "    \n",
    "    a,b =0,1\n",
    "    for _ in range(2,n+1):\n",
    "        a,b = b,a+b\n",
    "    return b\n",
    "\n",
    "\n",
    "for i in range(10):\n",
    "    print(fibo(i))"
   ]
  },
  {
   "cell_type": "code",
   "execution_count": 12,
   "id": "0c47fe51",
   "metadata": {},
   "outputs": [
    {
     "name": "stdout",
     "output_type": "stream",
     "text": [
      "6\n",
      "['a', '2', 'b', '2', 'c', '3', 'c']\n"
     ]
    }
   ],
   "source": [
    "# https://leetcode.com/problems/string-compression/description/\n",
    "\n",
    "def compress(chars):\n",
    "    write =0\n",
    "    read =0\n",
    "\n",
    "    while read < len(chars):\n",
    "        char = chars[read]\n",
    "        count = 0\n",
    "\n",
    "        while read < len(chars)  and chars[read]==char:\n",
    "            read+=1\n",
    "            count+=1\n",
    "\n",
    "        chars[write] = char \n",
    "        write+=1\n",
    "\n",
    "        if count>1:\n",
    "            for digit in str(count):\n",
    "                chars[write] = digit\n",
    "                write+=1\n",
    "\n",
    "    return write\n",
    "\n",
    "arr = [\"a\",\"a\",\"b\",\"b\",\"c\",\"c\",\"c\"]\n",
    "print(compress(arr))\n",
    "print(arr)"
   ]
  },
  {
   "cell_type": "code",
   "execution_count": 13,
   "id": "400ceed5",
   "metadata": {},
   "outputs": [
    {
     "data": {
      "text/plain": [
       "-321"
      ]
     },
     "execution_count": 13,
     "metadata": {},
     "output_type": "execute_result"
    }
   ],
   "source": [
    "# https://leetcode.com/problems/reverse-integer/description/\n",
    "\n",
    "def reverse(x):\n",
    "    INT_MIN,INT_MAX = -2**31 , 2**31-1\n",
    "\n",
    "    s = -1 if x<0 else 1\n",
    "    x = abs(x)\n",
    "\n",
    "    r = 0\n",
    "    while x!=0:\n",
    "        rem = x%10\n",
    "        x = x//10\n",
    "\n",
    "        if r > (INT_MAX-rem)//10:\n",
    "            return 0\n",
    "\n",
    "        r = r*10+rem\n",
    "    return s*r\n",
    "\n",
    "\n",
    "reverse(-123)\n",
    "\n"
   ]
  },
  {
   "cell_type": "code",
   "execution_count": 26,
   "id": "eb3a57cd",
   "metadata": {},
   "outputs": [
    {
     "data": {
      "text/plain": [
       "2147483647"
      ]
     },
     "execution_count": 26,
     "metadata": {},
     "output_type": "execute_result"
    }
   ],
   "source": [
    "# https://leetcode.com/problems/string-to-integer-atoi/description/\n",
    "\n",
    "def myAtoi(s):\n",
    "    s= s.strip()\n",
    "    if not s:\n",
    "        return 0\n",
    "    i=0\n",
    "    if s[0] == '-':\n",
    "        sign =-1\n",
    "        i+=1\n",
    "    elif s[0] == '+':\n",
    "        sign =1\n",
    "        i+=1\n",
    "    else:\n",
    "        sign =1       \n",
    "\n",
    "    INT_MAX = 2**31 -1 \n",
    "    INT_MIN = -2**31\n",
    "\n",
    "    map_char ={'0':0,'1':1,'2':2,'3':3,'4':4,'5':5,'6':6,'7':7,'8':8,'9':9}\n",
    "    num =0\n",
    "\n",
    "    while i <len(s):\n",
    "       \n",
    "        if s[i] not in map_char:\n",
    "            break\n",
    "        \n",
    "        if num > (INT_MAX-map_char[s[i]])//10:\n",
    "            return INT_MAX if sign >0 else INT_MIN\n",
    "\n",
    "        num =num*10+map_char[s[i]]\n",
    "        i+=1\n",
    "    return num*sign\n",
    "\n",
    "\n",
    "myAtoi('21474836460')"
   ]
  },
  {
   "cell_type": "code",
   "execution_count": 1,
   "id": "70909708",
   "metadata": {},
   "outputs": [],
   "source": [
    "# https://leetcode.com/problems/longest-substring-without-repeating-characters/description/\n",
    "\n",
    "def lengthOfLongestSubstring(s):\n",
    "    seen = set()\n",
    "    left = 0\n",
    "    max_len = 0\n",
    "\n",
    "    for right in range(len(s)):\n",
    "        while s[right] in seen:\n",
    "            seen.remove(s[left])\n",
    "            left+=1\n",
    "\n",
    "        seen.add(s[right])\n",
    "        max_len = max(max_len,right-left+1)\n",
    "\n",
    "    return max_len\n",
    "\n",
    "\n",
    "\n",
    "\n",
    "\n"
   ]
  },
  {
   "cell_type": "code",
   "execution_count": null,
   "id": "0c01b55c",
   "metadata": {},
   "outputs": [],
   "source": [
    "# https://leetcode.com/problems/longest-repeating-character-replacement/description/\n",
    "\n",
    "def characterReplacement(s, k):\n",
    "    count = {}\n",
    "    left = 0\n",
    "    max_len = 0\n",
    "    max_freq = 0\n",
    "\n",
    "    for right in range(len(s)):\n",
    "        char = s[right]\n",
    "        count[char] = count.get(char,0)+1\n",
    "        max_freq = max(max_freq,count[char])\n",
    "\n",
    "        if (right-left+1)-max_freq >k:\n",
    "            count(s[left])-=1\n",
    "            left+=1\n",
    "        \n",
    "        max_len = max(max_len,right-left+1)\n",
    "\n",
    "    return max_len"
   ]
  },
  {
   "cell_type": "code",
   "execution_count": null,
   "id": "4513c00c",
   "metadata": {},
   "outputs": [
    {
     "data": {
      "text/plain": [
       "7"
      ]
     },
     "execution_count": 6,
     "metadata": {},
     "output_type": "execute_result"
    }
   ],
   "source": [
    "# https://www.geeksforgeeks.org/problems/longest-k-unique-characters-substring0853/1\n",
    "\n",
    "def longestKSubstr(s, k):\n",
    "    seen = {}\n",
    "    left = 0\n",
    "    max_len = 0\n",
    "\n",
    "    for right in range(len(s)):\n",
    "        char = s[right]\n",
    "        seen[char]  = seen.get(char,0)+1\n",
    "\n",
    "        while len(seen) >k:\n",
    "            left_char = s[left]\n",
    "            seen[left_char]-=1\n",
    "            left+=1\n",
    "            if seen[left_char] == 0:\n",
    "                del seen[left_char]\n",
    "\n",
    "        if len(seen) == k:\n",
    "            max_len = max(max_len,right-left+1)\n",
    "    return max_len\n",
    "\n",
    "\n",
    "longestKSubstr('aabacbebebe',3)"
   ]
  },
  {
   "cell_type": "code",
   "execution_count": 6,
   "id": "73340f1c",
   "metadata": {},
   "outputs": [
    {
     "data": {
      "text/plain": [
       "2"
      ]
     },
     "execution_count": 6,
     "metadata": {},
     "output_type": "execute_result"
    }
   ],
   "source": [
    "# https://leetcode.com/problems/minimum-size-subarray-sum/description/\n",
    "\n",
    "def minSubArrayLen(target, nums):\n",
    "    left = 0\n",
    "    min_length = float('Inf')\n",
    "    curr = 0\n",
    "\n",
    "    for right in range(len(nums)):\n",
    "        curr+=nums[right]\n",
    "\n",
    "        while curr>=target:\n",
    "            min_length = min(min_length,right-left+1)\n",
    "            curr-=nums[left]\n",
    "            left+=1\n",
    "    \n",
    "    return 0 if min_length== float('Inf') else min_length\n",
    "\n",
    "\n",
    "minSubArrayLen(7,[2,3,1,2,4,3])"
   ]
  },
  {
   "cell_type": "code",
   "execution_count": null,
   "id": "d577a6f9",
   "metadata": {},
   "outputs": [],
   "source": [
    "# https://leetcode.com/problems/longest-continuous-increasing-subsequence/description/\n",
    "\n",
    "def findLengthOfLCIS(nums):\n",
    "    max_len = 1\n",
    "    curr=1\n",
    "    for i in range(1,len(nums)):\n",
    "        if nums[i]>nums[i-1]:\n",
    "            curr+=1\n",
    "            max_len = max(max_len,curr)\n",
    "        else:\n",
    "            curr =1\n",
    "    return max_len"
   ]
  },
  {
   "cell_type": "code",
   "execution_count": 10,
   "id": "9a30ceb6",
   "metadata": {},
   "outputs": [
    {
     "name": "stdout",
     "output_type": "stream",
     "text": [
      "6\n",
      "0\n"
     ]
    }
   ],
   "source": [
    "# https://leetcode.com/problems/maximum-product-subarray/description/\n",
    "\n",
    "def maxProduct(nums):\n",
    "    result = nums[0]\n",
    "    max_so_far = nums[0]\n",
    "    min_so_far = nums[0]\n",
    "\n",
    "    for i in range(1,len(nums)):\n",
    "        curr = nums[i]\n",
    "        temp_max = max(curr,curr*max_so_far,curr*min_so_far)\n",
    "        temp_min = min(curr,curr*max_so_far,curr*min_so_far)\n",
    "\n",
    "        max_so_far = temp_max\n",
    "        min_so_far = temp_min\n",
    "\n",
    "        result = max(result,max_so_far)\n",
    "    return result\n",
    "\n",
    "\n",
    "print(maxProduct([2,3,-2,4]))\n",
    "print(maxProduct([-2,0,-1]))"
   ]
  },
  {
   "cell_type": "code",
   "execution_count": null,
   "id": "fba5d0ac",
   "metadata": {},
   "outputs": [],
   "source": [
    "# https://leetcode.com/problems/maximum-points-you-can-obtain-from-cards/description/\n",
    "\n",
    "def maxScore(cardPoints, k):\n",
    "    total = sum(cardPoints)\n",
    "    n = len(cardPoints)\n",
    "    w = n-k\n",
    "    min_sum = curr_sum = sum(cardPoints[:w])\n",
    "\n",
    "    for i in range(n-k,n):\n",
    "        curr = cardPoints[i]\n",
    "        curr_sum = curr_sum+curr-cardPoints[i-w]\n",
    "\n",
    "        min_sum = min(min_sum,curr_sum)\n",
    "    return total -min_sum"
   ]
  },
  {
   "cell_type": "code",
   "execution_count": null,
   "id": "91458622",
   "metadata": {},
   "outputs": [],
   "source": [
    "# https://leetcode.com/problems/longest-mountain-in-array/description/\n",
    "\n",
    "def longestMountain(arr):\n",
    "    max_length =0\n",
    "    i=0\n",
    "    while i<len(arr):\n",
    "        if arr[i-1]<arr[i]>arr[i+1]:\n",
    "            left =i-1\n",
    "            right =i+1\n",
    "            m = i\n",
    "\n",
    "            while left >0 and arr[left-1]<arr[left]:\n",
    "                left-=1\n",
    "\n",
    "            while right >0 and arr[right]<arr[right+1]:\n",
    "                right+=1\n",
    "\n",
    "            max_length = max(max_length,right-left+1)\n",
    "            i =right\n",
    "        else:\n",
    "            i+=1\n",
    "\n",
    "    return max_length"
   ]
  },
  {
   "cell_type": "code",
   "execution_count": 2,
   "id": "164ece04",
   "metadata": {},
   "outputs": [
    {
     "data": {
      "text/plain": [
       "[[1, 6], [8, 10], [15, 18]]"
      ]
     },
     "execution_count": 2,
     "metadata": {},
     "output_type": "execute_result"
    }
   ],
   "source": [
    "# https://leetcode.com/problems/merge-intervals/description/\n",
    "\n",
    "def merge(intervals):\n",
    "    if not intervals:\n",
    "        return []\n",
    "    \n",
    "    intervals.sort(key=lambda x:x[0])\n",
    "    merged = [intervals[0]]\n",
    "\n",
    "    for curr in intervals[1:]:\n",
    "        last = merged[-1]\n",
    "        if curr[0]<=last[1]:\n",
    "            last[1] = max(last[1],curr[1])\n",
    "        else:\n",
    "            merged.append(curr)\n",
    "    return merged\n",
    "\n",
    "merge([[1,3],[2,6],[8,10],[15,18]])"
   ]
  },
  {
   "cell_type": "code",
   "execution_count": null,
   "id": "6d4d82de",
   "metadata": {},
   "outputs": [],
   "source": [
    "# https://leetcode.com/problems/insert-interval/description/\n",
    "\n",
    "def insert(intervals, newInterval):\n",
    "    res = []\n",
    "    n = len(intervals)\n",
    "\n",
    "    while i<n and intervals[i][1]<newInterval[0]:\n",
    "        res.append(intervals[i])\n",
    "        i+=1\n",
    "\n",
    "    while i<n and intervals[i][0]<=newInterval[1]:\n",
    "        start = min(intervals[i][0],newInterval[0])\n",
    "        end  = max(intervals[i][1],newInterval[1])\n",
    "        res.append([start,end])\n",
    "        i+=1\n",
    "\n",
    "    while i<n:\n",
    "        res.append(intervals[i])\n",
    "        i+=1\n",
    "\n",
    "insert([[1,3],[6,9]],[2,5])"
   ]
  },
  {
   "cell_type": "code",
   "execution_count": null,
   "id": "b823972f",
   "metadata": {},
   "outputs": [
    {
     "data": {
      "text/plain": [
       "210"
      ]
     },
     "execution_count": 2,
     "metadata": {},
     "output_type": "execute_result"
    }
   ],
   "source": [
    "# https://leetcode.com/problems/largest-number/description/\n",
    "\n",
    "\n",
    "\n",
    "\n",
    "# largestNumber([3,30,34,5,9])\n",
    "largestNumber([10,2])"
   ]
  },
  {
   "cell_type": "code",
   "execution_count": 6,
   "id": "aa498032",
   "metadata": {},
   "outputs": [
    {
     "data": {
      "text/plain": [
       "1"
      ]
     },
     "execution_count": 6,
     "metadata": {},
     "output_type": "execute_result"
    }
   ],
   "source": [
    "# https://leetcode.com/problems/search-insert-position/description/\n",
    "\n",
    "def searchInsert(nums, target):\n",
    "    l , r = 0,len(nums)-1\n",
    "    \n",
    "    while l <=r:\n",
    "        m = (l+r)//2\n",
    "        if nums[m] == target:\n",
    "            return m\n",
    "        elif nums[m]>target:\n",
    "            r=m-1\n",
    "        else:\n",
    "            l = m+1\n",
    "    return l\n",
    "searchInsert([1,3,5,6],2)"
   ]
  },
  {
   "cell_type": "code",
   "execution_count": null,
   "id": "ed6ed016",
   "metadata": {},
   "outputs": [],
   "source": [
    "# https://leetcode.com/problems/find-minimum-in-rotated-sorted-array/description/\n",
    "\n",
    "def findMin(nums):\n",
    "    l,r =0,len(nums)-1\n",
    "\n",
    "    while l<r:\n",
    "        m = (l+r)//2\n",
    "\n",
    "        if nums[m]>nums[r]:\n",
    "            l = m+1\n",
    "        else:\n",
    "            r = m\n",
    "    return nums[l]"
   ]
  },
  {
   "cell_type": "code",
   "execution_count": null,
   "id": "7368fdea",
   "metadata": {},
   "outputs": [],
   "source": [
    "# https://leetcode.com/problems/peak-index-in-a-mountain-array/description/\n",
    "\n",
    "def peakIndexInMountainArray(arr):\n",
    "    l,r = 0 ,len(arr)-1\n",
    "\n",
    "    while l<r:\n",
    "        m = (l+r)//2\n",
    "\n",
    "        if arr[m] <arr[m+1]:\n",
    "            l = m+1\n",
    "        else:\n",
    "            r =m\n",
    "    return l\n"
   ]
  },
  {
   "cell_type": "code",
   "execution_count": null,
   "id": "5393c3d9",
   "metadata": {},
   "outputs": [],
   "source": [
    "# https://leetcode.com/problems/find-smallest-letter-greater-than-target/\n",
    "\n",
    "def nextGreatestLetter(letters, target):\n",
    "    l,r = 0,len(letters)\n",
    "\n",
    "    while l<r:\n",
    "        m =(l+r)//2\n",
    "        if letters[m] <=target:\n",
    "            l =m+1\n",
    "        else:\n",
    "            r = m\n",
    "    return letters[l] if l<len(letters) else letters[0]"
   ]
  },
  {
   "cell_type": "code",
   "execution_count": 3,
   "id": "5f9ccb58",
   "metadata": {},
   "outputs": [
    {
     "data": {
      "text/plain": [
       "5.0"
      ]
     },
     "execution_count": 3,
     "metadata": {},
     "output_type": "execute_result"
    }
   ],
   "source": [
    "# https://leetcode.com/problems/maximum-average-subarray-i/description/\n",
    "\n",
    "def findMaxAverage(nums, k):\n",
    "    max_avg = float('-inf')\n",
    "    l = 0\n",
    "    curr = 0\n",
    "    curr_avg = 0\n",
    "    for r in range (len(nums)):\n",
    "        curr+=nums[r]\n",
    "        \n",
    "        while r-l+1 >k:\n",
    "            curr-= nums[l]\n",
    "            l+=1\n",
    "\n",
    "        if r-l+1 ==k:\n",
    "            curr_avg = curr/(r-l+1)\n",
    "            max_avg = max(max_avg,curr_avg)\n",
    "    return max_avg\n",
    "\n",
    "\n",
    "findMaxAverage([5],1)\n"
   ]
  },
  {
   "cell_type": "code",
   "execution_count": null,
   "id": "0ab1fdf8",
   "metadata": {},
   "outputs": [],
   "source": [
    "# https://leetcode.com/problems/capacity-to-ship-packages-within-d-days/description/\n",
    "\n",
    "def shipWithinDays(weights, days):\n",
    "    def can_ship(capacity):\n",
    "        total = 0\n",
    "        req_day =1\n",
    "        for w in weights:\n",
    "            if total+w >capacity:\n",
    "                req_day+=1\n",
    "                total=0\n",
    "            total+=w\n",
    "        return req_day <= days\n",
    "    \n",
    "    l,r = max(weights), sum(weights)\n",
    "    while l<=r:\n",
    "        m = (l+r)//2\n",
    "        if can_ship(m):\n",
    "            r=m\n",
    "        else:\n",
    "            l = m+1\n",
    "    return l\n",
    "\n",
    "\n",
    "\n",
    "\n"
   ]
  },
  {
   "cell_type": "code",
   "execution_count": null,
   "id": "8015f51d",
   "metadata": {},
   "outputs": [],
   "source": [
    "# https://leetcode.com/problems/minimize-maximum-pair-sum-in-array/description/\n",
    "\n",
    "def minPairSum(nums):\n",
    "    nums.sort()\n",
    "    max_pair_sum = 0\n",
    "    n = len(nums)\n",
    "\n",
    "    for i in range(n//2):\n",
    "        pair_sum = nums[i] +nums[n-1-i]\n",
    "        max_pair_sum = max(max_pair_sum,pair_sum)\n",
    "\n",
    "    return max_pair_sum\n"
   ]
  },
  {
   "cell_type": "code",
   "execution_count": null,
   "id": "6afa9de1",
   "metadata": {},
   "outputs": [],
   "source": [
    "# https://www.propeers.in/roadmaps/686f517e881b549d7cd72269/find-peak-element?todoItemId=686f768f63468d67c4e00838\n",
    "\n",
    "from typing import List\n",
    "def findPeakElement(nums: List[int]) -> List[int]:\n",
    "    l,r = 0, len(nums)-1\n",
    "\n",
    "    while l<r:\n",
    "        m = (l+r)//2\n",
    "\n",
    "        if nums[m] <nums[m+1]:\n",
    "            l = m+1\n",
    "        else:\n",
    "            r = m\n",
    "    return l\n",
    "\n"
   ]
  },
  {
   "cell_type": "code",
   "execution_count": null,
   "id": "29311a83",
   "metadata": {},
   "outputs": [],
   "source": [
    "# https://www.propeers.in/roadmaps/686f517e881b549d7cd72269/longest-mountain-in-array?todoItemId=686f768f63468d67c4e0083e\n",
    "\n",
    "def longestMountainInArray(nums: List[int]) -> List[int]:\n",
    "    n = len(nums)\n",
    "    i =1\n",
    "    max_len = 0\n",
    "\n",
    "    while i <n-1:\n",
    "        if nums[i-1] <nums[i] < nums[i+1]:\n",
    "            l =i-1\n",
    "            r=i+1\n",
    "\n",
    "            while l>0 and nums[l-1]<nums[l]:\n",
    "                l-=1\n",
    "\n",
    "            while r<n and nums[r]>nums[r+1]:\n",
    "                r+=1\n",
    "\n",
    "            max_len = max(max_len,r-l+1)\n",
    "\n",
    "            i = r\n",
    "        else:\n",
    "            i+=1\n",
    "    return max_len\n"
   ]
  },
  {
   "cell_type": "code",
   "execution_count": null,
   "id": "3cc93d74",
   "metadata": {},
   "outputs": [
    {
     "data": {
      "text/plain": [
       "[2]"
      ]
     },
     "execution_count": 5,
     "metadata": {},
     "output_type": "execute_result"
    }
   ],
   "source": [
    "# https://www.propeers.in/roadmaps/686f517e881b549d7cd72269/peak-index-in-a-mountain-array?todoItemId=686f768f63468d67c4e00841\n",
    "from typing import List\n",
    "def peakIndexInAMountainArray__(nums: List[int]) -> List[int]:\n",
    "    n = len(nums)-1\n",
    "    i =1\n",
    "\n",
    "    while i<n:\n",
    "        if nums[i-1]<nums[i]>nums[i+1]:\n",
    "            return [i]\n",
    "        i+=1\n",
    "def peakIndexInAMountainArray(nums: List[int]) -> int:\n",
    "    l,r = 0, len(nums)-1\n",
    "\n",
    "    while l<r:\n",
    "        m = (l+r)//2\n",
    "        if nums[m]<nums[m+1]:\n",
    "            l = m+1\n",
    "        else:\n",
    "            r = m\n",
    "    return l\n",
    "\n",
    "peakIndexInAMountainArray([0,0,10,5,2])\n"
   ]
  },
  {
   "cell_type": "code",
   "execution_count": null,
   "id": "b5126323",
   "metadata": {},
   "outputs": [],
   "source": [
    "#https://www.propeers.in/roadmaps/686f517e881b549d7cd72269/find-first-and-last-position-of-element-in-sorted-array?todoItemId=686f766f63468d67c4dffda9\n",
    "\n",
    "def findFirstAndLastPositionOfElementInSortedArray(nums: List[int], target: int) -> List[int]:\n",
    "    def findBound(isFirst:bool)-> int:\n",
    "        l,r = 0, len(nums)-1\n",
    "        bound = -1\n",
    "\n",
    "        while l<=r:\n",
    "            m =(l+r)//2\n",
    "            if nums[m] == target:\n",
    "                bound = m\n",
    "                if isFirst:\n",
    "                    r = m-1\n",
    "                else:\n",
    "                    l= m+1\n",
    "            elif nums[m]<target:\n",
    "                l = m+1\n",
    "            else:\n",
    "                r = m-1\n",
    "        return bound\n",
    "    \n",
    "    start = findBound(True)\n",
    "    end = findBound(False)\n",
    "    return [start,end]\n",
    "        \n"
   ]
  },
  {
   "cell_type": "code",
   "execution_count": null,
   "id": "7a09f4d8",
   "metadata": {},
   "outputs": [],
   "source": [
    "# https://www.propeers.in/roadmaps/686f517e881b549d7cd72269/count-negative-numbers-in-a-sorted-matrix?todoItemId=686f766f63468d67c4dffdac\n",
    "\n",
    "def countNegativeNumbersInASortedMatrix(matrix: List[List[int]]) -> int:\n",
    "    m,n = len(matrix),len(matrix[0])\n",
    "    r,c = 0, n-1\n",
    "    count = 0\n",
    "\n",
    "    while r<m and c>=0:\n",
    "        if matrix[r][c]<0:\n",
    "            count+=m-r\n",
    "            c-=1\n",
    "        else:\n",
    "           r+=1\n",
    "    return count"
   ]
  },
  {
   "cell_type": "code",
   "execution_count": null,
   "id": "3d270aef",
   "metadata": {},
   "outputs": [],
   "source": [
    "# https://leetcode.com/problems/search-a-2d-matrix-ii/\n",
    "def searchMatrix(matrix, target):\n",
    "    m,n = len(matrix),len(matrix[0])\n",
    "    r,c = 0 ,n-1\n",
    "\n",
    "    while r<m and c>=0:\n",
    "        if matrix[r][c]==target:\n",
    "            return True\n",
    "        elif matrix[r][c]>target:\n",
    "            c-=1\n",
    "        else:\n",
    "            r+=1\n",
    "    return False\n"
   ]
  },
  {
   "cell_type": "code",
   "execution_count": 1,
   "id": "548615b0",
   "metadata": {},
   "outputs": [
    {
     "name": "stdout",
     "output_type": "stream",
     "text": [
      "[False, False, True, True, False, True, False, True, False, True]\n",
      "[False, False, True, True, False, True, False, True, False, False]\n",
      "[False, False, True, True, False, True, False, True, False, False]\n",
      "[False, False, True, True, False, True, False, True, False, False]\n",
      "[False, False, True, True, False, True, False, True, False, False]\n",
      "[False, False, True, True, False, True, False, True, False, False]\n",
      "[False, False, True, True, False, True, False, True, False, False]\n",
      "[False, False, True, True, False, True, False, True, False, False]\n"
     ]
    },
    {
     "data": {
      "text/plain": [
       "4"
      ]
     },
     "execution_count": 1,
     "metadata": {},
     "output_type": "execute_result"
    }
   ],
   "source": [
    "# https://leetcode.com/problems/count-primes/description/\n",
    "def countPrimes__(n):\n",
    "    if n<2:\n",
    "        return 0\n",
    "    \n",
    "    isPrime = [True]*n\n",
    "    isPrime[0]=isPrime[1] = False\n",
    "    for i in range(2,n):\n",
    "        for j in range(2,int(i**0.5)+1):\n",
    "            if i%j == 0:\n",
    "                isPrime[i] = False\n",
    "                break\n",
    "    return sum(isPrime)\n",
    "\n",
    "def countPrimes(n):\n",
    "    if n<2:\n",
    "        return 0\n",
    "    \n",
    "    isPrime = [True]*n\n",
    "    isPrime[0]=isPrime[1] = False\n",
    "    for i in range(2,n):\n",
    "        if isPrime[i] == True:\n",
    "            for j in range(i*i,n,i):\n",
    "                isPrime[j]=False\n",
    "        print(isPrime)           \n",
    "    return sum(isPrime)\n",
    "countPrimes(10)\n"
   ]
  },
  {
   "cell_type": "code",
   "execution_count": null,
   "id": "42c68fb5",
   "metadata": {},
   "outputs": [
    {
     "data": {
      "text/plain": [
       "[[-1, -1, 2], [-1, 0, 1]]"
      ]
     },
     "execution_count": 2,
     "metadata": {},
     "output_type": "execute_result"
    }
   ],
   "source": [
    "# https://leetcode.com/problems/3sum/description/\n",
    "\n",
    "def threeSum(nums):\n",
    "    n = len(nums)\n",
    "    res = []\n",
    "    nums.sort()\n",
    "\n",
    "    for i in range(n-1):\n",
    "        if (i>0 and nums[i]==nums[i-1]):\n",
    "            continue\n",
    "        l,r = i+1, n-1\n",
    "        while l<r:\n",
    "            sum_num = nums[i]+nums[l]+nums[r]\n",
    "            if sum_num ==0:\n",
    "                res.append([nums[i],nums[l],nums[r]])\n",
    "                l+=1\n",
    "                while l<r and nums[l-1]==nums[l]:\n",
    "                    l+=1\n",
    "            elif sum_num>0:\n",
    "                r-=1\n",
    "            else:\n",
    "                l+=1\n",
    "    return res\n",
    "\n",
    "threeSum([-1,0,1,2,-1,-4])"
   ]
  },
  {
   "cell_type": "code",
   "execution_count": 7,
   "id": "a0d9c0eb",
   "metadata": {},
   "outputs": [
    {
     "data": {
      "text/plain": [
       "2"
      ]
     },
     "execution_count": 7,
     "metadata": {},
     "output_type": "execute_result"
    }
   ],
   "source": [
    "# https://leetcode.com/problems/3sum-closest/description/\n",
    "\n",
    "def threeSumClosest(nums, target):\n",
    "    nums.sort()\n",
    "    n = len(nums)\n",
    "    closest = float('inf')\n",
    "\n",
    "    for i in range(n-1):\n",
    "        if (i>0 and nums[i-1]==nums[i]):\n",
    "            continue\n",
    "\n",
    "        l,r = i+1,n-1\n",
    "        while l<r:\n",
    "            sum_num = nums[i]+nums[l]+nums[r]\n",
    "            if abs(target-sum_num) < abs(target-closest):\n",
    "                closest =sum_num\n",
    "\n",
    "            if sum_num == target:\n",
    "                return sum_num\n",
    "            elif sum_num >target:\n",
    "                r-=1\n",
    "            else:\n",
    "                l+=1\n",
    "    return closest\n",
    "\n",
    "threeSumClosest([-1,2,1,-4],1)"
   ]
  },
  {
   "cell_type": "code",
   "execution_count": null,
   "id": "a8f7a1fe",
   "metadata": {},
   "outputs": [],
   "source": [
    "# https://leetcode.com/problems/kth-smallest-element-in-a-sorted-matrix/description/\n",
    "\n",
    "def kthSmallest(matrix, k):\n",
    "    def count_less(m):\n",
    "        count = 0\n",
    "        r,c = len(matrix)-1,0\n",
    "\n",
    "        while r>=0 and c<len(matrix):\n",
    "            if matrix[r][c]<=m:\n",
    "                count+=r+1\n",
    "                c+=1\n",
    "            else:\n",
    "                r-=1\n",
    "        return count\n",
    "\n",
    "\n",
    "\n",
    "    l,h = matrix[0][0], matrix[-1][-1]\n",
    "    while l<h:\n",
    "        m =(l+h)//2\n",
    "        if count_less(m)<k:\n",
    "            l=m+1\n",
    "        else:\n",
    "            h=m\n",
    "    return l\n",
    "\n"
   ]
  },
  {
   "cell_type": "code",
   "execution_count": 5,
   "id": "b25a97fc",
   "metadata": {},
   "outputs": [
    {
     "data": {
      "text/plain": [
       "'1211'"
      ]
     },
     "execution_count": 5,
     "metadata": {},
     "output_type": "execute_result"
    }
   ],
   "source": [
    "# https://leetcode.com/problems/count-and-say/description/\n",
    "\n",
    "def countAndSay(n):\n",
    "    if n==1:\n",
    "        return '1'\n",
    "    \n",
    "    say = countAndSay(n-1)\n",
    "    result =[]\n",
    "    i=0\n",
    "    while i<len(say):\n",
    "        ch = say[i]\n",
    "        count =1\n",
    "        while i<len(say)-1 and say[i]==say[i+1]:\n",
    "            count+=1\n",
    "            i+=1\n",
    "        result.append(str(count)+ch)\n",
    "        i+=1\n",
    "    return ''.join(result)\n",
    "\n",
    "countAndSay(4)"
   ]
  },
  {
   "cell_type": "code",
   "execution_count": null,
   "id": "7cad0e2f",
   "metadata": {},
   "outputs": [],
   "source": [
    "# https://leetcode.com/problems/validate-ip-address/description/\n",
    "\n",
    "def validIPAddress(self, queryIP):\n",
    "        \"\"\"\n",
    "        :type queryIP: str\n",
    "        :rtype: str\n",
    "        \"\"\"\n",
    "        def isv4(ip):\n",
    "            parts = ip.split('.')\n",
    "            if len(parts) != 4:\n",
    "                return False\n",
    "            for part in parts:\n",
    "                if not part.isdigit():\n",
    "                    return False\n",
    "                if not 0 <= int(part) <= 255:\n",
    "                    return False\n",
    "                if part != str(int(part)):  # catches leading zeros\n",
    "                    return False\n",
    "            return True\n",
    "        def isv6(ip):\n",
    "            parts = ip.split(':')\n",
    "            if len(parts) != 8:\n",
    "                return False\n",
    "            hex_digits = '0123456789abcdefABCDEF'\n",
    "            for part in parts:\n",
    "                if not (1 <= len(part) <= 4):\n",
    "                    return False\n",
    "                if not all(c in hex_digits for c in part):\n",
    "                    return False\n",
    "            return True\n",
    "\n",
    "        print(queryIP.count('.'))\n",
    "        print(queryIP.count(':'))\n",
    "\n",
    "        if queryIP.count('.') == 3 and isv4(queryIP):\n",
    "            return \"IPv4\"\n",
    "        elif queryIP.count(':') == 7 and isv6(queryIP):\n",
    "            return \"IPv6\"\n",
    "        else:\n",
    "            return \"Neither\""
   ]
  },
  {
   "cell_type": "code",
   "execution_count": 1,
   "id": "c844d42d",
   "metadata": {},
   "outputs": [
    {
     "name": "stdout",
     "output_type": "stream",
     "text": [
      "['9', '5', '34', '3', '30']\n"
     ]
    },
    {
     "data": {
      "text/plain": [
       "'9534330'"
      ]
     },
     "execution_count": 1,
     "metadata": {},
     "output_type": "execute_result"
    }
   ],
   "source": [
    "# https://leetcode.com/problems/largest-number/description/\n",
    "from functools import cmp_to_key\n",
    "def largestNumber(nums):\n",
    "    for i,n in enumerate(nums):\n",
    "        nums[i] = str(n)\n",
    "\n",
    "    def compare(n1,n2):\n",
    "        if n1+n2 >n2+n1:\n",
    "            return -1\n",
    "        else:\n",
    "            return 1\n",
    "\n",
    "    nums = sorted(nums,key=cmp_to_key(compare))\n",
    "    print(nums)\n",
    "\n",
    "    return str(int(''.join(nums)))\n",
    "\n",
    "largestNumber([3,30,34,5,9])"
   ]
  },
  {
   "cell_type": "code",
   "execution_count": null,
   "id": "7c76da95",
   "metadata": {},
   "outputs": [],
   "source": [
    "# https://leetcode.com/problems/sort-colors/description/\n",
    "def sortColors(nums):\n",
    "    l,m,h=0,0,len(nums)-1\n",
    "\n",
    "    while m<=h:\n",
    "        if nums[m]==0:\n",
    "            nums[l],nums[m]=nums[m],nums[l]\n",
    "            l+=1\n",
    "            m+=1\n",
    "        elif nums[m]==1:\n",
    "            m+=1\n",
    "        else:\n",
    "            nums[m],nums[h]=nums[h],nums[m]\n",
    "            h-=1\n",
    "    \n"
   ]
  },
  {
   "cell_type": "code",
   "execution_count": 1,
   "id": "78f67ca2",
   "metadata": {},
   "outputs": [
    {
     "name": "stdout",
     "output_type": "stream",
     "text": [
      "[1, 2, 2, 3, 5, 6]\n"
     ]
    }
   ],
   "source": [
    "# https://leetcode.com/problems/merge-sorted-array/description/\n",
    "\n",
    "def merge(nums1, m, nums2, n):\n",
    "    p1 = m-1\n",
    "    p2 = n-1\n",
    "    k = len(nums1)-1\n",
    "\n",
    "    while p1>=0 and p2>=0:\n",
    "        if nums1[p1]>nums2[p2]:\n",
    "            nums1[k] = nums1[p1]\n",
    "            k-=1\n",
    "            p1-=1\n",
    "        else:\n",
    "            nums1[k] = nums2[p2]\n",
    "            k-=1\n",
    "            p2-=1  \n",
    "    while p1>=0:\n",
    "        nums1[k] = nums1[p1]\n",
    "        k-=1\n",
    "        p1-=1\n",
    "    while p2>=0:\n",
    "        nums1[k] = nums2[p2]\n",
    "        k-=1\n",
    "        p2-=1 \n",
    "\n",
    "arr =[1,2,3,0,0,0]\n",
    "merge(arr,3,[2,5,6],3)\n",
    "print(arr)"
   ]
  },
  {
   "cell_type": "code",
   "execution_count": 2,
   "id": "65a60f08",
   "metadata": {},
   "outputs": [
    {
     "name": "stdout",
     "output_type": "stream",
     "text": [
      "[1, 6, 1, 5, 1, 4]\n"
     ]
    }
   ],
   "source": [
    "# https://leetcode.com/problems/wiggle-sort-ii/description/\n",
    "def wiggleSort(nums):\n",
    "    nums.sort()\n",
    "    n = len(nums)\n",
    "    result =[0]*n\n",
    "\n",
    "    j = n-1\n",
    "\n",
    "    for i in range(1,n,2):\n",
    "        result[i] = nums[j]\n",
    "        j-=1\n",
    "\n",
    "    for i in range(0,n,2):\n",
    "        result[i] = nums[j]\n",
    "        j-=1\n",
    "\n",
    "    for i in range(n):\n",
    "        nums[i] = result[i]\n",
    "\n",
    "arr = [1,5,1,1,6,4]\n",
    "wiggleSort(arr)\n",
    "print(arr)"
   ]
  },
  {
   "cell_type": "code",
   "execution_count": 1,
   "id": "716b8e69",
   "metadata": {},
   "outputs": [],
   "source": [
    "# https://leetcode.com/problems/greatest-common-divisor-of-strings/description/\n",
    "from math import gcd\n",
    "def gcdOfStrings(str1, str2):\n",
    "    if str1+str2!= str2+str1:\n",
    "        return ''\n",
    "    m = gcd(len(str1),len(str2))\n",
    "    return str1[:m]"
   ]
  },
  {
   "cell_type": "code",
   "execution_count": 2,
   "id": "04ac026d",
   "metadata": {},
   "outputs": [
    {
     "data": {
      "text/plain": [
       "1024.0"
      ]
     },
     "execution_count": 2,
     "metadata": {},
     "output_type": "execute_result"
    }
   ],
   "source": [
    "# https://leetcode.com/problems/powx-n/description/\n",
    "\n",
    "def solve(x,n):\n",
    "    if n==0:\n",
    "        return 1\n",
    "    if n<0:\n",
    "        return solve(1/x,-n)\n",
    "    \n",
    "    if n%2==0:\n",
    "        return solve(x*x,n/2)\n",
    "    if n%2!=0:\n",
    "        return x* solve(x*x,(n-1)/2)\n",
    "\n",
    "def myPow(x, n):\n",
    "    return solve(x,n)\n",
    "\n",
    "solve(2.00000,10)"
   ]
  },
  {
   "cell_type": "code",
   "execution_count": 16,
   "id": "e8aae97d",
   "metadata": {},
   "outputs": [
    {
     "name": "stdout",
     "output_type": "stream",
     "text": [
      "1\n"
     ]
    }
   ],
   "source": [
    "# https://www.propeers.in/roadmaps/686f517e881b549d7cd72269/factorial?todoItemId=686f779f63468d67c4e06a14\n",
    "\n",
    "def factorial(nums: int) -> int:\n",
    "    fact_store = [0]*(nums+1)\n",
    "    fact_store[0] = fact_store[1] = 1\n",
    "\n",
    "    def fact(n,fact_store):\n",
    "        if fact_store[n]!=0:\n",
    "            return fact_store[n]\n",
    "        res = n*fact(n-1,fact_store)\n",
    "        fact_store[n] = res\n",
    "        return res\n",
    "\n",
    "    def trailing_zeroes(n):\n",
    "        num = str(n)\n",
    "        count=0\n",
    "        j=len(num)-1\n",
    "        while j>0 and num[j]=='0':\n",
    "            count+=1\n",
    "            j-=1\n",
    "        return count\n",
    "\n",
    "    return trailing_zeroes(fact(nums,fact_store))\n",
    "\n",
    "print(factorial(5))"
   ]
  },
  {
   "cell_type": "code",
   "execution_count": 2,
   "id": "ebdf491f",
   "metadata": {},
   "outputs": [
    {
     "data": {
      "text/plain": [
       "4"
      ]
     },
     "execution_count": 2,
     "metadata": {},
     "output_type": "execute_result"
    }
   ],
   "source": [
    "# https://leetcode.com/problems/binary-search/description/\n",
    "def search(nums, target):\n",
    "    l,h = 0,len(nums)-1\n",
    "\n",
    "    while l<=h:\n",
    "        m = (l+h)//2\n",
    "        if nums[m] == target:\n",
    "            return m\n",
    "        elif nums[m]<target:\n",
    "            l=m+1\n",
    "        else:\n",
    "            h = m-1\n",
    "    return -1\n",
    "\n",
    "\n",
    "search([-1,0,3,5,9,12],9)"
   ]
  },
  {
   "cell_type": "code",
   "execution_count": 4,
   "id": "561e0092",
   "metadata": {},
   "outputs": [
    {
     "name": "stdout",
     "output_type": "stream",
     "text": [
      "[1, 2, 3, 5]\n"
     ]
    }
   ],
   "source": [
    "# https://leetcode.com/problems/sort-an-array/description/\n",
    "\n",
    "def sortArray(nums):\n",
    "\n",
    "    def merge(l,r):\n",
    "        i,j=0,0\n",
    "        res =[]\n",
    "        while i<len(l) and j< len(r):\n",
    "            if l[i]<l[j]:\n",
    "                res.append(l[i])\n",
    "                i+=1\n",
    "            else:\n",
    "                res.append(r[j])\n",
    "                j+=1\n",
    "        res.extend(l[i:])\n",
    "        res.extend(r[j:])\n",
    "        return res\n",
    "\n",
    "    def merge_sort(arr):\n",
    "        if len(arr)<=1:\n",
    "            return arr\n",
    "        m =(len(arr))//2\n",
    "        l = arr[:m]\n",
    "        r = arr[m:]\n",
    "        l = merge_sort(l)\n",
    "        r = merge_sort(r)\n",
    "        return merge(l,r)\n",
    "    return merge_sort(nums)\n",
    "    \n",
    "\n",
    "print(sortArray([5,2,3,1]))"
   ]
  },
  {
   "cell_type": "code",
   "execution_count": null,
   "id": "38c0ae30",
   "metadata": {},
   "outputs": [],
   "source": [
    "# https://leetcode.com/problems/decode-string/\n",
    "def decodeString(s):\n",
    "    "
   ]
  },
  {
   "cell_type": "code",
   "execution_count": null,
   "id": "c399d627",
   "metadata": {},
   "outputs": [],
   "source": [
    "https://leetcode.com/problems/maximum-value-at-a-given-index-in-a-bounded-array/description/"
   ]
  }
 ],
 "metadata": {
  "kernelspec": {
   "display_name": ".venv",
   "language": "python",
   "name": "python3"
  },
  "language_info": {
   "codemirror_mode": {
    "name": "ipython",
    "version": 3
   },
   "file_extension": ".py",
   "mimetype": "text/x-python",
   "name": "python",
   "nbconvert_exporter": "python",
   "pygments_lexer": "ipython3",
   "version": "3.12.0"
  }
 },
 "nbformat": 4,
 "nbformat_minor": 5
}
