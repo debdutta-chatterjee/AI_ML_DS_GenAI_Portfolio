{
 "cells": [
  {
   "cell_type": "code",
   "execution_count": null,
   "id": "71eb8fb9",
   "metadata": {},
   "outputs": [
    {
     "data": {
      "text/plain": [
       "True"
      ]
     },
     "execution_count": 6,
     "metadata": {},
     "output_type": "execute_result"
    }
   ],
   "source": [
    "#1. Find 2 elements with given sum\n",
    "\n",
    "arr = [0, -1, 2, -3, 1]\n",
    "target = -2\n",
    "\n",
    "def two_sum_hash(arr,target):\n",
    "    complement_hash = set()\n",
    "\n",
    "    for i in range(len(arr)):\n",
    "        complement = target - arr[i]\n",
    "        if complement in complement_hash:\n",
    "            return True\n",
    "        complement_hash.add(arr[i])\n",
    "    return False\n",
    "\n",
    "def two_sum(arr,target):\n",
    "    for i in range(len(arr)):\n",
    "        for j in range(i+1,len(arr)):\n",
    "            if(arr[i]+arr[j]==target):\n",
    "                return True\n",
    "    return False\n",
    "\n",
    "\n",
    "\n",
    "two_sum_hash(arr,target)"
   ]
  },
  {
   "cell_type": "code",
   "execution_count": 13,
   "id": "bc59fc99",
   "metadata": {},
   "outputs": [
    {
     "data": {
      "text/plain": [
       "True"
      ]
     },
     "execution_count": 13,
     "metadata": {},
     "output_type": "execute_result"
    }
   ],
   "source": [
    "# 2. Majority Element\n",
    "\n",
    "def majority_ele(arr):\n",
    "    count_map= {}\n",
    "    n = len(arr)//2\n",
    "    for i in arr:\n",
    "        if i in count_map:            \n",
    "            count_map[i] = count_map[i]+1\n",
    "            if count_map[i] > n:\n",
    "                return True\n",
    "        else:\n",
    "            count_map[i] = 1\n",
    "    \n",
    "arr = [1, 1, 2, 1, 3, 5, 1]\n",
    "majority_ele(arr)"
   ]
  },
  {
   "cell_type": "code",
   "execution_count": 15,
   "id": "619bb608",
   "metadata": {},
   "outputs": [
    {
     "name": "stdout",
     "output_type": "stream",
     "text": [
      "{1: 2, 2: 2, 3: 3}\n",
      "3 3\n",
      "{5: 3, 7: 2, 2: 2}\n",
      "5 3\n"
     ]
    }
   ],
   "source": [
    "# 3. Find the number occuring odd number of times\n",
    "\n",
    "#Given an array of positive integers. All numbers occur an even number \n",
    "# of times except one number which occurs an odd number of times. \n",
    "# Find the number in O(n) time & constant space.\n",
    "\n",
    "def find_odd(arr):\n",
    "    count_map ={}\n",
    "    for i in arr:\n",
    "        count_map[i] = count_map.get(i,0)+1\n",
    "\n",
    "    print(count_map)\n",
    "\n",
    "    for k,v in count_map.items():\n",
    "        if v%2 != 0:\n",
    "            print(k,v)\n",
    "            break\n",
    "\n",
    "arr = [1, 2, 3, 2, 3, 1, 3]\n",
    "find_odd(arr)\n",
    "\n",
    "arr = [5, 7, 2, 7, 5, 2, 5]\n",
    "find_odd(arr)"
   ]
  },
  {
   "cell_type": "code",
   "execution_count": null,
   "id": "3148678e",
   "metadata": {},
   "outputs": [],
   "source": [
    "# 4. Merge an array of size n into another of size m + n\n",
    "\n",
    "# There are two sorted arrays. First one is of size m+n \n",
    "# containing only m elements. Another one is of size n and \n",
    "# contains n elements. Merge these two arrays into the first \n",
    "# array of size m+n such that the output is sorted. \n",
    "# Input: array with m+n elements (mPlusN[]). \n",
    "\n",
    "\n",
    "mPlusN = [2, 8, 'NA', 'NA', 'NA', 13, 'NA', 15, 20]\n",
    "N = [5, 7, 9, 25]"
   ]
  },
  {
   "cell_type": "code",
   "execution_count": null,
   "id": "e6eaef34",
   "metadata": {},
   "outputs": [],
   "source": [
    "\n",
    "\n",
    "\n",
    " 5. Rotate an array\n",
    " 6. Leaders in an array\n",
    " 7. Majority element in sorted array\n",
    " 8. Segregate 0s and 1s in an array\n",
    " 9. Product array\n",
    " 10. Find 2 repeating elements\n",
    " 11. Find the smallest missing number\n",
    " 12. Find max j-i such that arr[j] > arr[i]\n",
    " 13. Find subarray with given sum\n",
    " 14. Find the smallest positive number missing from an unsorted array\n",
    " 15. Find 2 numbers with odd occurence\n",
    " 16. Largest subarray with equal number of 0s and 1s\n",
    " 17. Replace every element with the greatest on right side\n",
    " 18. Stock buy sell to maximize profit\n",
    " 19. Find common elements in 3 sorted arrays\n",
    " 20. Nuts and bolts problem\n",
    " 21. Trapping rain water\n",
    " 22. Merge 2 sorted arrays in O(1) space"
   ]
  }
 ],
 "metadata": {
  "kernelspec": {
   "display_name": ".venv",
   "language": "python",
   "name": "python3"
  },
  "language_info": {
   "codemirror_mode": {
    "name": "ipython",
    "version": 3
   },
   "file_extension": ".py",
   "mimetype": "text/x-python",
   "name": "python",
   "nbconvert_exporter": "python",
   "pygments_lexer": "ipython3",
   "version": "3.12.0"
  }
 },
 "nbformat": 4,
 "nbformat_minor": 5
}
